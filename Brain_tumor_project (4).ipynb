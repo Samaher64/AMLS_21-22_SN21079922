{
  "nbformat": 4,
  "nbformat_minor": 0,
  "metadata": {
    "colab": {
      "name": "Brain_tumor_project.ipynb",
      "provenance": [],
      "collapsed_sections": [
        "Sa9j_WhCr-Eq"
      ],
      "machine_shape": "hm"
    },
    "kernelspec": {
      "name": "python3",
      "display_name": "Python 3"
    },
    "language_info": {
      "name": "python"
    },
    "widgets": {
      "application/vnd.jupyter.widget-state+json": {
        "89031ddbaa324c569d2eb9151e06efbb": {
          "model_module": "@jupyter-widgets/controls",
          "model_name": "HBoxModel",
          "model_module_version": "1.5.0",
          "state": {
            "_view_name": "HBoxView",
            "_dom_classes": [],
            "_model_name": "HBoxModel",
            "_view_module": "@jupyter-widgets/controls",
            "_model_module_version": "1.5.0",
            "_view_count": null,
            "_view_module_version": "1.5.0",
            "box_style": "",
            "layout": "IPY_MODEL_43263891f076409882399dad5eafb499",
            "_model_module": "@jupyter-widgets/controls",
            "children": [
              "IPY_MODEL_4e555ecd1adf491f9261070446bc3f74",
              "IPY_MODEL_d3f6823bed274a668c3a8d3185561fc5",
              "IPY_MODEL_7542acd5549d4ea380ba005480bc0d8e"
            ]
          }
        },
        "43263891f076409882399dad5eafb499": {
          "model_module": "@jupyter-widgets/base",
          "model_name": "LayoutModel",
          "model_module_version": "1.2.0",
          "state": {
            "_view_name": "LayoutView",
            "grid_template_rows": null,
            "right": null,
            "justify_content": null,
            "_view_module": "@jupyter-widgets/base",
            "overflow": null,
            "_model_module_version": "1.2.0",
            "_view_count": null,
            "flex_flow": null,
            "width": null,
            "min_width": null,
            "border": null,
            "align_items": null,
            "bottom": null,
            "_model_module": "@jupyter-widgets/base",
            "top": null,
            "grid_column": null,
            "overflow_y": null,
            "overflow_x": null,
            "grid_auto_flow": null,
            "grid_area": null,
            "grid_template_columns": null,
            "flex": null,
            "_model_name": "LayoutModel",
            "justify_items": null,
            "grid_row": null,
            "max_height": null,
            "align_content": null,
            "visibility": null,
            "align_self": null,
            "height": null,
            "min_height": null,
            "padding": null,
            "grid_auto_rows": null,
            "grid_gap": null,
            "max_width": null,
            "order": null,
            "_view_module_version": "1.2.0",
            "grid_template_areas": null,
            "object_position": null,
            "object_fit": null,
            "grid_auto_columns": null,
            "margin": null,
            "display": null,
            "left": null
          }
        },
        "4e555ecd1adf491f9261070446bc3f74": {
          "model_module": "@jupyter-widgets/controls",
          "model_name": "HTMLModel",
          "model_module_version": "1.5.0",
          "state": {
            "_view_name": "HTMLView",
            "style": "IPY_MODEL_03017ef5dd494535aa2049fb8dd78a9f",
            "_dom_classes": [],
            "description": "",
            "_model_name": "HTMLModel",
            "placeholder": "​",
            "_view_module": "@jupyter-widgets/controls",
            "_model_module_version": "1.5.0",
            "value": "100%",
            "_view_count": null,
            "_view_module_version": "1.5.0",
            "description_tooltip": null,
            "_model_module": "@jupyter-widgets/controls",
            "layout": "IPY_MODEL_57bd6a8c3981477284f8a8d51223c02e"
          }
        },
        "d3f6823bed274a668c3a8d3185561fc5": {
          "model_module": "@jupyter-widgets/controls",
          "model_name": "FloatProgressModel",
          "model_module_version": "1.5.0",
          "state": {
            "_view_name": "ProgressView",
            "style": "IPY_MODEL_8d1aa689ae4c41a1a07a01931f03b62e",
            "_dom_classes": [],
            "description": "",
            "_model_name": "FloatProgressModel",
            "bar_style": "success",
            "max": 3000,
            "_view_module": "@jupyter-widgets/controls",
            "_model_module_version": "1.5.0",
            "value": 3000,
            "_view_count": null,
            "_view_module_version": "1.5.0",
            "orientation": "horizontal",
            "min": 0,
            "description_tooltip": null,
            "_model_module": "@jupyter-widgets/controls",
            "layout": "IPY_MODEL_fd0bdda59c9a47edb2e55230d19b6e05"
          }
        },
        "7542acd5549d4ea380ba005480bc0d8e": {
          "model_module": "@jupyter-widgets/controls",
          "model_name": "HTMLModel",
          "model_module_version": "1.5.0",
          "state": {
            "_view_name": "HTMLView",
            "style": "IPY_MODEL_f5cb7eabbf4a4944b8430470cbb9d809",
            "_dom_classes": [],
            "description": "",
            "_model_name": "HTMLModel",
            "placeholder": "​",
            "_view_module": "@jupyter-widgets/controls",
            "_model_module_version": "1.5.0",
            "value": " 3000/3000 [00:11&lt;00:00, 253.75it/s]",
            "_view_count": null,
            "_view_module_version": "1.5.0",
            "description_tooltip": null,
            "_model_module": "@jupyter-widgets/controls",
            "layout": "IPY_MODEL_474218fa65304c68b00d0e10170f4faa"
          }
        },
        "03017ef5dd494535aa2049fb8dd78a9f": {
          "model_module": "@jupyter-widgets/controls",
          "model_name": "DescriptionStyleModel",
          "model_module_version": "1.5.0",
          "state": {
            "_view_name": "StyleView",
            "_model_name": "DescriptionStyleModel",
            "description_width": "",
            "_view_module": "@jupyter-widgets/base",
            "_model_module_version": "1.5.0",
            "_view_count": null,
            "_view_module_version": "1.2.0",
            "_model_module": "@jupyter-widgets/controls"
          }
        },
        "57bd6a8c3981477284f8a8d51223c02e": {
          "model_module": "@jupyter-widgets/base",
          "model_name": "LayoutModel",
          "model_module_version": "1.2.0",
          "state": {
            "_view_name": "LayoutView",
            "grid_template_rows": null,
            "right": null,
            "justify_content": null,
            "_view_module": "@jupyter-widgets/base",
            "overflow": null,
            "_model_module_version": "1.2.0",
            "_view_count": null,
            "flex_flow": null,
            "width": null,
            "min_width": null,
            "border": null,
            "align_items": null,
            "bottom": null,
            "_model_module": "@jupyter-widgets/base",
            "top": null,
            "grid_column": null,
            "overflow_y": null,
            "overflow_x": null,
            "grid_auto_flow": null,
            "grid_area": null,
            "grid_template_columns": null,
            "flex": null,
            "_model_name": "LayoutModel",
            "justify_items": null,
            "grid_row": null,
            "max_height": null,
            "align_content": null,
            "visibility": null,
            "align_self": null,
            "height": null,
            "min_height": null,
            "padding": null,
            "grid_auto_rows": null,
            "grid_gap": null,
            "max_width": null,
            "order": null,
            "_view_module_version": "1.2.0",
            "grid_template_areas": null,
            "object_position": null,
            "object_fit": null,
            "grid_auto_columns": null,
            "margin": null,
            "display": null,
            "left": null
          }
        },
        "8d1aa689ae4c41a1a07a01931f03b62e": {
          "model_module": "@jupyter-widgets/controls",
          "model_name": "ProgressStyleModel",
          "model_module_version": "1.5.0",
          "state": {
            "_view_name": "StyleView",
            "_model_name": "ProgressStyleModel",
            "description_width": "",
            "_view_module": "@jupyter-widgets/base",
            "_model_module_version": "1.5.0",
            "_view_count": null,
            "_view_module_version": "1.2.0",
            "bar_color": null,
            "_model_module": "@jupyter-widgets/controls"
          }
        },
        "fd0bdda59c9a47edb2e55230d19b6e05": {
          "model_module": "@jupyter-widgets/base",
          "model_name": "LayoutModel",
          "model_module_version": "1.2.0",
          "state": {
            "_view_name": "LayoutView",
            "grid_template_rows": null,
            "right": null,
            "justify_content": null,
            "_view_module": "@jupyter-widgets/base",
            "overflow": null,
            "_model_module_version": "1.2.0",
            "_view_count": null,
            "flex_flow": null,
            "width": null,
            "min_width": null,
            "border": null,
            "align_items": null,
            "bottom": null,
            "_model_module": "@jupyter-widgets/base",
            "top": null,
            "grid_column": null,
            "overflow_y": null,
            "overflow_x": null,
            "grid_auto_flow": null,
            "grid_area": null,
            "grid_template_columns": null,
            "flex": null,
            "_model_name": "LayoutModel",
            "justify_items": null,
            "grid_row": null,
            "max_height": null,
            "align_content": null,
            "visibility": null,
            "align_self": null,
            "height": null,
            "min_height": null,
            "padding": null,
            "grid_auto_rows": null,
            "grid_gap": null,
            "max_width": null,
            "order": null,
            "_view_module_version": "1.2.0",
            "grid_template_areas": null,
            "object_position": null,
            "object_fit": null,
            "grid_auto_columns": null,
            "margin": null,
            "display": null,
            "left": null
          }
        },
        "f5cb7eabbf4a4944b8430470cbb9d809": {
          "model_module": "@jupyter-widgets/controls",
          "model_name": "DescriptionStyleModel",
          "model_module_version": "1.5.0",
          "state": {
            "_view_name": "StyleView",
            "_model_name": "DescriptionStyleModel",
            "description_width": "",
            "_view_module": "@jupyter-widgets/base",
            "_model_module_version": "1.5.0",
            "_view_count": null,
            "_view_module_version": "1.2.0",
            "_model_module": "@jupyter-widgets/controls"
          }
        },
        "474218fa65304c68b00d0e10170f4faa": {
          "model_module": "@jupyter-widgets/base",
          "model_name": "LayoutModel",
          "model_module_version": "1.2.0",
          "state": {
            "_view_name": "LayoutView",
            "grid_template_rows": null,
            "right": null,
            "justify_content": null,
            "_view_module": "@jupyter-widgets/base",
            "overflow": null,
            "_model_module_version": "1.2.0",
            "_view_count": null,
            "flex_flow": null,
            "width": null,
            "min_width": null,
            "border": null,
            "align_items": null,
            "bottom": null,
            "_model_module": "@jupyter-widgets/base",
            "top": null,
            "grid_column": null,
            "overflow_y": null,
            "overflow_x": null,
            "grid_auto_flow": null,
            "grid_area": null,
            "grid_template_columns": null,
            "flex": null,
            "_model_name": "LayoutModel",
            "justify_items": null,
            "grid_row": null,
            "max_height": null,
            "align_content": null,
            "visibility": null,
            "align_self": null,
            "height": null,
            "min_height": null,
            "padding": null,
            "grid_auto_rows": null,
            "grid_gap": null,
            "max_width": null,
            "order": null,
            "_view_module_version": "1.2.0",
            "grid_template_areas": null,
            "object_position": null,
            "object_fit": null,
            "grid_auto_columns": null,
            "margin": null,
            "display": null,
            "left": null
          }
        },
        "6edca9c4726d4080a41d536c9b0cfa16": {
          "model_module": "@jupyter-widgets/controls",
          "model_name": "HBoxModel",
          "model_module_version": "1.5.0",
          "state": {
            "_view_name": "HBoxView",
            "_dom_classes": [],
            "_model_name": "HBoxModel",
            "_view_module": "@jupyter-widgets/controls",
            "_model_module_version": "1.5.0",
            "_view_count": null,
            "_view_module_version": "1.5.0",
            "box_style": "",
            "layout": "IPY_MODEL_35239bf3a9fe4ea49a7e4ef811c4b86a",
            "_model_module": "@jupyter-widgets/controls",
            "children": [
              "IPY_MODEL_595960ec54a44235953284c62a52660e",
              "IPY_MODEL_df3cc726c1ea400c99f3bad5f1dd9cd9",
              "IPY_MODEL_f082a93c305d4e0ab01b238a7602f073"
            ]
          }
        },
        "35239bf3a9fe4ea49a7e4ef811c4b86a": {
          "model_module": "@jupyter-widgets/base",
          "model_name": "LayoutModel",
          "model_module_version": "1.2.0",
          "state": {
            "_view_name": "LayoutView",
            "grid_template_rows": null,
            "right": null,
            "justify_content": null,
            "_view_module": "@jupyter-widgets/base",
            "overflow": null,
            "_model_module_version": "1.2.0",
            "_view_count": null,
            "flex_flow": null,
            "width": null,
            "min_width": null,
            "border": null,
            "align_items": null,
            "bottom": null,
            "_model_module": "@jupyter-widgets/base",
            "top": null,
            "grid_column": null,
            "overflow_y": null,
            "overflow_x": null,
            "grid_auto_flow": null,
            "grid_area": null,
            "grid_template_columns": null,
            "flex": null,
            "_model_name": "LayoutModel",
            "justify_items": null,
            "grid_row": null,
            "max_height": null,
            "align_content": null,
            "visibility": null,
            "align_self": null,
            "height": null,
            "min_height": null,
            "padding": null,
            "grid_auto_rows": null,
            "grid_gap": null,
            "max_width": null,
            "order": null,
            "_view_module_version": "1.2.0",
            "grid_template_areas": null,
            "object_position": null,
            "object_fit": null,
            "grid_auto_columns": null,
            "margin": null,
            "display": null,
            "left": null
          }
        },
        "595960ec54a44235953284c62a52660e": {
          "model_module": "@jupyter-widgets/controls",
          "model_name": "HTMLModel",
          "model_module_version": "1.5.0",
          "state": {
            "_view_name": "HTMLView",
            "style": "IPY_MODEL_401ad886da2f404c94f85e6aa70709b7",
            "_dom_classes": [],
            "description": "",
            "_model_name": "HTMLModel",
            "placeholder": "​",
            "_view_module": "@jupyter-widgets/controls",
            "_model_module_version": "1.5.0",
            "value": "100%",
            "_view_count": null,
            "_view_module_version": "1.5.0",
            "description_tooltip": null,
            "_model_module": "@jupyter-widgets/controls",
            "layout": "IPY_MODEL_dc2c50e864114e4e8f097f824ac9fc0d"
          }
        },
        "df3cc726c1ea400c99f3bad5f1dd9cd9": {
          "model_module": "@jupyter-widgets/controls",
          "model_name": "FloatProgressModel",
          "model_module_version": "1.5.0",
          "state": {
            "_view_name": "ProgressView",
            "style": "IPY_MODEL_05aeb93179dc423ca2682aac9c3eae93",
            "_dom_classes": [],
            "description": "",
            "_model_name": "FloatProgressModel",
            "bar_style": "success",
            "max": 2400,
            "_view_module": "@jupyter-widgets/controls",
            "_model_module_version": "1.5.0",
            "value": 2400,
            "_view_count": null,
            "_view_module_version": "1.5.0",
            "orientation": "horizontal",
            "min": 0,
            "description_tooltip": null,
            "_model_module": "@jupyter-widgets/controls",
            "layout": "IPY_MODEL_d43bdba9d78244c6bfb02342f4b247fc"
          }
        },
        "f082a93c305d4e0ab01b238a7602f073": {
          "model_module": "@jupyter-widgets/controls",
          "model_name": "HTMLModel",
          "model_module_version": "1.5.0",
          "state": {
            "_view_name": "HTMLView",
            "style": "IPY_MODEL_b442477fd9c3465a835043bc062216cd",
            "_dom_classes": [],
            "description": "",
            "_model_name": "HTMLModel",
            "placeholder": "​",
            "_view_module": "@jupyter-widgets/controls",
            "_model_module_version": "1.5.0",
            "value": " 2400/2400 [00:19&lt;00:00, 71.62it/s]",
            "_view_count": null,
            "_view_module_version": "1.5.0",
            "description_tooltip": null,
            "_model_module": "@jupyter-widgets/controls",
            "layout": "IPY_MODEL_b6d8f6e015c64525b078eb610bcf7123"
          }
        },
        "401ad886da2f404c94f85e6aa70709b7": {
          "model_module": "@jupyter-widgets/controls",
          "model_name": "DescriptionStyleModel",
          "model_module_version": "1.5.0",
          "state": {
            "_view_name": "StyleView",
            "_model_name": "DescriptionStyleModel",
            "description_width": "",
            "_view_module": "@jupyter-widgets/base",
            "_model_module_version": "1.5.0",
            "_view_count": null,
            "_view_module_version": "1.2.0",
            "_model_module": "@jupyter-widgets/controls"
          }
        },
        "dc2c50e864114e4e8f097f824ac9fc0d": {
          "model_module": "@jupyter-widgets/base",
          "model_name": "LayoutModel",
          "model_module_version": "1.2.0",
          "state": {
            "_view_name": "LayoutView",
            "grid_template_rows": null,
            "right": null,
            "justify_content": null,
            "_view_module": "@jupyter-widgets/base",
            "overflow": null,
            "_model_module_version": "1.2.0",
            "_view_count": null,
            "flex_flow": null,
            "width": null,
            "min_width": null,
            "border": null,
            "align_items": null,
            "bottom": null,
            "_model_module": "@jupyter-widgets/base",
            "top": null,
            "grid_column": null,
            "overflow_y": null,
            "overflow_x": null,
            "grid_auto_flow": null,
            "grid_area": null,
            "grid_template_columns": null,
            "flex": null,
            "_model_name": "LayoutModel",
            "justify_items": null,
            "grid_row": null,
            "max_height": null,
            "align_content": null,
            "visibility": null,
            "align_self": null,
            "height": null,
            "min_height": null,
            "padding": null,
            "grid_auto_rows": null,
            "grid_gap": null,
            "max_width": null,
            "order": null,
            "_view_module_version": "1.2.0",
            "grid_template_areas": null,
            "object_position": null,
            "object_fit": null,
            "grid_auto_columns": null,
            "margin": null,
            "display": null,
            "left": null
          }
        },
        "05aeb93179dc423ca2682aac9c3eae93": {
          "model_module": "@jupyter-widgets/controls",
          "model_name": "ProgressStyleModel",
          "model_module_version": "1.5.0",
          "state": {
            "_view_name": "StyleView",
            "_model_name": "ProgressStyleModel",
            "description_width": "",
            "_view_module": "@jupyter-widgets/base",
            "_model_module_version": "1.5.0",
            "_view_count": null,
            "_view_module_version": "1.2.0",
            "bar_color": null,
            "_model_module": "@jupyter-widgets/controls"
          }
        },
        "d43bdba9d78244c6bfb02342f4b247fc": {
          "model_module": "@jupyter-widgets/base",
          "model_name": "LayoutModel",
          "model_module_version": "1.2.0",
          "state": {
            "_view_name": "LayoutView",
            "grid_template_rows": null,
            "right": null,
            "justify_content": null,
            "_view_module": "@jupyter-widgets/base",
            "overflow": null,
            "_model_module_version": "1.2.0",
            "_view_count": null,
            "flex_flow": null,
            "width": null,
            "min_width": null,
            "border": null,
            "align_items": null,
            "bottom": null,
            "_model_module": "@jupyter-widgets/base",
            "top": null,
            "grid_column": null,
            "overflow_y": null,
            "overflow_x": null,
            "grid_auto_flow": null,
            "grid_area": null,
            "grid_template_columns": null,
            "flex": null,
            "_model_name": "LayoutModel",
            "justify_items": null,
            "grid_row": null,
            "max_height": null,
            "align_content": null,
            "visibility": null,
            "align_self": null,
            "height": null,
            "min_height": null,
            "padding": null,
            "grid_auto_rows": null,
            "grid_gap": null,
            "max_width": null,
            "order": null,
            "_view_module_version": "1.2.0",
            "grid_template_areas": null,
            "object_position": null,
            "object_fit": null,
            "grid_auto_columns": null,
            "margin": null,
            "display": null,
            "left": null
          }
        },
        "b442477fd9c3465a835043bc062216cd": {
          "model_module": "@jupyter-widgets/controls",
          "model_name": "DescriptionStyleModel",
          "model_module_version": "1.5.0",
          "state": {
            "_view_name": "StyleView",
            "_model_name": "DescriptionStyleModel",
            "description_width": "",
            "_view_module": "@jupyter-widgets/base",
            "_model_module_version": "1.5.0",
            "_view_count": null,
            "_view_module_version": "1.2.0",
            "_model_module": "@jupyter-widgets/controls"
          }
        },
        "b6d8f6e015c64525b078eb610bcf7123": {
          "model_module": "@jupyter-widgets/base",
          "model_name": "LayoutModel",
          "model_module_version": "1.2.0",
          "state": {
            "_view_name": "LayoutView",
            "grid_template_rows": null,
            "right": null,
            "justify_content": null,
            "_view_module": "@jupyter-widgets/base",
            "overflow": null,
            "_model_module_version": "1.2.0",
            "_view_count": null,
            "flex_flow": null,
            "width": null,
            "min_width": null,
            "border": null,
            "align_items": null,
            "bottom": null,
            "_model_module": "@jupyter-widgets/base",
            "top": null,
            "grid_column": null,
            "overflow_y": null,
            "overflow_x": null,
            "grid_auto_flow": null,
            "grid_area": null,
            "grid_template_columns": null,
            "flex": null,
            "_model_name": "LayoutModel",
            "justify_items": null,
            "grid_row": null,
            "max_height": null,
            "align_content": null,
            "visibility": null,
            "align_self": null,
            "height": null,
            "min_height": null,
            "padding": null,
            "grid_auto_rows": null,
            "grid_gap": null,
            "max_width": null,
            "order": null,
            "_view_module_version": "1.2.0",
            "grid_template_areas": null,
            "object_position": null,
            "object_fit": null,
            "grid_auto_columns": null,
            "margin": null,
            "display": null,
            "left": null
          }
        },
        "2a5395e820f443469c6724f72c4e84ef": {
          "model_module": "@jupyter-widgets/controls",
          "model_name": "HBoxModel",
          "model_module_version": "1.5.0",
          "state": {
            "_view_name": "HBoxView",
            "_dom_classes": [],
            "_model_name": "HBoxModel",
            "_view_module": "@jupyter-widgets/controls",
            "_model_module_version": "1.5.0",
            "_view_count": null,
            "_view_module_version": "1.5.0",
            "box_style": "",
            "layout": "IPY_MODEL_a2d63316508c4923beb759fbbe9883d8",
            "_model_module": "@jupyter-widgets/controls",
            "children": [
              "IPY_MODEL_444b2a95e6524e56850455d09c19abb8",
              "IPY_MODEL_25d0416bd3c846c9a932650780bc219a",
              "IPY_MODEL_683ce8d49f664579aea1d00037a8df5d"
            ]
          }
        },
        "a2d63316508c4923beb759fbbe9883d8": {
          "model_module": "@jupyter-widgets/base",
          "model_name": "LayoutModel",
          "model_module_version": "1.2.0",
          "state": {
            "_view_name": "LayoutView",
            "grid_template_rows": null,
            "right": null,
            "justify_content": null,
            "_view_module": "@jupyter-widgets/base",
            "overflow": null,
            "_model_module_version": "1.2.0",
            "_view_count": null,
            "flex_flow": null,
            "width": null,
            "min_width": null,
            "border": null,
            "align_items": null,
            "bottom": null,
            "_model_module": "@jupyter-widgets/base",
            "top": null,
            "grid_column": null,
            "overflow_y": null,
            "overflow_x": null,
            "grid_auto_flow": null,
            "grid_area": null,
            "grid_template_columns": null,
            "flex": null,
            "_model_name": "LayoutModel",
            "justify_items": null,
            "grid_row": null,
            "max_height": null,
            "align_content": null,
            "visibility": null,
            "align_self": null,
            "height": null,
            "min_height": null,
            "padding": null,
            "grid_auto_rows": null,
            "grid_gap": null,
            "max_width": null,
            "order": null,
            "_view_module_version": "1.2.0",
            "grid_template_areas": null,
            "object_position": null,
            "object_fit": null,
            "grid_auto_columns": null,
            "margin": null,
            "display": null,
            "left": null
          }
        },
        "444b2a95e6524e56850455d09c19abb8": {
          "model_module": "@jupyter-widgets/controls",
          "model_name": "HTMLModel",
          "model_module_version": "1.5.0",
          "state": {
            "_view_name": "HTMLView",
            "style": "IPY_MODEL_8f64efdd11c045588f67c5f301325bdf",
            "_dom_classes": [],
            "description": "",
            "_model_name": "HTMLModel",
            "placeholder": "​",
            "_view_module": "@jupyter-widgets/controls",
            "_model_module_version": "1.5.0",
            "value": "100%",
            "_view_count": null,
            "_view_module_version": "1.5.0",
            "description_tooltip": null,
            "_model_module": "@jupyter-widgets/controls",
            "layout": "IPY_MODEL_5351f14be4b04b359bec58071cca42fa"
          }
        },
        "25d0416bd3c846c9a932650780bc219a": {
          "model_module": "@jupyter-widgets/controls",
          "model_name": "FloatProgressModel",
          "model_module_version": "1.5.0",
          "state": {
            "_view_name": "ProgressView",
            "style": "IPY_MODEL_f06c494e19204074b671a406779e0a59",
            "_dom_classes": [],
            "description": "",
            "_model_name": "FloatProgressModel",
            "bar_style": "success",
            "max": 2400,
            "_view_module": "@jupyter-widgets/controls",
            "_model_module_version": "1.5.0",
            "value": 2400,
            "_view_count": null,
            "_view_module_version": "1.5.0",
            "orientation": "horizontal",
            "min": 0,
            "description_tooltip": null,
            "_model_module": "@jupyter-widgets/controls",
            "layout": "IPY_MODEL_3bb96c96ecd74598a0111712b00dfdb7"
          }
        },
        "683ce8d49f664579aea1d00037a8df5d": {
          "model_module": "@jupyter-widgets/controls",
          "model_name": "HTMLModel",
          "model_module_version": "1.5.0",
          "state": {
            "_view_name": "HTMLView",
            "style": "IPY_MODEL_8b44def2e39c473b9cc94ff01049b384",
            "_dom_classes": [],
            "description": "",
            "_model_name": "HTMLModel",
            "placeholder": "​",
            "_view_module": "@jupyter-widgets/controls",
            "_model_module_version": "1.5.0",
            "value": " 2400/2400 [00:17&lt;00:00, 181.31it/s]",
            "_view_count": null,
            "_view_module_version": "1.5.0",
            "description_tooltip": null,
            "_model_module": "@jupyter-widgets/controls",
            "layout": "IPY_MODEL_8ad56cbbce524195b93ade098540a566"
          }
        },
        "8f64efdd11c045588f67c5f301325bdf": {
          "model_module": "@jupyter-widgets/controls",
          "model_name": "DescriptionStyleModel",
          "model_module_version": "1.5.0",
          "state": {
            "_view_name": "StyleView",
            "_model_name": "DescriptionStyleModel",
            "description_width": "",
            "_view_module": "@jupyter-widgets/base",
            "_model_module_version": "1.5.0",
            "_view_count": null,
            "_view_module_version": "1.2.0",
            "_model_module": "@jupyter-widgets/controls"
          }
        },
        "5351f14be4b04b359bec58071cca42fa": {
          "model_module": "@jupyter-widgets/base",
          "model_name": "LayoutModel",
          "model_module_version": "1.2.0",
          "state": {
            "_view_name": "LayoutView",
            "grid_template_rows": null,
            "right": null,
            "justify_content": null,
            "_view_module": "@jupyter-widgets/base",
            "overflow": null,
            "_model_module_version": "1.2.0",
            "_view_count": null,
            "flex_flow": null,
            "width": null,
            "min_width": null,
            "border": null,
            "align_items": null,
            "bottom": null,
            "_model_module": "@jupyter-widgets/base",
            "top": null,
            "grid_column": null,
            "overflow_y": null,
            "overflow_x": null,
            "grid_auto_flow": null,
            "grid_area": null,
            "grid_template_columns": null,
            "flex": null,
            "_model_name": "LayoutModel",
            "justify_items": null,
            "grid_row": null,
            "max_height": null,
            "align_content": null,
            "visibility": null,
            "align_self": null,
            "height": null,
            "min_height": null,
            "padding": null,
            "grid_auto_rows": null,
            "grid_gap": null,
            "max_width": null,
            "order": null,
            "_view_module_version": "1.2.0",
            "grid_template_areas": null,
            "object_position": null,
            "object_fit": null,
            "grid_auto_columns": null,
            "margin": null,
            "display": null,
            "left": null
          }
        },
        "f06c494e19204074b671a406779e0a59": {
          "model_module": "@jupyter-widgets/controls",
          "model_name": "ProgressStyleModel",
          "model_module_version": "1.5.0",
          "state": {
            "_view_name": "StyleView",
            "_model_name": "ProgressStyleModel",
            "description_width": "",
            "_view_module": "@jupyter-widgets/base",
            "_model_module_version": "1.5.0",
            "_view_count": null,
            "_view_module_version": "1.2.0",
            "bar_color": null,
            "_model_module": "@jupyter-widgets/controls"
          }
        },
        "3bb96c96ecd74598a0111712b00dfdb7": {
          "model_module": "@jupyter-widgets/base",
          "model_name": "LayoutModel",
          "model_module_version": "1.2.0",
          "state": {
            "_view_name": "LayoutView",
            "grid_template_rows": null,
            "right": null,
            "justify_content": null,
            "_view_module": "@jupyter-widgets/base",
            "overflow": null,
            "_model_module_version": "1.2.0",
            "_view_count": null,
            "flex_flow": null,
            "width": null,
            "min_width": null,
            "border": null,
            "align_items": null,
            "bottom": null,
            "_model_module": "@jupyter-widgets/base",
            "top": null,
            "grid_column": null,
            "overflow_y": null,
            "overflow_x": null,
            "grid_auto_flow": null,
            "grid_area": null,
            "grid_template_columns": null,
            "flex": null,
            "_model_name": "LayoutModel",
            "justify_items": null,
            "grid_row": null,
            "max_height": null,
            "align_content": null,
            "visibility": null,
            "align_self": null,
            "height": null,
            "min_height": null,
            "padding": null,
            "grid_auto_rows": null,
            "grid_gap": null,
            "max_width": null,
            "order": null,
            "_view_module_version": "1.2.0",
            "grid_template_areas": null,
            "object_position": null,
            "object_fit": null,
            "grid_auto_columns": null,
            "margin": null,
            "display": null,
            "left": null
          }
        },
        "8b44def2e39c473b9cc94ff01049b384": {
          "model_module": "@jupyter-widgets/controls",
          "model_name": "DescriptionStyleModel",
          "model_module_version": "1.5.0",
          "state": {
            "_view_name": "StyleView",
            "_model_name": "DescriptionStyleModel",
            "description_width": "",
            "_view_module": "@jupyter-widgets/base",
            "_model_module_version": "1.5.0",
            "_view_count": null,
            "_view_module_version": "1.2.0",
            "_model_module": "@jupyter-widgets/controls"
          }
        },
        "8ad56cbbce524195b93ade098540a566": {
          "model_module": "@jupyter-widgets/base",
          "model_name": "LayoutModel",
          "model_module_version": "1.2.0",
          "state": {
            "_view_name": "LayoutView",
            "grid_template_rows": null,
            "right": null,
            "justify_content": null,
            "_view_module": "@jupyter-widgets/base",
            "overflow": null,
            "_model_module_version": "1.2.0",
            "_view_count": null,
            "flex_flow": null,
            "width": null,
            "min_width": null,
            "border": null,
            "align_items": null,
            "bottom": null,
            "_model_module": "@jupyter-widgets/base",
            "top": null,
            "grid_column": null,
            "overflow_y": null,
            "overflow_x": null,
            "grid_auto_flow": null,
            "grid_area": null,
            "grid_template_columns": null,
            "flex": null,
            "_model_name": "LayoutModel",
            "justify_items": null,
            "grid_row": null,
            "max_height": null,
            "align_content": null,
            "visibility": null,
            "align_self": null,
            "height": null,
            "min_height": null,
            "padding": null,
            "grid_auto_rows": null,
            "grid_gap": null,
            "max_width": null,
            "order": null,
            "_view_module_version": "1.2.0",
            "grid_template_areas": null,
            "object_position": null,
            "object_fit": null,
            "grid_auto_columns": null,
            "margin": null,
            "display": null,
            "left": null
          }
        },
        "a6605f366dac4911867cf43ac74b2103": {
          "model_module": "@jupyter-widgets/controls",
          "model_name": "HBoxModel",
          "model_module_version": "1.5.0",
          "state": {
            "_view_name": "HBoxView",
            "_dom_classes": [],
            "_model_name": "HBoxModel",
            "_view_module": "@jupyter-widgets/controls",
            "_model_module_version": "1.5.0",
            "_view_count": null,
            "_view_module_version": "1.5.0",
            "box_style": "",
            "layout": "IPY_MODEL_d9ff1ac6125548bd99613fc82f66cc3e",
            "_model_module": "@jupyter-widgets/controls",
            "children": [
              "IPY_MODEL_cfbea703ea6c47568aac08a246bd303f",
              "IPY_MODEL_c57da697f6664fdeb54710ad031bfb9f",
              "IPY_MODEL_803b5bf92ee042868d934393001bd2e5"
            ]
          }
        },
        "d9ff1ac6125548bd99613fc82f66cc3e": {
          "model_module": "@jupyter-widgets/base",
          "model_name": "LayoutModel",
          "model_module_version": "1.2.0",
          "state": {
            "_view_name": "LayoutView",
            "grid_template_rows": null,
            "right": null,
            "justify_content": null,
            "_view_module": "@jupyter-widgets/base",
            "overflow": null,
            "_model_module_version": "1.2.0",
            "_view_count": null,
            "flex_flow": null,
            "width": null,
            "min_width": null,
            "border": null,
            "align_items": null,
            "bottom": null,
            "_model_module": "@jupyter-widgets/base",
            "top": null,
            "grid_column": null,
            "overflow_y": null,
            "overflow_x": null,
            "grid_auto_flow": null,
            "grid_area": null,
            "grid_template_columns": null,
            "flex": null,
            "_model_name": "LayoutModel",
            "justify_items": null,
            "grid_row": null,
            "max_height": null,
            "align_content": null,
            "visibility": null,
            "align_self": null,
            "height": null,
            "min_height": null,
            "padding": null,
            "grid_auto_rows": null,
            "grid_gap": null,
            "max_width": null,
            "order": null,
            "_view_module_version": "1.2.0",
            "grid_template_areas": null,
            "object_position": null,
            "object_fit": null,
            "grid_auto_columns": null,
            "margin": null,
            "display": null,
            "left": null
          }
        },
        "cfbea703ea6c47568aac08a246bd303f": {
          "model_module": "@jupyter-widgets/controls",
          "model_name": "HTMLModel",
          "model_module_version": "1.5.0",
          "state": {
            "_view_name": "HTMLView",
            "style": "IPY_MODEL_733191f1d8514a4fa8afeb9a9cd5e894",
            "_dom_classes": [],
            "description": "",
            "_model_name": "HTMLModel",
            "placeholder": "​",
            "_view_module": "@jupyter-widgets/controls",
            "_model_module_version": "1.5.0",
            "value": "100%",
            "_view_count": null,
            "_view_module_version": "1.5.0",
            "description_tooltip": null,
            "_model_module": "@jupyter-widgets/controls",
            "layout": "IPY_MODEL_7e409f1806544525839fd7cc195b8f42"
          }
        },
        "c57da697f6664fdeb54710ad031bfb9f": {
          "model_module": "@jupyter-widgets/controls",
          "model_name": "FloatProgressModel",
          "model_module_version": "1.5.0",
          "state": {
            "_view_name": "ProgressView",
            "style": "IPY_MODEL_86f771294f7d471a83254bbf26c649e3",
            "_dom_classes": [],
            "description": "",
            "_model_name": "FloatProgressModel",
            "bar_style": "success",
            "max": 600,
            "_view_module": "@jupyter-widgets/controls",
            "_model_module_version": "1.5.0",
            "value": 600,
            "_view_count": null,
            "_view_module_version": "1.5.0",
            "orientation": "horizontal",
            "min": 0,
            "description_tooltip": null,
            "_model_module": "@jupyter-widgets/controls",
            "layout": "IPY_MODEL_baa29e05686845928abd3596a7bdc1dd"
          }
        },
        "803b5bf92ee042868d934393001bd2e5": {
          "model_module": "@jupyter-widgets/controls",
          "model_name": "HTMLModel",
          "model_module_version": "1.5.0",
          "state": {
            "_view_name": "HTMLView",
            "style": "IPY_MODEL_a3d0f4c0a79840f5972dc3ede465d526",
            "_dom_classes": [],
            "description": "",
            "_model_name": "HTMLModel",
            "placeholder": "​",
            "_view_module": "@jupyter-widgets/controls",
            "_model_module_version": "1.5.0",
            "value": " 600/600 [00:06&lt;00:00, 82.72it/s]",
            "_view_count": null,
            "_view_module_version": "1.5.0",
            "description_tooltip": null,
            "_model_module": "@jupyter-widgets/controls",
            "layout": "IPY_MODEL_4f57142e2b39484f936f1d32873455d4"
          }
        },
        "733191f1d8514a4fa8afeb9a9cd5e894": {
          "model_module": "@jupyter-widgets/controls",
          "model_name": "DescriptionStyleModel",
          "model_module_version": "1.5.0",
          "state": {
            "_view_name": "StyleView",
            "_model_name": "DescriptionStyleModel",
            "description_width": "",
            "_view_module": "@jupyter-widgets/base",
            "_model_module_version": "1.5.0",
            "_view_count": null,
            "_view_module_version": "1.2.0",
            "_model_module": "@jupyter-widgets/controls"
          }
        },
        "7e409f1806544525839fd7cc195b8f42": {
          "model_module": "@jupyter-widgets/base",
          "model_name": "LayoutModel",
          "model_module_version": "1.2.0",
          "state": {
            "_view_name": "LayoutView",
            "grid_template_rows": null,
            "right": null,
            "justify_content": null,
            "_view_module": "@jupyter-widgets/base",
            "overflow": null,
            "_model_module_version": "1.2.0",
            "_view_count": null,
            "flex_flow": null,
            "width": null,
            "min_width": null,
            "border": null,
            "align_items": null,
            "bottom": null,
            "_model_module": "@jupyter-widgets/base",
            "top": null,
            "grid_column": null,
            "overflow_y": null,
            "overflow_x": null,
            "grid_auto_flow": null,
            "grid_area": null,
            "grid_template_columns": null,
            "flex": null,
            "_model_name": "LayoutModel",
            "justify_items": null,
            "grid_row": null,
            "max_height": null,
            "align_content": null,
            "visibility": null,
            "align_self": null,
            "height": null,
            "min_height": null,
            "padding": null,
            "grid_auto_rows": null,
            "grid_gap": null,
            "max_width": null,
            "order": null,
            "_view_module_version": "1.2.0",
            "grid_template_areas": null,
            "object_position": null,
            "object_fit": null,
            "grid_auto_columns": null,
            "margin": null,
            "display": null,
            "left": null
          }
        },
        "86f771294f7d471a83254bbf26c649e3": {
          "model_module": "@jupyter-widgets/controls",
          "model_name": "ProgressStyleModel",
          "model_module_version": "1.5.0",
          "state": {
            "_view_name": "StyleView",
            "_model_name": "ProgressStyleModel",
            "description_width": "",
            "_view_module": "@jupyter-widgets/base",
            "_model_module_version": "1.5.0",
            "_view_count": null,
            "_view_module_version": "1.2.0",
            "bar_color": null,
            "_model_module": "@jupyter-widgets/controls"
          }
        },
        "baa29e05686845928abd3596a7bdc1dd": {
          "model_module": "@jupyter-widgets/base",
          "model_name": "LayoutModel",
          "model_module_version": "1.2.0",
          "state": {
            "_view_name": "LayoutView",
            "grid_template_rows": null,
            "right": null,
            "justify_content": null,
            "_view_module": "@jupyter-widgets/base",
            "overflow": null,
            "_model_module_version": "1.2.0",
            "_view_count": null,
            "flex_flow": null,
            "width": null,
            "min_width": null,
            "border": null,
            "align_items": null,
            "bottom": null,
            "_model_module": "@jupyter-widgets/base",
            "top": null,
            "grid_column": null,
            "overflow_y": null,
            "overflow_x": null,
            "grid_auto_flow": null,
            "grid_area": null,
            "grid_template_columns": null,
            "flex": null,
            "_model_name": "LayoutModel",
            "justify_items": null,
            "grid_row": null,
            "max_height": null,
            "align_content": null,
            "visibility": null,
            "align_self": null,
            "height": null,
            "min_height": null,
            "padding": null,
            "grid_auto_rows": null,
            "grid_gap": null,
            "max_width": null,
            "order": null,
            "_view_module_version": "1.2.0",
            "grid_template_areas": null,
            "object_position": null,
            "object_fit": null,
            "grid_auto_columns": null,
            "margin": null,
            "display": null,
            "left": null
          }
        },
        "a3d0f4c0a79840f5972dc3ede465d526": {
          "model_module": "@jupyter-widgets/controls",
          "model_name": "DescriptionStyleModel",
          "model_module_version": "1.5.0",
          "state": {
            "_view_name": "StyleView",
            "_model_name": "DescriptionStyleModel",
            "description_width": "",
            "_view_module": "@jupyter-widgets/base",
            "_model_module_version": "1.5.0",
            "_view_count": null,
            "_view_module_version": "1.2.0",
            "_model_module": "@jupyter-widgets/controls"
          }
        },
        "4f57142e2b39484f936f1d32873455d4": {
          "model_module": "@jupyter-widgets/base",
          "model_name": "LayoutModel",
          "model_module_version": "1.2.0",
          "state": {
            "_view_name": "LayoutView",
            "grid_template_rows": null,
            "right": null,
            "justify_content": null,
            "_view_module": "@jupyter-widgets/base",
            "overflow": null,
            "_model_module_version": "1.2.0",
            "_view_count": null,
            "flex_flow": null,
            "width": null,
            "min_width": null,
            "border": null,
            "align_items": null,
            "bottom": null,
            "_model_module": "@jupyter-widgets/base",
            "top": null,
            "grid_column": null,
            "overflow_y": null,
            "overflow_x": null,
            "grid_auto_flow": null,
            "grid_area": null,
            "grid_template_columns": null,
            "flex": null,
            "_model_name": "LayoutModel",
            "justify_items": null,
            "grid_row": null,
            "max_height": null,
            "align_content": null,
            "visibility": null,
            "align_self": null,
            "height": null,
            "min_height": null,
            "padding": null,
            "grid_auto_rows": null,
            "grid_gap": null,
            "max_width": null,
            "order": null,
            "_view_module_version": "1.2.0",
            "grid_template_areas": null,
            "object_position": null,
            "object_fit": null,
            "grid_auto_columns": null,
            "margin": null,
            "display": null,
            "left": null
          }
        }
      }
    },
    "accelerator": "GPU"
  },
  "cells": [
    {
      "cell_type": "markdown",
      "metadata": {
        "id": "BKEDNozvm7Cx"
      },
      "source": [
        "### Import librabries"
      ]
    },
    {
      "cell_type": "code",
      "metadata": {
        "colab": {
          "base_uri": "https://localhost:8080/"
        },
        "id": "o_B0S-BRATJQ",
        "outputId": "5ef038d0-b386-417b-b72b-2c50089eff72"
      },
      "source": [
        "from google.colab import drive\n",
        "drive.mount('/content/drive')"
      ],
      "execution_count": null,
      "outputs": [
        {
          "output_type": "stream",
          "name": "stdout",
          "text": [
            "Drive already mounted at /content/drive; to attempt to forcibly remount, call drive.mount(\"/content/drive\", force_remount=True).\n"
          ]
        }
      ]
    },
    {
      "cell_type": "code",
      "metadata": {
        "colab": {
          "base_uri": "https://localhost:8080/"
        },
        "id": "EhwEaB98Yeqd",
        "outputId": "1156cfd4-e476-4e26-9150-2a47224f1eee"
      },
      "source": [
        "pip install Keras-Applications\n"
      ],
      "execution_count": null,
      "outputs": [
        {
          "output_type": "stream",
          "name": "stdout",
          "text": [
            "Requirement already satisfied: Keras-Applications in /usr/local/lib/python3.7/dist-packages (1.0.8)\n",
            "Requirement already satisfied: h5py in /usr/local/lib/python3.7/dist-packages (from Keras-Applications) (3.1.0)\n",
            "Requirement already satisfied: numpy>=1.9.1 in /usr/local/lib/python3.7/dist-packages (from Keras-Applications) (1.19.5)\n",
            "Requirement already satisfied: cached-property in /usr/local/lib/python3.7/dist-packages (from h5py->Keras-Applications) (1.5.2)\n"
          ]
        }
      ]
    },
    {
      "cell_type": "code",
      "metadata": {
        "id": "Y5z4g49_MuSA"
      },
      "source": [
        "import tensorflow as tf\n",
        "\n",
        "import pandas as pd\n",
        "import numpy as np\n",
        "import matplotlib.pyplot as plt\n",
        "import seaborn as sns\n",
        "\n",
        "import os\n",
        "from tqdm.notebook import tqdm\n",
        "\n",
        "from keras.preprocessing import image\n",
        "from sklearn.model_selection import train_test_split\n",
        "from sklearn.metrics import confusion_matrix, plot_confusion_matrix, classification_report, ConfusionMatrixDisplay\n",
        "import keras\n",
        "from keras.layers import Dense, Conv2D, Activation,BatchNormalization, MaxPooling2D, Dropout, Flatten, Input\n",
        "from keras.models import load_model, Sequential\n",
        "from keras.layers.advanced_activations import LeakyReLU\n",
        "\n",
        "#import cv2"
      ],
      "execution_count": null,
      "outputs": []
    },
    {
      "cell_type": "code",
      "metadata": {
        "colab": {
          "base_uri": "https://localhost:8080/"
        },
        "id": "qoGE4sPqIJ0d",
        "outputId": "ffd40101-2eec-4221-8d39-0e9e525bd3c7"
      },
      "source": [
        "from tensorflow.python.client import device_lib\n",
        "print(device_lib.list_local_devices())"
      ],
      "execution_count": null,
      "outputs": [
        {
          "output_type": "stream",
          "name": "stdout",
          "text": [
            "[name: \"/device:CPU:0\"\n",
            "device_type: \"CPU\"\n",
            "memory_limit: 268435456\n",
            "locality {\n",
            "}\n",
            "incarnation: 4448246182576357304\n",
            "xla_global_id: -1\n",
            ", name: \"/device:GPU:0\"\n",
            "device_type: \"GPU\"\n",
            "memory_limit: 16154099712\n",
            "locality {\n",
            "  bus_id: 1\n",
            "  links {\n",
            "  }\n",
            "}\n",
            "incarnation: 15424759104324018601\n",
            "physical_device_desc: \"device: 0, name: Tesla P100-PCIE-16GB, pci bus id: 0000:00:04.0, compute capability: 6.0\"\n",
            "xla_global_id: 416903419\n",
            "]\n"
          ]
        }
      ]
    },
    {
      "cell_type": "markdown",
      "metadata": {
        "id": "Cav9b4mjFv3E"
      },
      "source": [
        "### 1. Read the dataset"
      ]
    },
    {
      "cell_type": "markdown",
      "metadata": {
        "id": "e5NJDTPEE86r"
      },
      "source": [
        "#### 1.2 Read labels"
      ]
    },
    {
      "cell_type": "code",
      "metadata": {
        "id": "kYur59Ix66g3"
      },
      "source": [
        "# read labels\n",
        "df_labels = pd.read_csv('/content/drive/MyDrive/data/Brain/dataset/dataset/label.csv')"
      ],
      "execution_count": null,
      "outputs": []
    },
    {
      "cell_type": "code",
      "metadata": {
        "colab": {
          "base_uri": "https://localhost:8080/",
          "height": 363
        },
        "id": "xddLDi3S68RN",
        "outputId": "2d52d7bf-e505-4811-e224-2e742a53272a"
      },
      "source": [
        "df_labels.head(10)"
      ],
      "execution_count": null,
      "outputs": [
        {
          "output_type": "execute_result",
          "data": {
            "text/html": [
              "<div>\n",
              "<style scoped>\n",
              "    .dataframe tbody tr th:only-of-type {\n",
              "        vertical-align: middle;\n",
              "    }\n",
              "\n",
              "    .dataframe tbody tr th {\n",
              "        vertical-align: top;\n",
              "    }\n",
              "\n",
              "    .dataframe thead th {\n",
              "        text-align: right;\n",
              "    }\n",
              "</style>\n",
              "<table border=\"1\" class=\"dataframe\">\n",
              "  <thead>\n",
              "    <tr style=\"text-align: right;\">\n",
              "      <th></th>\n",
              "      <th>file_name</th>\n",
              "      <th>label</th>\n",
              "    </tr>\n",
              "  </thead>\n",
              "  <tbody>\n",
              "    <tr>\n",
              "      <th>0</th>\n",
              "      <td>IMAGE_0000.jpg</td>\n",
              "      <td>meningioma_tumor</td>\n",
              "    </tr>\n",
              "    <tr>\n",
              "      <th>1</th>\n",
              "      <td>IMAGE_0001.jpg</td>\n",
              "      <td>no_tumor</td>\n",
              "    </tr>\n",
              "    <tr>\n",
              "      <th>2</th>\n",
              "      <td>IMAGE_0002.jpg</td>\n",
              "      <td>meningioma_tumor</td>\n",
              "    </tr>\n",
              "    <tr>\n",
              "      <th>3</th>\n",
              "      <td>IMAGE_0003.jpg</td>\n",
              "      <td>glioma_tumor</td>\n",
              "    </tr>\n",
              "    <tr>\n",
              "      <th>4</th>\n",
              "      <td>IMAGE_0004.jpg</td>\n",
              "      <td>meningioma_tumor</td>\n",
              "    </tr>\n",
              "    <tr>\n",
              "      <th>5</th>\n",
              "      <td>IMAGE_0005.jpg</td>\n",
              "      <td>meningioma_tumor</td>\n",
              "    </tr>\n",
              "    <tr>\n",
              "      <th>6</th>\n",
              "      <td>IMAGE_0006.jpg</td>\n",
              "      <td>no_tumor</td>\n",
              "    </tr>\n",
              "    <tr>\n",
              "      <th>7</th>\n",
              "      <td>IMAGE_0007.jpg</td>\n",
              "      <td>glioma_tumor</td>\n",
              "    </tr>\n",
              "    <tr>\n",
              "      <th>8</th>\n",
              "      <td>IMAGE_0008.jpg</td>\n",
              "      <td>glioma_tumor</td>\n",
              "    </tr>\n",
              "    <tr>\n",
              "      <th>9</th>\n",
              "      <td>IMAGE_0009.jpg</td>\n",
              "      <td>pituitary_tumor</td>\n",
              "    </tr>\n",
              "  </tbody>\n",
              "</table>\n",
              "</div>"
            ],
            "text/plain": [
              "        file_name             label\n",
              "0  IMAGE_0000.jpg  meningioma_tumor\n",
              "1  IMAGE_0001.jpg          no_tumor\n",
              "2  IMAGE_0002.jpg  meningioma_tumor\n",
              "3  IMAGE_0003.jpg      glioma_tumor\n",
              "4  IMAGE_0004.jpg  meningioma_tumor\n",
              "5  IMAGE_0005.jpg  meningioma_tumor\n",
              "6  IMAGE_0006.jpg          no_tumor\n",
              "7  IMAGE_0007.jpg      glioma_tumor\n",
              "8  IMAGE_0008.jpg      glioma_tumor\n",
              "9  IMAGE_0009.jpg   pituitary_tumor"
            ]
          },
          "metadata": {},
          "execution_count": 47
        }
      ]
    },
    {
      "cell_type": "code",
      "metadata": {
        "id": "7p8a-bdUDp0b",
        "colab": {
          "base_uri": "https://localhost:8080/"
        },
        "outputId": "5378a95e-10fd-4665-ffe9-ae068a39dd3a"
      },
      "source": [
        "df_labels.count()"
      ],
      "execution_count": null,
      "outputs": [
        {
          "output_type": "execute_result",
          "data": {
            "text/plain": [
              "file_name    3000\n",
              "label        3000\n",
              "dtype: int64"
            ]
          },
          "metadata": {},
          "execution_count": 7
        }
      ]
    },
    {
      "cell_type": "code",
      "metadata": {
        "id": "AvZcE8VREa1Y",
        "colab": {
          "base_uri": "https://localhost:8080/"
        },
        "outputId": "0c67cdbb-ca45-4f43-9f5c-276dd1a3f07d"
      },
      "source": [
        "df_labels['tumor'] = 1\n",
        "df_labels['tumor'][df_labels['label'] == 'no_tumor'] = 0"
      ],
      "execution_count": null,
      "outputs": [
        {
          "output_type": "stream",
          "name": "stderr",
          "text": [
            "/usr/local/lib/python3.7/dist-packages/ipykernel_launcher.py:2: SettingWithCopyWarning: \n",
            "A value is trying to be set on a copy of a slice from a DataFrame\n",
            "\n",
            "See the caveats in the documentation: https://pandas.pydata.org/pandas-docs/stable/user_guide/indexing.html#returning-a-view-versus-a-copy\n",
            "  \n"
          ]
        }
      ]
    },
    {
      "cell_type": "code",
      "metadata": {
        "colab": {
          "base_uri": "https://localhost:8080/",
          "height": 265
        },
        "id": "mdp9KDPZ1SlG",
        "outputId": "62bafa45-ad52-4276-dde8-21f07529f15f"
      },
      "source": [
        "plt.figure()\n",
        "# To change the color visit: https://seaborn.pydata.org/tutorial/color_palettes.html?highlight=color \n",
        "sns.color_palette(\"muted\")  \n",
        "sns.countplot(x='tumor',  data=df_labels)\n",
        "plt.xticks([0,1], ['No tumor', 'tumor'])\n",
        "plt.xlabel(\"\")\n",
        "plt.show()"
      ],
      "execution_count": null,
      "outputs": [
        {
          "output_type": "display_data",
          "data": {
            "image/png": "[encoded data removed]",
            "text/plain": [
              "<Figure size 432x288 with 1 Axes>"
            ]
          },
          "metadata": {
            "needs_background": "light"
          }
        }
      ]
    },
    {
      "cell_type": "code",
      "metadata": {
        "id": "z44jyqB773Pl"
      },
      "source": [
        "df_labels['tumor_type'] = df_labels['tumor']\n",
        "df_labels['tumor_type'] = df_labels['label'].map({'no_tumor': 0, 'meningioma_tumor': 1, 'glioma_tumor': 2, 'pituitary_tumor': 3 })"
      ],
      "execution_count": null,
      "outputs": []
    },
    {
      "cell_type": "code",
      "metadata": {
        "colab": {
          "base_uri": "https://localhost:8080/",
          "height": 281
        },
        "id": "39Y5g4tV2Miq",
        "outputId": "80d6f801-00ff-4592-9258-1de232ebdb65"
      },
      "source": [
        "plt.figure()\n",
        "sns.countplot(x='tumor_type',  data=df_labels)\n",
        "plt.xticks([0,1,2,3], ['No tumor', 'meningioma','glioma', 'pituitary'])\n",
        "plt.xlabel(\"\")\n",
        "plt.title(\"Tumor types\")\n",
        "plt.show()"
      ],
      "execution_count": null,
      "outputs": [
        {
          "output_type": "display_data",
          "data": {
            "image/png": "[encoded data removed]",
            "text/plain": [
              "<Figure size 432x288 with 1 Axes>"
            ]
          },
          "metadata": {
            "needs_background": "light"
          }
        }
      ]
    },
    {
      "cell_type": "code",
      "metadata": {
        "id": "JXeVhTD_Gg52"
      },
      "source": [
        "df_labels.to_csv('p_labels.csv')"
      ],
      "execution_count": null,
      "outputs": []
    },
    {
      "cell_type": "markdown",
      "metadata": {
        "id": "Rbypm8llLqsl"
      },
      "source": [
        "#### 2.2 Read images"
      ]
    },
    {
      "cell_type": "code",
      "metadata": {
        "id": "a0LYudyxTPV3",
        "colab": {
          "base_uri": "https://localhost:8080/",
          "height": 206
        },
        "outputId": "e996d96b-7a31-45ba-98b6-90aaecbd9089"
      },
      "source": [
        "df_labels.head()"
      ],
      "execution_count": null,
      "outputs": [
        {
          "output_type": "execute_result",
          "data": {
            "text/html": [
              "<div>\n",
              "<style scoped>\n",
              "    .dataframe tbody tr th:only-of-type {\n",
              "        vertical-align: middle;\n",
              "    }\n",
              "\n",
              "    .dataframe tbody tr th {\n",
              "        vertical-align: top;\n",
              "    }\n",
              "\n",
              "    .dataframe thead th {\n",
              "        text-align: right;\n",
              "    }\n",
              "</style>\n",
              "<table border=\"1\" class=\"dataframe\">\n",
              "  <thead>\n",
              "    <tr style=\"text-align: right;\">\n",
              "      <th></th>\n",
              "      <th>file_name</th>\n",
              "      <th>label</th>\n",
              "      <th>tumor</th>\n",
              "      <th>tumor_type</th>\n",
              "    </tr>\n",
              "  </thead>\n",
              "  <tbody>\n",
              "    <tr>\n",
              "      <th>0</th>\n",
              "      <td>IMAGE_0000.jpg</td>\n",
              "      <td>meningioma_tumor</td>\n",
              "      <td>1</td>\n",
              "      <td>1</td>\n",
              "    </tr>\n",
              "    <tr>\n",
              "      <th>1</th>\n",
              "      <td>IMAGE_0001.jpg</td>\n",
              "      <td>no_tumor</td>\n",
              "      <td>0</td>\n",
              "      <td>0</td>\n",
              "    </tr>\n",
              "    <tr>\n",
              "      <th>2</th>\n",
              "      <td>IMAGE_0002.jpg</td>\n",
              "      <td>meningioma_tumor</td>\n",
              "      <td>1</td>\n",
              "      <td>1</td>\n",
              "    </tr>\n",
              "    <tr>\n",
              "      <th>3</th>\n",
              "      <td>IMAGE_0003.jpg</td>\n",
              "      <td>glioma_tumor</td>\n",
              "      <td>1</td>\n",
              "      <td>2</td>\n",
              "    </tr>\n",
              "    <tr>\n",
              "      <th>4</th>\n",
              "      <td>IMAGE_0004.jpg</td>\n",
              "      <td>meningioma_tumor</td>\n",
              "      <td>1</td>\n",
              "      <td>1</td>\n",
              "    </tr>\n",
              "  </tbody>\n",
              "</table>\n",
              "</div>"
            ],
            "text/plain": [
              "        file_name             label  tumor  tumor_type\n",
              "0  IMAGE_0000.jpg  meningioma_tumor      1           1\n",
              "1  IMAGE_0001.jpg          no_tumor      0           0\n",
              "2  IMAGE_0002.jpg  meningioma_tumor      1           1\n",
              "3  IMAGE_0003.jpg      glioma_tumor      1           2\n",
              "4  IMAGE_0004.jpg  meningioma_tumor      1           1"
            ]
          },
          "metadata": {},
          "execution_count": 53
        }
      ]
    },
    {
      "cell_type": "code",
      "metadata": {
        "id": "z20MkbQFzb3r"
      },
      "source": [
        "Img_id = df_labels['file_name']"
      ],
      "execution_count": null,
      "outputs": []
    },
    {
      "cell_type": "code",
      "metadata": {
        "id": "17ilp6X3y3PJ",
        "colab": {
          "base_uri": "https://localhost:8080/",
          "height": 49,
          "referenced_widgets": [
            "89031ddbaa324c569d2eb9151e06efbb",
            "43263891f076409882399dad5eafb499",
            "4e555ecd1adf491f9261070446bc3f74",
            "d3f6823bed274a668c3a8d3185561fc5",
            "7542acd5549d4ea380ba005480bc0d8e",
            "03017ef5dd494535aa2049fb8dd78a9f",
            "57bd6a8c3981477284f8a8d51223c02e",
            "8d1aa689ae4c41a1a07a01931f03b62e",
            "fd0bdda59c9a47edb2e55230d19b6e05",
            "f5cb7eabbf4a4944b8430470cbb9d809",
            "474218fa65304c68b00d0e10170f4faa"
          ]
        },
        "outputId": "5b9dfcbc-9daa-4d8f-9e0d-12a6ec4f31f1"
      },
      "source": [
        "# \"grayscale\" for baseline models  \"rgb\" for cnn\n",
        "\n",
        "imgs =[np.array(image.load_img('/content/drive/MyDrive/data/Brain/dataset/dataset/image/{}'.format(i),target_size=(100,100), color_mode = \"rgb\"))/255 for i in tqdm(Img_id[:Img_id.size])]"
      ],
      "execution_count": null,
      "outputs": [
        {
          "output_type": "display_data",
          "data": {
            "application/vnd.jupyter.widget-view+json": {
              "model_id": "89031ddbaa324c569d2eb9151e06efbb",
              "version_minor": 0,
              "version_major": 2
            },
            "text/plain": [
              "  0%|          | 0/3000 [00:00<?, ?it/s]"
            ]
          },
          "metadata": {}
        }
      ]
    },
    {
      "cell_type": "code",
      "metadata": {
        "id": "oVgaqIcG7Rru"
      },
      "source": [
        "imgs_arr = np.array(imgs)"
      ],
      "execution_count": null,
      "outputs": []
    },
    {
      "cell_type": "code",
      "metadata": {
        "colab": {
          "base_uri": "https://localhost:8080/"
        },
        "id": "z4vdnnF65oy0",
        "outputId": "0762bd29-b85b-469a-aca3-227371989b0f"
      },
      "source": [
        "imgs_arr.shape"
      ],
      "execution_count": null,
      "outputs": [
        {
          "output_type": "execute_result",
          "data": {
            "text/plain": [
              "(3000, 100, 100, 3)"
            ]
          },
          "metadata": {},
          "execution_count": 57
        }
      ]
    },
    {
      "cell_type": "code",
      "metadata": {
        "colab": {
          "base_uri": "https://localhost:8080/",
          "height": 191
        },
        "id": "671EFqvwJ2mn",
        "outputId": "368a88d3-2058-4923-ae8c-ef3e3afe4682"
      },
      "source": [
        "# show samples\n",
        "plt.figure(figsize=(15, 10))\n",
        "for i in range(6):\n",
        "    plt.subplot(1, 6, i+1)\n",
        "    plt.imshow(imgs_arr[i],cmap='gray')\n",
        "    plt.title(df_labels.label[i])\n",
        "    plt.axis('off')\n",
        "    \n",
        "plt.tight_layout()\n",
        "plt.show()"
      ],
      "execution_count": null,
      "outputs": [
        {
          "output_type": "display_data",
          "data": {
            "image/png": "[encoded data removed]",
            "text/plain": [
              "<Figure size 1080x720 with 6 Axes>"
            ]
          },
          "metadata": {
            "needs_background": "light"
          }
        }
      ]
    },
    {
      "cell_type": "code",
      "metadata": {
        "id": "draW6ebs9JSD",
        "colab": {
          "base_uri": "https://localhost:8080/",
          "height": 183
        },
        "outputId": "34c56d25-beb5-459c-da81-571f50f7e041"
      },
      "source": [
        "# for grayscale only\n",
        "imgs_arr = imgs_arr.reshape(imgs_arr.shape[0], imgs_arr.shape[1], imgs_arr.shape[2], 1)"
      ],
      "execution_count": null,
      "outputs": [
        {
          "output_type": "error",
          "ename": "ValueError",
          "evalue": "ignored",
          "traceback": [
            "\u001b[0;31m---------------------------------------------------------------------------\u001b[0m",
            "\u001b[0;31mValueError\u001b[0m                                Traceback (most recent call last)",
            "\u001b[0;32m<ipython-input-60-a4a19d2c2370>\u001b[0m in \u001b[0;36m<module>\u001b[0;34m()\u001b[0m\n\u001b[1;32m      1\u001b[0m \u001b[0;31m# for grayscale only\u001b[0m\u001b[0;34m\u001b[0m\u001b[0;34m\u001b[0m\u001b[0;34m\u001b[0m\u001b[0m\n\u001b[0;32m----> 2\u001b[0;31m \u001b[0mimgs_arr\u001b[0m \u001b[0;34m=\u001b[0m \u001b[0mimgs_arr\u001b[0m\u001b[0;34m.\u001b[0m\u001b[0mreshape\u001b[0m\u001b[0;34m(\u001b[0m\u001b[0mimgs_arr\u001b[0m\u001b[0;34m.\u001b[0m\u001b[0mshape\u001b[0m\u001b[0;34m[\u001b[0m\u001b[0;36m0\u001b[0m\u001b[0;34m]\u001b[0m\u001b[0;34m,\u001b[0m \u001b[0mimgs_arr\u001b[0m\u001b[0;34m.\u001b[0m\u001b[0mshape\u001b[0m\u001b[0;34m[\u001b[0m\u001b[0;36m1\u001b[0m\u001b[0;34m]\u001b[0m\u001b[0;34m,\u001b[0m \u001b[0mimgs_arr\u001b[0m\u001b[0;34m.\u001b[0m\u001b[0mshape\u001b[0m\u001b[0;34m[\u001b[0m\u001b[0;36m2\u001b[0m\u001b[0;34m]\u001b[0m\u001b[0;34m,\u001b[0m \u001b[0;36m1\u001b[0m\u001b[0;34m)\u001b[0m\u001b[0;34m\u001b[0m\u001b[0;34m\u001b[0m\u001b[0m\n\u001b[0m",
            "\u001b[0;31mValueError\u001b[0m: cannot reshape array of size 90000000 into shape (3000,100,100,1)"
          ]
        }
      ]
    },
    {
      "cell_type": "code",
      "metadata": {
        "id": "xQ7Kfma-03tn"
      },
      "source": [
        "# Create training and test sets\n",
        "X_train, X_test, y_train, y_test = train_test_split(imgs_arr, df_labels.tumor, test_size=0.2, random_state=42, stratify=df_labels.tumor)"
      ],
      "execution_count": null,
      "outputs": []
    },
    {
      "cell_type": "markdown",
      "metadata": {
        "id": "8bmuMENjnWTf"
      },
      "source": [
        "### 2. Baseline models"
      ]
    },
    {
      "cell_type": "code",
      "metadata": {
        "id": "a-rbqxeA3qBC"
      },
      "source": [
        "X_train_reshaped = X_train.reshape((X_train.shape[0], X_train.shape[1]*X_train.shape[2]*X_train.shape[3]))\n",
        "X_test_reshaped = X_test.reshape((X_test.shape[0], X_test.shape[1]*X_test.shape[2]*X_test.shape[3]))"
      ],
      "execution_count": null,
      "outputs": []
    },
    {
      "cell_type": "markdown",
      "metadata": {
        "id": "qe1ajjL1ndLP"
      },
      "source": [
        "#### 2.1 KNN"
      ]
    },
    {
      "cell_type": "code",
      "metadata": {
        "id": "n9qN8Zd43hML"
      },
      "source": [
        "from sklearn.neighbors import KNeighborsClassifier\n",
        "\n",
        "# Create a k-NN classifier with 7 neighbors: knn\n",
        "knn = KNeighborsClassifier(n_neighbors=5)\n",
        "\n",
        "# Fit the classifier to the training data\n",
        "with tf.device('/gpu:0'):\n",
        "  knn.fit(X_train_reshaped, y_train)"
      ],
      "execution_count": null,
      "outputs": []
    },
    {
      "cell_type": "code",
      "metadata": {
        "colab": {
          "base_uri": "https://localhost:8080/"
        },
        "id": "NeCO-jJYTW71",
        "outputId": "5b8e85ea-5917-4bdf-ac72-e325ca38c684"
      },
      "source": [
        "# Print the accuracy\n",
        "print(\"Training accuracy: \", knn.score(X_train_reshaped, y_train))"
      ],
      "execution_count": null,
      "outputs": [
        {
          "output_type": "stream",
          "name": "stdout",
          "text": [
            "Training accuracy:  0.9383333333333334\n"
          ]
        }
      ]
    },
    {
      "cell_type": "code",
      "metadata": {
        "colab": {
          "base_uri": "https://localhost:8080/"
        },
        "id": "3rkXTYfsUMAa",
        "outputId": "3e94b0d2-86cd-4fbd-9040-ad76faeeb657"
      },
      "source": [
        "print(\"Test accuracy: \", knn.score(X_test_reshaped, y_test))"
      ],
      "execution_count": null,
      "outputs": [
        {
          "output_type": "stream",
          "name": "stdout",
          "text": [
            "Test accuracy:  0.9116666666666666\n"
          ]
        }
      ]
    },
    {
      "cell_type": "code",
      "metadata": {
        "colab": {
          "base_uri": "https://localhost:8080/"
        },
        "id": "hGHIZxB2XH5N",
        "outputId": "ad3816da-c42a-4466-e77c-452acf7939fc"
      },
      "source": [
        "y_pred = knn.predict(X_test_reshaped)\n",
        "target_names = ['No tumor', 'Tumor']\n",
        "print(classification_report(y_test, y_pred, target_names=target_names, digits=4))"
      ],
      "execution_count": null,
      "outputs": [
        {
          "output_type": "stream",
          "name": "stdout",
          "text": [
            "              precision    recall  f1-score   support\n",
            "\n",
            "    No tumor     0.7209    0.6813    0.7006        91\n",
            "       Tumor     0.9436    0.9528    0.9482       509\n",
            "\n",
            "    accuracy                         0.9117       600\n",
            "   macro avg     0.8323    0.8171    0.8244       600\n",
            "weighted avg     0.9098    0.9117    0.9106       600\n",
            "\n"
          ]
        }
      ]
    },
    {
      "cell_type": "code",
      "metadata": {
        "colab": {
          "base_uri": "https://localhost:8080/",
          "height": 279
        },
        "id": "hj9d6KFtOtGh",
        "outputId": "39344501-14ce-42bb-9b6d-7a224d7d226a"
      },
      "source": [
        "plot_confusion_matrix(knn, X_test_reshaped, y_test, normalize = \"true\", cmap=plt.cm.Blues, display_labels=['Not tumor', 'Tumor'])  \n",
        "plt.show()"
      ],
      "execution_count": null,
      "outputs": [
        {
          "output_type": "display_data",
          "data": {
            "image/png": "[encoded data removed]",
            "text/plain": [
              "<Figure size 432x288 with 2 Axes>"
            ]
          },
          "metadata": {
            "needs_background": "light"
          }
        }
      ]
    },
    {
      "cell_type": "code",
      "metadata": {
        "colab": {
          "base_uri": "https://localhost:8080/",
          "height": 295
        },
        "id": "UXJF7qul4beD",
        "outputId": "1e32fd03-3975-4a94-da06-99be0c1f1186"
      },
      "source": [
        "# Setup arrays to store train and test accuracies\n",
        "neighbors = np.arange(1, 9)\n",
        "train_accuracy = np.empty(len(neighbors))\n",
        "test_accuracy = np.empty(len(neighbors))\n",
        "\n",
        "# Loop over different values of k\n",
        "for i, k in enumerate(neighbors):\n",
        "    # Setup a k-NN Classifier with k neighbors: knn\n",
        "    knn = KNeighborsClassifier(n_neighbors = k)\n",
        "\n",
        "    # Fit the classifier to the training data\n",
        "    with tf.device('/gpu:0'):\n",
        "      knn.fit(X_train_reshaped, y_train)\n",
        "    \n",
        "    #Compute accuracy on the training set\n",
        "    train_accuracy[i] = knn.score(X_train_reshaped, y_train)\n",
        "\n",
        "    #Compute accuracy on the testing set\n",
        "    test_accuracy[i] = knn.score(X_test_reshaped, y_test)\n",
        "\n",
        "# Generate plot\n",
        "plt.title('k-NN: Varying Number of Neighbors')\n",
        "plt.plot(neighbors, test_accuracy, label = 'Testing Accuracy')\n",
        "plt.plot(neighbors, train_accuracy, label = 'Training Accuracy')\n",
        "plt.legend()\n",
        "plt.xlabel('Number of Neighbors')\n",
        "plt.ylabel('Accuracy')\n",
        "plt.show()"
      ],
      "execution_count": null,
      "outputs": [
        {
          "output_type": "display_data",
          "data": {
            "image/png": "[encoded data removed]",
            "text/plain": [
              "<Figure size 432x288 with 1 Axes>"
            ]
          },
          "metadata": {
            "needs_background": "light"
          }
        }
      ]
    },
    {
      "cell_type": "markdown",
      "metadata": {
        "id": "Xi1fAPDAGNcx"
      },
      "source": [
        "####2.2 SVM"
      ]
    },
    {
      "cell_type": "code",
      "metadata": {
        "id": "L-IZaESS0WOh"
      },
      "source": [
        "# SVM\n",
        "from sklearn.svm import SVC\n",
        "\n",
        "# Instantiate the SVC classifier: clf\n",
        "clf = SVC()\n",
        "\n",
        "# Fit the pipeline to the train set\n",
        "with tf.device('/gpu:0'):\n",
        "  clf.fit(X_train_reshaped, y_train)"
      ],
      "execution_count": null,
      "outputs": []
    },
    {
      "cell_type": "code",
      "metadata": {
        "colab": {
          "base_uri": "https://localhost:8080/"
        },
        "id": "aum9d7liSyeP",
        "outputId": "0193992f-6045-4080-a4d0-7e4c4598757c"
      },
      "source": [
        "# Print the accuracy\n",
        "print(\"Training accuracy: \", knn.score(X_train_reshaped, y_train))"
      ],
      "execution_count": null,
      "outputs": [
        {
          "output_type": "stream",
          "name": "stdout",
          "text": [
            "Training accuracy:  0.91125\n"
          ]
        }
      ]
    },
    {
      "cell_type": "code",
      "metadata": {
        "colab": {
          "base_uri": "https://localhost:8080/"
        },
        "id": "UVMf6bDRS1gh",
        "outputId": "ec31b7b7-7370-4ba5-a9e7-789c9e764af9"
      },
      "source": [
        "print(\"Test accuracy: \", knn.score(X_test_reshaped, y_test))"
      ],
      "execution_count": null,
      "outputs": [
        {
          "output_type": "stream",
          "name": "stdout",
          "text": [
            "Test accuracy:  0.8783333333333333\n"
          ]
        }
      ]
    },
    {
      "cell_type": "code",
      "metadata": {
        "colab": {
          "base_uri": "https://localhost:8080/"
        },
        "id": "qegwtiCQ-s5D",
        "outputId": "63cb6143-9b82-4fbc-aa3c-f7d204ae48eb"
      },
      "source": [
        "# Predict the labels of the test set\n",
        "y_pred = clf.predict(X_test_reshaped)\n",
        "\n",
        "# Compute metrics\n",
        "target_names = ['No tumor', 'Tumor']\n",
        "print(classification_report(y_test, y_pred, target_names=target_names, digits=4))"
      ],
      "execution_count": null,
      "outputs": [
        {
          "output_type": "stream",
          "name": "stdout",
          "text": [
            "              precision    recall  f1-score   support\n",
            "\n",
            "    No tumor     0.8667    0.5714    0.6887        91\n",
            "       Tumor     0.9278    0.9843    0.9552       509\n",
            "\n",
            "    accuracy                         0.9217       600\n",
            "   macro avg     0.8972    0.7779    0.8220       600\n",
            "weighted avg     0.9185    0.9217    0.9148       600\n",
            "\n"
          ]
        }
      ]
    },
    {
      "cell_type": "code",
      "metadata": {
        "colab": {
          "base_uri": "https://localhost:8080/",
          "height": 279
        },
        "id": "Y3MxWz98Xkcf",
        "outputId": "25aff60d-8e77-4f35-9482-1f4c5254ac80"
      },
      "source": [
        "# normalized\n",
        "plot_confusion_matrix(clf, X_test_reshaped, y_test, normalize = \"true\", cmap=plt.cm.Blues, display_labels=['Not tumor', 'Tumor'])  \n",
        "plt.show()"
      ],
      "execution_count": null,
      "outputs": [
        {
          "output_type": "display_data",
          "data": {
            "image/png": "[encoded data removed]",
            "text/plain": [
              "<Figure size 432x288 with 2 Axes>"
            ]
          },
          "metadata": {
            "needs_background": "light"
          }
        }
      ]
    },
    {
      "cell_type": "code",
      "metadata": {
        "colab": {
          "base_uri": "https://localhost:8080/",
          "height": 283
        },
        "id": "H7Wan9cbYHt4",
        "outputId": "11efb178-1db1-4f3e-e2af-25b129ebf20a"
      },
      "source": [
        "plot_confusion_matrix(clf, X_test_reshaped, y_test, cmap=plt.cm.Blues, values_format=\".0f\", display_labels=['Not tumor', 'Tumor'])  \n",
        "plt.show()"
      ],
      "execution_count": null,
      "outputs": [
        {
          "output_type": "display_data",
          "data": {
            "image/png": "[encoded data removed]",
            "text/plain": [
              "<Figure size 432x288 with 2 Axes>"
            ]
          },
          "metadata": {
            "needs_background": "light"
          }
        }
      ]
    },
    {
      "cell_type": "markdown",
      "metadata": {
        "id": "D4Zt2Lqvr7-_"
      },
      "source": [
        "### 3. Main model"
      ]
    },
    {
      "cell_type": "code",
      "metadata": {
        "id": "Ke22QeGcAvL3"
      },
      "source": [
        "# Things to do:  1. Cross validation\n",
        "\n",
        "# cross-validation\n",
        "\n",
        "from sklearn.model_selection import cross_val_score\n",
        "\n",
        "cv_results = cross_val_score(reg, X, y, cv=5)\n",
        "print(cv_results)\n",
        "print(\"Average 5-Fold CV Score: {}\".format(np.mean(cv_results)))\n"
      ],
      "execution_count": null,
      "outputs": []
    },
    {
      "cell_type": "markdown",
      "metadata": {
        "id": "g-RmBtzCWia0"
      },
      "source": [
        "#### 3.1 Handling data imbalance (class weights)"
      ]
    },
    {
      "cell_type": "markdown",
      "metadata": {
        "id": "REhP0qlwUkfH"
      },
      "source": [
        "##### CNN ( good)"
      ]
    },
    {
      "cell_type": "code",
      "metadata": {
        "colab": {
          "base_uri": "https://localhost:8080/"
        },
        "id": "ziP-ZWFAX8AT",
        "outputId": "e3c366d7-74ee-4e2c-f73c-735c1b81f907"
      },
      "source": [
        "## CNN \n",
        "\n",
        "model = Sequential()\n",
        "model.add(Conv2D(64, (5,5), input_shape = (X_train[0].shape[0], X_train[0].shape[1], 3), padding = 'same'))\n",
        "model.add(LeakyReLU(alpha=0.1))\n",
        "model.add(BatchNormalization())\n",
        "model.add(MaxPooling2D(pool_size =  (2,2)))\n",
        "model.add(Dropout(0.2))\n",
        "\n",
        "model.add(Conv2D(128, (5,5), padding = 'same'))\n",
        "model.add(LeakyReLU())\n",
        "model.add(BatchNormalization())\n",
        "model.add(MaxPooling2D(pool_size =  (2,2)))\n",
        "model.add(Dropout(0.2))\n",
        "\n",
        "model.add(Conv2D(256, (3,3), padding = 'same'))\n",
        "model.add(LeakyReLU(alpha=0.1))\n",
        "model.add(BatchNormalization())\n",
        "model.add(MaxPooling2D(pool_size =  (2,2)))\n",
        "model.add(Dropout(0.2))\n",
        "\n",
        "\n",
        "model.add(Flatten())\n",
        "\n",
        "model.add(Dense(128))\n",
        "model.add(LeakyReLU(alpha=0.1))\n",
        "model.add(BatchNormalization())\n",
        "model.add(Dropout(0.2))\n",
        "\n",
        "model.add(Dense(1))\n",
        "model.add(Activation('sigmoid'))\n",
        "\n",
        "model.summary()\n"
      ],
      "execution_count": null,
      "outputs": [
        {
          "output_type": "stream",
          "name": "stdout",
          "text": [
            "Model: \"sequential_9\"\n",
            "_________________________________________________________________\n",
            " Layer (type)                Output Shape              Param #   \n",
            "=================================================================\n",
            " conv2d_194 (Conv2D)         (None, 100, 100, 64)      4864      \n",
            "                                                                 \n",
            " leaky_re_lu_22 (LeakyReLU)  (None, 100, 100, 64)      0         \n",
            "                                                                 \n",
            " batch_normalization_210 (Ba  (None, 100, 100, 64)     256       \n",
            " tchNormalization)                                               \n",
            "                                                                 \n",
            " max_pooling2d_14 (MaxPoolin  (None, 50, 50, 64)       0         \n",
            " g2D)                                                            \n",
            "                                                                 \n",
            " dropout_22 (Dropout)        (None, 50, 50, 64)        0         \n",
            "                                                                 \n",
            " conv2d_195 (Conv2D)         (None, 50, 50, 128)       204928    \n",
            "                                                                 \n",
            " leaky_re_lu_23 (LeakyReLU)  (None, 50, 50, 128)       0         \n",
            "                                                                 \n",
            " batch_normalization_211 (Ba  (None, 50, 50, 128)      512       \n",
            " tchNormalization)                                               \n",
            "                                                                 \n",
            " max_pooling2d_15 (MaxPoolin  (None, 25, 25, 128)      0         \n",
            " g2D)                                                            \n",
            "                                                                 \n",
            " dropout_23 (Dropout)        (None, 25, 25, 128)       0         \n",
            "                                                                 \n",
            " conv2d_196 (Conv2D)         (None, 25, 25, 256)       295168    \n",
            "                                                                 \n",
            " leaky_re_lu_24 (LeakyReLU)  (None, 25, 25, 256)       0         \n",
            "                                                                 \n",
            " batch_normalization_212 (Ba  (None, 25, 25, 256)      1024      \n",
            " tchNormalization)                                               \n",
            "                                                                 \n",
            " max_pooling2d_16 (MaxPoolin  (None, 12, 12, 256)      0         \n",
            " g2D)                                                            \n",
            "                                                                 \n",
            " dropout_24 (Dropout)        (None, 12, 12, 256)       0         \n",
            "                                                                 \n",
            " flatten_9 (Flatten)         (None, 36864)             0         \n",
            "                                                                 \n",
            " dense_25 (Dense)            (None, 128)               4718720   \n",
            "                                                                 \n",
            " leaky_re_lu_25 (LeakyReLU)  (None, 128)               0         \n",
            "                                                                 \n",
            " batch_normalization_213 (Ba  (None, 128)              512       \n",
            " tchNormalization)                                               \n",
            "                                                                 \n",
            " dropout_25 (Dropout)        (None, 128)               0         \n",
            "                                                                 \n",
            " dense_26 (Dense)            (None, 1)                 129       \n",
            "                                                                 \n",
            " activation_190 (Activation)  (None, 1)                0         \n",
            "                                                                 \n",
            "=================================================================\n",
            "Total params: 5,226,113\n",
            "Trainable params: 5,224,961\n",
            "Non-trainable params: 1,152\n",
            "_________________________________________________________________\n"
          ]
        }
      ]
    },
    {
      "cell_type": "code",
      "metadata": {
        "id": "Rn5Q26ViRSXb"
      },
      "source": [
        "# Compile the model\n",
        "model.compile(loss=keras.losses.binary_crossentropy, metrics=['accuracy'], optimizer='adam')"
      ],
      "execution_count": null,
      "outputs": []
    },
    {
      "cell_type": "code",
      "metadata": {
        "id": "n9VZ_ICbRTUO"
      },
      "source": [
        "from sklearn.utils import class_weight\n",
        "class_weights = class_weight.compute_class_weight('balanced'\n",
        "                                               ,np.unique(y_train)\n",
        "                                               ,y_train)\n",
        "\n",
        "computed_class_weights = dict(enumerate(class_weights))\n"
      ],
      "execution_count": null,
      "outputs": []
    },
    {
      "cell_type": "code",
      "metadata": {
        "id": "GMig6wDoRhJr"
      },
      "source": [
        "# Create training and validation sets\n",
        "X_train, X_val, y_train, y_val = train_test_split(X_train, y_train, test_size=0.1, random_state=42, stratify=y_train)"
      ],
      "execution_count": null,
      "outputs": []
    },
    {
      "cell_type": "code",
      "metadata": {
        "colab": {
          "base_uri": "https://localhost:8080/"
        },
        "id": "dI0vpoY4RY_T",
        "outputId": "acf6f5fc-fe4d-4d3e-a540-81d769c5411c"
      },
      "source": [
        "# Fit the model\n",
        "with tf.device('/gpu:0'):\n",
        "  history = model.fit(X_train, y_train,\n",
        "                    epochs = 30,\n",
        "                    batch_size = 100,\n",
        "                    validation_data=(X_val,y_val),\n",
        "                    #class_weight = computed_class_weights,\n",
        "                    verbose=1)"
      ],
      "execution_count": null,
      "outputs": [
        {
          "output_type": "stream",
          "name": "stdout",
          "text": [
            "Epoch 1/30\n",
            "9/9 [==============================] - 1s 63ms/step - loss: 0.0097 - accuracy: 0.9988 - val_loss: 0.3742 - val_accuracy: 0.9462\n",
            "Epoch 2/30\n",
            "9/9 [==============================] - 1s 59ms/step - loss: 0.0092 - accuracy: 0.9988 - val_loss: 0.3715 - val_accuracy: 0.9462\n",
            "Epoch 3/30\n",
            "9/9 [==============================] - 1s 59ms/step - loss: 0.0051 - accuracy: 1.0000 - val_loss: 0.3166 - val_accuracy: 0.9355\n",
            "Epoch 4/30\n",
            "9/9 [==============================] - 1s 60ms/step - loss: 0.0062 - accuracy: 1.0000 - val_loss: 0.3201 - val_accuracy: 0.9462\n",
            "Epoch 5/30\n",
            "9/9 [==============================] - 1s 59ms/step - loss: 0.0044 - accuracy: 1.0000 - val_loss: 0.3793 - val_accuracy: 0.9462\n",
            "Epoch 6/30\n",
            "9/9 [==============================] - 1s 58ms/step - loss: 0.0046 - accuracy: 1.0000 - val_loss: 0.3488 - val_accuracy: 0.9462\n",
            "Epoch 7/30\n",
            "9/9 [==============================] - 1s 59ms/step - loss: 0.0048 - accuracy: 1.0000 - val_loss: 0.3347 - val_accuracy: 0.9355\n",
            "Epoch 8/30\n",
            "9/9 [==============================] - 1s 60ms/step - loss: 0.0029 - accuracy: 1.0000 - val_loss: 0.3285 - val_accuracy: 0.9355\n",
            "Epoch 9/30\n",
            "9/9 [==============================] - 1s 59ms/step - loss: 0.0046 - accuracy: 0.9988 - val_loss: 0.3068 - val_accuracy: 0.9462\n",
            "Epoch 10/30\n",
            "9/9 [==============================] - 1s 59ms/step - loss: 0.0024 - accuracy: 1.0000 - val_loss: 0.2878 - val_accuracy: 0.9462\n",
            "Epoch 11/30\n",
            "9/9 [==============================] - 1s 59ms/step - loss: 0.0029 - accuracy: 1.0000 - val_loss: 0.2795 - val_accuracy: 0.9462\n",
            "Epoch 12/30\n",
            "9/9 [==============================] - 1s 59ms/step - loss: 0.0026 - accuracy: 1.0000 - val_loss: 0.2840 - val_accuracy: 0.9355\n",
            "Epoch 13/30\n",
            "9/9 [==============================] - 1s 59ms/step - loss: 0.0022 - accuracy: 1.0000 - val_loss: 0.2839 - val_accuracy: 0.9355\n",
            "Epoch 14/30\n",
            "9/9 [==============================] - 1s 59ms/step - loss: 0.0026 - accuracy: 1.0000 - val_loss: 0.2784 - val_accuracy: 0.9355\n",
            "Epoch 15/30\n",
            "9/9 [==============================] - 1s 58ms/step - loss: 0.0019 - accuracy: 1.0000 - val_loss: 0.2699 - val_accuracy: 0.9355\n",
            "Epoch 16/30\n",
            "9/9 [==============================] - 1s 59ms/step - loss: 0.0033 - accuracy: 0.9988 - val_loss: 0.2780 - val_accuracy: 0.9355\n",
            "Epoch 17/30\n",
            "9/9 [==============================] - 1s 59ms/step - loss: 0.0030 - accuracy: 1.0000 - val_loss: 0.2769 - val_accuracy: 0.9355\n",
            "Epoch 18/30\n",
            "9/9 [==============================] - 1s 59ms/step - loss: 0.0030 - accuracy: 1.0000 - val_loss: 0.2555 - val_accuracy: 0.9247\n",
            "Epoch 19/30\n",
            "9/9 [==============================] - 1s 59ms/step - loss: 0.0060 - accuracy: 0.9976 - val_loss: 0.2818 - val_accuracy: 0.9247\n",
            "Epoch 20/30\n",
            "9/9 [==============================] - 1s 59ms/step - loss: 0.0036 - accuracy: 1.0000 - val_loss: 0.4523 - val_accuracy: 0.9140\n",
            "Epoch 21/30\n",
            "9/9 [==============================] - 1s 59ms/step - loss: 0.0076 - accuracy: 0.9988 - val_loss: 0.2892 - val_accuracy: 0.9355\n",
            "Epoch 22/30\n",
            "9/9 [==============================] - 1s 59ms/step - loss: 0.0041 - accuracy: 1.0000 - val_loss: 0.2626 - val_accuracy: 0.9247\n",
            "Epoch 23/30\n",
            "9/9 [==============================] - 1s 59ms/step - loss: 0.0035 - accuracy: 1.0000 - val_loss: 0.2374 - val_accuracy: 0.9462\n",
            "Epoch 24/30\n",
            "9/9 [==============================] - 1s 59ms/step - loss: 0.0032 - accuracy: 1.0000 - val_loss: 0.2543 - val_accuracy: 0.9462\n",
            "Epoch 25/30\n",
            "9/9 [==============================] - 1s 59ms/step - loss: 0.0026 - accuracy: 1.0000 - val_loss: 0.2366 - val_accuracy: 0.9462\n",
            "Epoch 26/30\n",
            "9/9 [==============================] - 1s 59ms/step - loss: 0.0015 - accuracy: 1.0000 - val_loss: 0.2622 - val_accuracy: 0.9462\n",
            "Epoch 27/30\n",
            "9/9 [==============================] - 1s 59ms/step - loss: 0.0017 - accuracy: 1.0000 - val_loss: 0.2697 - val_accuracy: 0.9462\n",
            "Epoch 28/30\n",
            "9/9 [==============================] - 1s 59ms/step - loss: 0.0018 - accuracy: 1.0000 - val_loss: 0.2691 - val_accuracy: 0.9462\n",
            "Epoch 29/30\n",
            "9/9 [==============================] - 1s 58ms/step - loss: 0.0015 - accuracy: 1.0000 - val_loss: 0.2653 - val_accuracy: 0.9355\n",
            "Epoch 30/30\n",
            "9/9 [==============================] - 1s 59ms/step - loss: 0.0014 - accuracy: 1.0000 - val_loss: 0.2651 - val_accuracy: 0.9355\n"
          ]
        }
      ]
    },
    {
      "cell_type": "markdown",
      "metadata": {
        "id": "89vhYg9c6vcW"
      },
      "source": [
        "Results with class weights:\n",
        "Epoch 1/5\n",
        "24/24 [==============================] - 301s 13s/step - loss: 0.6441 - accuracy: 0.7638 - val_loss: 0.3410 - val_accuracy: 0.8567\n",
        "\n",
        "Epoch 2/5\n",
        "24/24 [==============================] - 303s 13s/step - loss: 0.3454 - accuracy: 0.8483 - val_loss: 0.4639 - val_accuracy: 0.8483\n",
        "\n",
        "Epoch 3/5\n",
        "24/24 [==============================] - 295s 12s/step - loss: 0.2820 - accuracy: 0.8892 - val_loss: 0.4256 - val_accuracy: 0.8483\n",
        "\n",
        "Epoch 4/5\n",
        "24/24 [==============================] - 302s 13s/step - loss: 0.2352 - accuracy: 0.9112 - val_loss: 0.5433 - val_accuracy: 0.8483\n",
        "\n",
        "Epoch 5/5\n",
        "24/24 [==============================] - 298s 12s/step - loss: 0.2024 - accuracy: 0.9137 - val_loss: 0.4604 - val_accuracy: 0.8483"
      ]
    },
    {
      "cell_type": "code",
      "metadata": {
        "id": "C1Rm-7jRuRim"
      },
      "source": [
        "# Utility function for plotting of the model results\n",
        "def visualize_results(history):\n",
        "    # Plot the accuracy and loss curves\n",
        "    acc = history.history['accuracy']\n",
        "    val_acc = history.history['val_accuracy']\n",
        "    loss = history.history['loss']\n",
        "    val_loss = history.history['val_loss']\n",
        "\n",
        "    epochs = range(len(acc))\n",
        "\n",
        "    plt.plot(epochs, acc, 'b', label='Training acc')\n",
        "    plt.plot(epochs, val_acc, 'r', label='Validation acc')\n",
        "    plt.title('Training and validation accuracy')\n",
        "    plt.legend()\n",
        "\n",
        "    plt.figure()\n",
        "\n",
        "    plt.plot(epochs, loss, 'b', label='Training loss')\n",
        "    plt.plot(epochs, val_loss, 'r', label='Validation loss')\n",
        "    plt.title('Training and validation loss')\n",
        "    plt.legend()\n",
        "\n",
        "    plt.show()\n"
      ],
      "execution_count": null,
      "outputs": []
    },
    {
      "cell_type": "code",
      "metadata": {
        "colab": {
          "base_uri": "https://localhost:8080/",
          "height": 545
        },
        "id": "kX5ApgKnRlvh",
        "outputId": "b2feb3fa-9c9b-418b-b5be-29238fede0d0"
      },
      "source": [
        "# Run the function to illustrate accuracy and loss\n",
        "visualize_results(history)"
      ],
      "execution_count": null,
      "outputs": [
        {
          "output_type": "display_data",
          "data": {
            "image/png": "[encoded data removed]",
            "text/plain": [
              "<Figure size 432x288 with 1 Axes>"
            ]
          },
          "metadata": {
            "needs_background": "light"
          }
        },
        {
          "output_type": "display_data",
          "data": {
            "image/png": "[encoded data removed]",
            "text/plain": [
              "<Figure size 432x288 with 1 Axes>"
            ]
          },
          "metadata": {
            "needs_background": "light"
          }
        }
      ]
    },
    {
      "cell_type": "code",
      "metadata": {
        "id": "eyM1bEdbUQ3N",
        "colab": {
          "base_uri": "https://localhost:8080/"
        },
        "outputId": "dd5f16fc-fa57-4f6a-9f35-27999aaff07f"
      },
      "source": [
        "from sklearn.metrics import classification_report\n",
        "\n",
        "y_pred = model.predict(X_test)\n",
        "target_names = ['No tumor', 'Tumor']\n",
        "print(classification_report(y_test, y_pred.round(), target_names=target_names, digits=4))"
      ],
      "execution_count": null,
      "outputs": [
        {
          "output_type": "stream",
          "name": "stdout",
          "text": [
            "              precision    recall  f1-score   support\n",
            "\n",
            "    No tumor     0.8406    0.6374    0.7250        91\n",
            "       Tumor     0.9379    0.9784    0.9577       509\n",
            "\n",
            "    accuracy                         0.9267       600\n",
            "   macro avg     0.8892    0.8079    0.8413       600\n",
            "weighted avg     0.9231    0.9267    0.9224       600\n",
            "\n"
          ]
        }
      ]
    },
    {
      "cell_type": "code",
      "metadata": {
        "id": "gEuhVguoRwbj",
        "colab": {
          "base_uri": "https://localhost:8080/"
        },
        "outputId": "82e7ef21-44be-4904-9d3c-42584fc47315"
      },
      "source": [
        "# Not Normalized\n",
        "cm = confusion_matrix(y_test, y_pred.round())\n",
        "print(cm)"
      ],
      "execution_count": null,
      "outputs": [
        {
          "output_type": "stream",
          "name": "stdout",
          "text": [
            "[[ 58  33]\n",
            " [ 11 498]]\n"
          ]
        }
      ]
    },
    {
      "cell_type": "code",
      "metadata": {
        "id": "G8sP7VrywX-V",
        "colab": {
          "base_uri": "https://localhost:8080/"
        },
        "outputId": "878b68c4-d579-46c9-8def-65d949534b7a"
      },
      "source": [
        "# Normalized\n",
        "cm = confusion_matrix(y_test, y_pred.round(), normalize='true')\n",
        "print(cm)"
      ],
      "execution_count": null,
      "outputs": [
        {
          "output_type": "stream",
          "name": "stdout",
          "text": [
            "[[0.63736264 0.36263736]\n",
            " [0.021611   0.978389  ]]\n"
          ]
        }
      ]
    },
    {
      "cell_type": "code",
      "metadata": {
        "id": "Mx0RkU56wauY",
        "colab": {
          "base_uri": "https://localhost:8080/",
          "height": 279
        },
        "outputId": "7585ac0c-56a9-4020-b85f-2e2402e68605"
      },
      "source": [
        "disp = ConfusionMatrixDisplay(confusion_matrix=cm, display_labels=['Not tumor', 'Tumor'])\n",
        "disp = disp.plot(cmap=plt.cm.Blues)\n",
        "plt.show()"
      ],
      "execution_count": null,
      "outputs": [
        {
          "output_type": "display_data",
          "data": {
            "image/png": "[encoded data removed]",
            "text/plain": [
              "<Figure size 432x288 with 2 Axes>"
            ]
          },
          "metadata": {
            "needs_background": "light"
          }
        }
      ]
    },
    {
      "cell_type": "markdown",
      "metadata": {
        "id": "KcuOTydbVWx6"
      },
      "source": [
        "##### Fine-tuning"
      ]
    },
    {
      "cell_type": "code",
      "metadata": {
        "id": "Lj_eA8SxVKZU"
      },
      "source": [
        "from keras.models import Model\n",
        "\n",
        "#from keras.applications.vgg16 import VGG16\n",
        "from keras.applications.inception_v3 import InceptionV3\n",
        "#from keras.applications.resnet50 import ResNet50\n",
        "#from tensorflow.keras.applications import ResNet50\n",
        "\n",
        "\n",
        "# load model and specify a new input shape for images\n",
        "input_tensor = Input(shape=(100, 100, 3))\n",
        "\n",
        "# creating the base model of pre-trained VGG16 model\n",
        "base_model = InceptionV3(weights='imagenet', include_top=False, input_shape=(100, 100, 3))"
      ],
      "execution_count": null,
      "outputs": []
    },
    {
      "cell_type": "code",
      "metadata": {
        "id": "Tk2nXRcAsN83",
        "colab": {
          "base_uri": "https://localhost:8080/"
        },
        "outputId": "b5e0dcfc-7002-4bcc-ec0c-5915e2dad603"
      },
      "source": [
        "# Freeze all the layers\n",
        "for layer in base_model.layers[:]:\n",
        "    layer.trainable = False\n",
        "\n",
        "# Check the trainable status of the individual layers\n",
        "for layer in base_model.layers:\n",
        "    print(layer, layer.trainable)"
      ],
      "execution_count": null,
      "outputs": [
        {
          "output_type": "stream",
          "name": "stdout",
          "text": [
            "<keras.engine.input_layer.InputLayer object at 0x7f962d5e3a50> False\n",
            "<keras.layers.convolutional.Conv2D object at 0x7f962d5e38d0> False\n",
            "<keras.layers.normalization.batch_normalization.BatchNormalization object at 0x7f96f1c742d0> False\n",
            "<keras.layers.core.activation.Activation object at 0x7f96f2156fd0> False\n",
            "<keras.layers.convolutional.Conv2D object at 0x7f96f2134c90> False\n",
            "<keras.layers.normalization.batch_normalization.BatchNormalization object at 0x7f962c01add0> False\n",
            "<keras.layers.core.activation.Activation object at 0x7f96f1c885d0> False\n",
            "<keras.layers.convolutional.Conv2D object at 0x7f96f1c5c290> False\n",
            "<keras.layers.normalization.batch_normalization.BatchNormalization object at 0x7f96f1c5cf50> False\n",
            "<keras.layers.core.activation.Activation object at 0x7f96f1c5e210> False\n",
            "<keras.layers.pooling.MaxPooling2D object at 0x7f962c0075d0> False\n",
            "<keras.layers.convolutional.Conv2D object at 0x7f962c007850> False\n",
            "<keras.layers.normalization.batch_normalization.BatchNormalization object at 0x7f96f1e9cd90> False\n",
            "<keras.layers.core.activation.Activation object at 0x7f962c01fad0> False\n",
            "<keras.layers.convolutional.Conv2D object at 0x7f962c00bdd0> False\n",
            "<keras.layers.normalization.batch_normalization.BatchNormalization object at 0x7f962cf462d0> False\n",
            "<keras.layers.core.activation.Activation object at 0x7f962cf46b50> False\n",
            "<keras.layers.pooling.MaxPooling2D object at 0x7f962d5e2050> False\n",
            "<keras.layers.convolutional.Conv2D object at 0x7f962d5cb650> False\n",
            "<keras.layers.normalization.batch_normalization.BatchNormalization object at 0x7f962cf65110> False\n",
            "<keras.layers.core.activation.Activation object at 0x7f9605ba1390> False\n",
            "<keras.layers.convolutional.Conv2D object at 0x7f962d5cb490> False\n",
            "<keras.layers.convolutional.Conv2D object at 0x7f9605b8cd10> False\n",
            "<keras.layers.normalization.batch_normalization.BatchNormalization object at 0x7f962cf41910> False\n",
            "<keras.layers.normalization.batch_normalization.BatchNormalization object at 0x7f962cf7e590> False\n",
            "<keras.layers.core.activation.Activation object at 0x7f962cf41f90> False\n",
            "<keras.layers.core.activation.Activation object at 0x7f962cf65b10> False\n",
            "<keras.layers.pooling.AveragePooling2D object at 0x7f962d21fb10> False\n",
            "<keras.layers.convolutional.Conv2D object at 0x7f962c009690> False\n",
            "<keras.layers.convolutional.Conv2D object at 0x7f962cf41a50> False\n",
            "<keras.layers.convolutional.Conv2D object at 0x7f962cf60f90> False\n",
            "<keras.layers.convolutional.Conv2D object at 0x7f962cf5c8d0> False\n",
            "<keras.layers.normalization.batch_normalization.BatchNormalization object at 0x7f962d5cbb90> False\n",
            "<keras.layers.normalization.batch_normalization.BatchNormalization object at 0x7f962cf60690> False\n",
            "<keras.layers.normalization.batch_normalization.BatchNormalization object at 0x7f962cf44dd0> False\n",
            "<keras.layers.normalization.batch_normalization.BatchNormalization object at 0x7f962d5cb050> False\n",
            "<keras.layers.core.activation.Activation object at 0x7f962cf4b610> False\n",
            "<keras.layers.core.activation.Activation object at 0x7f962cf7e050> False\n",
            "<keras.layers.core.activation.Activation object at 0x7f96f1c667d0> False\n",
            "<keras.layers.core.activation.Activation object at 0x7f962d5e3290> False\n",
            "<keras.layers.merge.Concatenate object at 0x7f962cf7ea10> False\n",
            "<keras.layers.convolutional.Conv2D object at 0x7f962c56f210> False\n",
            "<keras.layers.normalization.batch_normalization.BatchNormalization object at 0x7f962d21ff50> False\n",
            "<keras.layers.core.activation.Activation object at 0x7f962c578790> False\n",
            "<keras.layers.convolutional.Conv2D object at 0x7f9605bc2890> False\n",
            "<keras.layers.convolutional.Conv2D object at 0x7f962c548550> False\n",
            "<keras.layers.normalization.batch_normalization.BatchNormalization object at 0x7f962d21f410> False\n",
            "<keras.layers.normalization.batch_normalization.BatchNormalization object at 0x7f9605b9b3d0> False\n",
            "<keras.layers.core.activation.Activation object at 0x7f9605b9b550> False\n",
            "<keras.layers.core.activation.Activation object at 0x7f962c546890> False\n",
            "<keras.layers.pooling.AveragePooling2D object at 0x7f962c5412d0> False\n",
            "<keras.layers.convolutional.Conv2D object at 0x7f9605ba10d0> False\n",
            "<keras.layers.convolutional.Conv2D object at 0x7f9605ba0590> False\n",
            "<keras.layers.convolutional.Conv2D object at 0x7f962c53fe50> False\n",
            "<keras.layers.convolutional.Conv2D object at 0x7f962c558f90> False\n",
            "<keras.layers.normalization.batch_normalization.BatchNormalization object at 0x7f962c01ff90> False\n",
            "<keras.layers.normalization.batch_normalization.BatchNormalization object at 0x7f9605ba6b10> False\n",
            "<keras.layers.normalization.batch_normalization.BatchNormalization object at 0x7f962c5466d0> False\n",
            "<keras.layers.normalization.batch_normalization.BatchNormalization object at 0x7f9605ba0c10> False\n",
            "<keras.layers.core.activation.Activation object at 0x7f9605bc2f90> False\n",
            "<keras.layers.core.activation.Activation object at 0x7f962c56f510> False\n",
            "<keras.layers.core.activation.Activation object at 0x7f962c562ad0> False\n",
            "<keras.layers.core.activation.Activation object at 0x7f962c53fc90> False\n",
            "<keras.layers.merge.Concatenate object at 0x7f96f0bdd350> False\n",
            "<keras.layers.convolutional.Conv2D object at 0x7f96f0bddb10> False\n",
            "<keras.layers.normalization.batch_normalization.BatchNormalization object at 0x7f96f0bf9f90> False\n",
            "<keras.layers.core.activation.Activation object at 0x7f96043c6f90> False\n",
            "<keras.layers.convolutional.Conv2D object at 0x7f96f0bfef10> False\n",
            "<keras.layers.convolutional.Conv2D object at 0x7f96043aaa90> False\n",
            "<keras.layers.normalization.batch_normalization.BatchNormalization object at 0x7f962c541c90> False\n",
            "<keras.layers.normalization.batch_normalization.BatchNormalization object at 0x7f96f0c09d90> False\n",
            "<keras.layers.core.activation.Activation object at 0x7f962c5638d0> False\n",
            "<keras.layers.core.activation.Activation object at 0x7f96043aa6d0> False\n",
            "<keras.layers.pooling.AveragePooling2D object at 0x7f962c562190> False\n",
            "<keras.layers.convolutional.Conv2D object at 0x7f962c579510> False\n",
            "<keras.layers.convolutional.Conv2D object at 0x7f96f0be1f50> False\n",
            "<keras.layers.convolutional.Conv2D object at 0x7f96043c6590> False\n",
            "<keras.layers.convolutional.Conv2D object at 0x7f962c579590> False\n",
            "<keras.layers.normalization.batch_normalization.BatchNormalization object at 0x7f96f0bfe850> False\n",
            "<keras.layers.normalization.batch_normalization.BatchNormalization object at 0x7f962c579dd0> False\n",
            "<keras.layers.normalization.batch_normalization.BatchNormalization object at 0x7f96f0bd9fd0> False\n",
            "<keras.layers.normalization.batch_normalization.BatchNormalization object at 0x7f96f0bfd450> False\n",
            "<keras.layers.core.activation.Activation object at 0x7f96f0bfd2d0> False\n",
            "<keras.layers.core.activation.Activation object at 0x7f96f0be8cd0> False\n",
            "<keras.layers.core.activation.Activation object at 0x7f96f0bdd210> False\n",
            "<keras.layers.core.activation.Activation object at 0x7f9605bc20d0> False\n",
            "<keras.layers.merge.Concatenate object at 0x7f9605ba0190> False\n",
            "<keras.layers.convolutional.Conv2D object at 0x7f96043c62d0> False\n",
            "<keras.layers.normalization.batch_normalization.BatchNormalization object at 0x7f96f0bd9410> False\n",
            "<keras.layers.core.activation.Activation object at 0x7f96043c0250> False\n",
            "<keras.layers.convolutional.Conv2D object at 0x7f96043c0450> False\n",
            "<keras.layers.normalization.batch_normalization.BatchNormalization object at 0x7f96043c0c90> False\n",
            "<keras.layers.core.activation.Activation object at 0x7f96043e61d0> False\n",
            "<keras.layers.convolutional.Conv2D object at 0x7f9605b9f110> False\n",
            "<keras.layers.convolutional.Conv2D object at 0x7f96043e6f50> False\n",
            "<keras.layers.normalization.batch_normalization.BatchNormalization object at 0x7f962cf43090> False\n",
            "<keras.layers.normalization.batch_normalization.BatchNormalization object at 0x7f96043db850> False\n",
            "<keras.layers.core.activation.Activation object at 0x7f962cf43710> False\n",
            "<keras.layers.core.activation.Activation object at 0x7f9605b9ff90> False\n",
            "<keras.layers.pooling.MaxPooling2D object at 0x7f96043e6c50> False\n",
            "<keras.layers.merge.Concatenate object at 0x7f96043c0fd0> False\n",
            "<keras.layers.convolutional.Conv2D object at 0x7f962d513fd0> False\n",
            "<keras.layers.normalization.batch_normalization.BatchNormalization object at 0x7f962d518950> False\n",
            "<keras.layers.core.activation.Activation object at 0x7f96026c1a10> False\n",
            "<keras.layers.convolutional.Conv2D object at 0x7f962d50ec10> False\n",
            "<keras.layers.normalization.batch_normalization.BatchNormalization object at 0x7f96026c1c90> False\n",
            "<keras.layers.core.activation.Activation object at 0x7f96026c0ed0> False\n",
            "<keras.layers.convolutional.Conv2D object at 0x7f962d52ba50> False\n",
            "<keras.layers.convolutional.Conv2D object at 0x7f96026c0910> False\n",
            "<keras.layers.normalization.batch_normalization.BatchNormalization object at 0x7f962d52f3d0> False\n",
            "<keras.layers.normalization.batch_normalization.BatchNormalization object at 0x7f96026c7f90> False\n",
            "<keras.layers.core.activation.Activation object at 0x7f962d519e90> False\n",
            "<keras.layers.core.activation.Activation object at 0x7f96026f21d0> False\n",
            "<keras.layers.convolutional.Conv2D object at 0x7f96043b30d0> False\n",
            "<keras.layers.convolutional.Conv2D object at 0x7f96026d2610> False\n",
            "<keras.layers.normalization.batch_normalization.BatchNormalization object at 0x7f962d519390> False\n",
            "<keras.layers.normalization.batch_normalization.BatchNormalization object at 0x7f96026c2b90> False\n",
            "<keras.layers.core.activation.Activation object at 0x7f962d50ea50> False\n",
            "<keras.layers.core.activation.Activation object at 0x7f96026f2ed0> False\n",
            "<keras.layers.pooling.AveragePooling2D object at 0x7f96042ba990> False\n",
            "<keras.layers.convolutional.Conv2D object at 0x7f96043c1a90> False\n",
            "<keras.layers.convolutional.Conv2D object at 0x7f96043ca650> False\n",
            "<keras.layers.convolutional.Conv2D object at 0x7f96026d7b10> False\n",
            "<keras.layers.convolutional.Conv2D object at 0x7f96044c5f50> False\n",
            "<keras.layers.normalization.batch_normalization.BatchNormalization object at 0x7f9605b9f950> False\n",
            "<keras.layers.normalization.batch_normalization.BatchNormalization object at 0x7f96026e0810> False\n",
            "<keras.layers.normalization.batch_normalization.BatchNormalization object at 0x7f962d50ea10> False\n",
            "<keras.layers.normalization.batch_normalization.BatchNormalization object at 0x7f96041721d0> False\n",
            "<keras.layers.core.activation.Activation object at 0x7f962d537150> False\n",
            "<keras.layers.core.activation.Activation object at 0x7f962d513f50> False\n",
            "<keras.layers.core.activation.Activation object at 0x7f962d52b190> False\n",
            "<keras.layers.core.activation.Activation object at 0x7f962c5d8f90> False\n",
            "<keras.layers.merge.Concatenate object at 0x7f960465cc90> False\n",
            "<keras.layers.convolutional.Conv2D object at 0x7f96026c13d0> False\n",
            "<keras.layers.normalization.batch_normalization.BatchNormalization object at 0x7f962d20d8d0> False\n",
            "<keras.layers.core.activation.Activation object at 0x7f96f1c7be50> False\n",
            "<keras.layers.convolutional.Conv2D object at 0x7f9602076f10> False\n",
            "<keras.layers.normalization.batch_normalization.BatchNormalization object at 0x7f96f09eb850> False\n",
            "<keras.layers.core.activation.Activation object at 0x7f9602076b50> False\n",
            "<keras.layers.convolutional.Conv2D object at 0x7f96026c0550> False\n",
            "<keras.layers.convolutional.Conv2D object at 0x7f962d5de810> False\n",
            "<keras.layers.normalization.batch_normalization.BatchNormalization object at 0x7f962c6020d0> False\n",
            "<keras.layers.normalization.batch_normalization.BatchNormalization object at 0x7f962d52b250> False\n",
            "<keras.layers.core.activation.Activation object at 0x7f9605b8cb50> False\n",
            "<keras.layers.core.activation.Activation object at 0x7f96f09e1090> False\n",
            "<keras.layers.convolutional.Conv2D object at 0x7f9605ba7b50> False\n",
            "<keras.layers.convolutional.Conv2D object at 0x7f9604303250> False\n",
            "<keras.layers.normalization.batch_normalization.BatchNormalization object at 0x7f96f1c883d0> False\n",
            "<keras.layers.normalization.batch_normalization.BatchNormalization object at 0x7f96f0a11090> False\n",
            "<keras.layers.core.activation.Activation object at 0x7f960576aa50> False\n",
            "<keras.layers.core.activation.Activation object at 0x7f9622160790> False\n",
            "<keras.layers.pooling.AveragePooling2D object at 0x7f9602072150> False\n",
            "<keras.layers.convolutional.Conv2D object at 0x7f962d5376d0> False\n",
            "<keras.layers.convolutional.Conv2D object at 0x7f962d2212d0> False\n",
            "<keras.layers.convolutional.Conv2D object at 0x7f962215f3d0> False\n",
            "<keras.layers.convolutional.Conv2D object at 0x7f96221729d0> False\n",
            "<keras.layers.normalization.batch_normalization.BatchNormalization object at 0x7f961e114ed0> False\n",
            "<keras.layers.normalization.batch_normalization.BatchNormalization object at 0x7f962d22c610> False\n",
            "<keras.layers.normalization.batch_normalization.BatchNormalization object at 0x7f9622153290> False\n",
            "<keras.layers.normalization.batch_normalization.BatchNormalization object at 0x7f9622172a90> False\n",
            "<keras.layers.core.activation.Activation object at 0x7f96026bd950> False\n",
            "<keras.layers.core.activation.Activation object at 0x7f96f1c5e110> False\n",
            "<keras.layers.core.activation.Activation object at 0x7f962215fe10> False\n",
            "<keras.layers.core.activation.Activation object at 0x7f962d0d8150> False\n",
            "<keras.layers.merge.Concatenate object at 0x7f960430fe50> False\n",
            "<keras.layers.convolutional.Conv2D object at 0x7f962d235410> False\n",
            "<keras.layers.normalization.batch_normalization.BatchNormalization object at 0x7f962d530f50> False\n",
            "<keras.layers.core.activation.Activation object at 0x7f9604778810> False\n",
            "<keras.layers.convolutional.Conv2D object at 0x7f96047c5f50> False\n",
            "<keras.layers.normalization.batch_normalization.BatchNormalization object at 0x7f962c009110> False\n",
            "<keras.layers.core.activation.Activation object at 0x7f96047e4ad0> False\n",
            "<keras.layers.convolutional.Conv2D object at 0x7f962d0d76d0> False\n",
            "<keras.layers.convolutional.Conv2D object at 0x7f96044b4950> False\n",
            "<keras.layers.normalization.batch_normalization.BatchNormalization object at 0x7f962d1c7950> False\n",
            "<keras.layers.normalization.batch_normalization.BatchNormalization object at 0x7f96047e4550> False\n",
            "<keras.layers.core.activation.Activation object at 0x7f96044b7190> False\n",
            "<keras.layers.core.activation.Activation object at 0x7f9602054dd0> False\n",
            "<keras.layers.convolutional.Conv2D object at 0x7f962cfab810> False\n",
            "<keras.layers.convolutional.Conv2D object at 0x7f962d1ce8d0> False\n",
            "<keras.layers.normalization.batch_normalization.BatchNormalization object at 0x7f9622153190> False\n",
            "<keras.layers.normalization.batch_normalization.BatchNormalization object at 0x7f9604635a10> False\n",
            "<keras.layers.core.activation.Activation object at 0x7f96f1c7bc90> False\n",
            "<keras.layers.core.activation.Activation object at 0x7f9604637f90> False\n",
            "<keras.layers.pooling.AveragePooling2D object at 0x7f960442bb50> False\n",
            "<keras.layers.convolutional.Conv2D object at 0x7f962d0d7e10> False\n",
            "<keras.layers.convolutional.Conv2D object at 0x7f96f0a113d0> False\n",
            "<keras.layers.convolutional.Conv2D object at 0x7f9602054190> False\n",
            "<keras.layers.convolutional.Conv2D object at 0x7f9604454210> False\n",
            "<keras.layers.normalization.batch_normalization.BatchNormalization object at 0x7f9604656e10> False\n",
            "<keras.layers.normalization.batch_normalization.BatchNormalization object at 0x7f962d22c2d0> False\n",
            "<keras.layers.normalization.batch_normalization.BatchNormalization object at 0x7f961f1bc8d0> False\n",
            "<keras.layers.normalization.batch_normalization.BatchNormalization object at 0x7f9604448c50> False\n",
            "<keras.layers.core.activation.Activation object at 0x7f962cfb6950> False\n",
            "<keras.layers.core.activation.Activation object at 0x7f96f1c5e410> False\n",
            "<keras.layers.core.activation.Activation object at 0x7f96044614d0> False\n",
            "<keras.layers.core.activation.Activation object at 0x7f9604459a50> False\n",
            "<keras.layers.merge.Concatenate object at 0x7f96044491d0> False\n",
            "<keras.layers.convolutional.Conv2D object at 0x7f9602764310> False\n",
            "<keras.layers.normalization.batch_normalization.BatchNormalization object at 0x7f961e1b5310> False\n",
            "<keras.layers.core.activation.Activation object at 0x7f962bf90990> False\n",
            "<keras.layers.convolutional.Conv2D object at 0x7f9622010950> False\n",
            "<keras.layers.normalization.batch_normalization.BatchNormalization object at 0x7f962bf90090> False\n",
            "<keras.layers.core.activation.Activation object at 0x7f96027641d0> False\n",
            "<keras.layers.convolutional.Conv2D object at 0x7f962d0de690> False\n",
            "<keras.layers.convolutional.Conv2D object at 0x7f9741765310> False\n",
            "<keras.layers.normalization.batch_normalization.BatchNormalization object at 0x7f962d213ad0> False\n",
            "<keras.layers.normalization.batch_normalization.BatchNormalization object at 0x7f9604454590> False\n",
            "<keras.layers.core.activation.Activation object at 0x7f9604521890> False\n",
            "<keras.layers.core.activation.Activation object at 0x7f962d18a590> False\n",
            "<keras.layers.convolutional.Conv2D object at 0x7f962d2133d0> False\n",
            "<keras.layers.convolutional.Conv2D object at 0x7f962d1d9650> False\n",
            "<keras.layers.normalization.batch_normalization.BatchNormalization object at 0x7f9604822710> False\n",
            "<keras.layers.normalization.batch_normalization.BatchNormalization object at 0x7f960450f550> False\n",
            "<keras.layers.core.activation.Activation object at 0x7f9605c43450> False\n",
            "<keras.layers.core.activation.Activation object at 0x7f962215fa10> False\n",
            "<keras.layers.pooling.AveragePooling2D object at 0x7f962d119650> False\n",
            "<keras.layers.convolutional.Conv2D object at 0x7f962d0bf890> False\n",
            "<keras.layers.convolutional.Conv2D object at 0x7f962d106c10> False\n",
            "<keras.layers.convolutional.Conv2D object at 0x7f96047c9910> False\n",
            "<keras.layers.convolutional.Conv2D object at 0x7f96058d0310> False\n",
            "<keras.layers.normalization.batch_normalization.BatchNormalization object at 0x7f960204f9d0> False\n",
            "<keras.layers.normalization.batch_normalization.BatchNormalization object at 0x7f962d568bd0> False\n",
            "<keras.layers.normalization.batch_normalization.BatchNormalization object at 0x7f962d20d490> False\n",
            "<keras.layers.normalization.batch_normalization.BatchNormalization object at 0x7f9621dbc690> False\n",
            "<keras.layers.core.activation.Activation object at 0x7f962d179c50> False\n",
            "<keras.layers.core.activation.Activation object at 0x7f9602764150> False\n",
            "<keras.layers.core.activation.Activation object at 0x7f96027e4710> False\n",
            "<keras.layers.core.activation.Activation object at 0x7f961f300110> False\n",
            "<keras.layers.merge.Concatenate object at 0x7f961f3005d0> False\n",
            "<keras.layers.convolutional.Conv2D object at 0x7f962d14c7d0> False\n",
            "<keras.layers.normalization.batch_normalization.BatchNormalization object at 0x7f962d1f5990> False\n",
            "<keras.layers.core.activation.Activation object at 0x7f962d1233d0> False\n",
            "<keras.layers.convolutional.Conv2D object at 0x7f962d123950> False\n",
            "<keras.layers.normalization.batch_normalization.BatchNormalization object at 0x7f962d14c410> False\n",
            "<keras.layers.core.activation.Activation object at 0x7f962d257690> False\n",
            "<keras.layers.convolutional.Conv2D object at 0x7f9621dbca90> False\n",
            "<keras.layers.convolutional.Conv2D object at 0x7f962d13c9d0> False\n",
            "<keras.layers.normalization.batch_normalization.BatchNormalization object at 0x7f96224d95d0> False\n",
            "<keras.layers.normalization.batch_normalization.BatchNormalization object at 0x7f962d139f10> False\n",
            "<keras.layers.core.activation.Activation object at 0x7f962208e150> False\n",
            "<keras.layers.core.activation.Activation object at 0x7f962ce4d910> False\n",
            "<keras.layers.convolutional.Conv2D object at 0x7f962d10c710> False\n",
            "<keras.layers.convolutional.Conv2D object at 0x7f962d0f8650> False\n",
            "<keras.layers.normalization.batch_normalization.BatchNormalization object at 0x7f962d157a90> False\n",
            "<keras.layers.normalization.batch_normalization.BatchNormalization object at 0x7f96020c5a50> False\n",
            "<keras.layers.core.activation.Activation object at 0x7f96f1c7a150> False\n",
            "<keras.layers.core.activation.Activation object at 0x7f961f3eddd0> False\n",
            "<keras.layers.pooling.MaxPooling2D object at 0x7f962d13cb10> False\n",
            "<keras.layers.merge.Concatenate object at 0x7f9621fd1a10> False\n",
            "<keras.layers.convolutional.Conv2D object at 0x7f962d14c810> False\n",
            "<keras.layers.normalization.batch_normalization.BatchNormalization object at 0x7f961e206350> False\n",
            "<keras.layers.core.activation.Activation object at 0x7f961f300e10> False\n",
            "<keras.layers.convolutional.Conv2D object at 0x7f96222554d0> False\n",
            "<keras.layers.convolutional.Conv2D object at 0x7f96058d01d0> False\n",
            "<keras.layers.normalization.batch_normalization.BatchNormalization object at 0x7f962208c1d0> False\n",
            "<keras.layers.normalization.batch_normalization.BatchNormalization object at 0x7f961f1bcc10> False\n",
            "<keras.layers.core.activation.Activation object at 0x7f9621ea1150> False\n",
            "<keras.layers.core.activation.Activation object at 0x7f962d0f2e10> False\n",
            "<keras.layers.convolutional.Conv2D object at 0x7f962d708b90> False\n",
            "<keras.layers.convolutional.Conv2D object at 0x7f9623e315d0> False\n",
            "<keras.layers.convolutional.Conv2D object at 0x7f960450fad0> False\n",
            "<keras.layers.convolutional.Conv2D object at 0x7f96047f8f90> False\n",
            "<keras.layers.pooling.AveragePooling2D object at 0x7f961f3a3ed0> False\n",
            "<keras.layers.convolutional.Conv2D object at 0x7f960205e3d0> False\n",
            "<keras.layers.normalization.batch_normalization.BatchNormalization object at 0x7f960477ca50> False\n",
            "<keras.layers.normalization.batch_normalization.BatchNormalization object at 0x7f960538c950> False\n",
            "<keras.layers.normalization.batch_normalization.BatchNormalization object at 0x7f962ce48950> False\n",
            "<keras.layers.normalization.batch_normalization.BatchNormalization object at 0x7f962d77d550> False\n",
            "<keras.layers.convolutional.Conv2D object at 0x7f962d6f2b50> False\n",
            "<keras.layers.normalization.batch_normalization.BatchNormalization object at 0x7f962d754410> False\n",
            "<keras.layers.core.activation.Activation object at 0x7f962ce45410> False\n",
            "<keras.layers.core.activation.Activation object at 0x7f961f3ed7d0> False\n",
            "<keras.layers.core.activation.Activation object at 0x7f962ce44e10> False\n",
            "<keras.layers.core.activation.Activation object at 0x7f962ce48f50> False\n",
            "<keras.layers.normalization.batch_normalization.BatchNormalization object at 0x7f9602062650> False\n",
            "<keras.layers.core.activation.Activation object at 0x7f960538cb10> False\n",
            "<keras.layers.merge.Concatenate object at 0x7f962d10e050> False\n",
            "<keras.layers.merge.Concatenate object at 0x7f961f1752d0> False\n",
            "<keras.layers.core.activation.Activation object at 0x7f96220b7610> False\n",
            "<keras.layers.merge.Concatenate object at 0x7f961f34fd90> False\n",
            "<keras.layers.convolutional.Conv2D object at 0x7f962d5a9350> False\n",
            "<keras.layers.normalization.batch_normalization.BatchNormalization object at 0x7f96020de5d0> False\n",
            "<keras.layers.core.activation.Activation object at 0x7f9602677510> False\n",
            "<keras.layers.convolutional.Conv2D object at 0x7f9621d669d0> False\n",
            "<keras.layers.convolutional.Conv2D object at 0x7f962d175f50> False\n",
            "<keras.layers.normalization.batch_normalization.BatchNormalization object at 0x7f962ce6e5d0> False\n",
            "<keras.layers.normalization.batch_normalization.BatchNormalization object at 0x7f96025040d0> False\n",
            "<keras.layers.core.activation.Activation object at 0x7f9621e312d0> False\n",
            "<keras.layers.core.activation.Activation object at 0x7f9621eb0590> False\n",
            "<keras.layers.convolutional.Conv2D object at 0x7f9622224a90> False\n",
            "<keras.layers.convolutional.Conv2D object at 0x7f9622171350> False\n",
            "<keras.layers.convolutional.Conv2D object at 0x7f96223233d0> False\n",
            "<keras.layers.convolutional.Conv2D object at 0x7f961f20cbd0> False\n",
            "<keras.layers.pooling.AveragePooling2D object at 0x7f961f34f450> False\n",
            "<keras.layers.convolutional.Conv2D object at 0x7f9622058590> False\n",
            "<keras.layers.normalization.batch_normalization.BatchNormalization object at 0x7f961f2ef390> False\n",
            "<keras.layers.normalization.batch_normalization.BatchNormalization object at 0x7f96f20e1990> False\n",
            "<keras.layers.normalization.batch_normalization.BatchNormalization object at 0x7f962226c150> False\n",
            "<keras.layers.normalization.batch_normalization.BatchNormalization object at 0x7f962d175510> False\n",
            "<keras.layers.convolutional.Conv2D object at 0x7f962d6c7810> False\n",
            "<keras.layers.normalization.batch_normalization.BatchNormalization object at 0x7f96220d10d0> False\n",
            "<keras.layers.core.activation.Activation object at 0x7f9623e05450> False\n",
            "<keras.layers.core.activation.Activation object at 0x7f96221619d0> False\n",
            "<keras.layers.core.activation.Activation object at 0x7f962203f1d0> False\n",
            "<keras.layers.core.activation.Activation object at 0x7f96f20e1e90> False\n",
            "<keras.layers.normalization.batch_normalization.BatchNormalization object at 0x7f962ce55f50> False\n",
            "<keras.layers.core.activation.Activation object at 0x7f964208d450> False\n",
            "<keras.layers.merge.Concatenate object at 0x7f9622171c50> False\n",
            "<keras.layers.merge.Concatenate object at 0x7f961f3d3f50> False\n",
            "<keras.layers.core.activation.Activation object at 0x7f962d561690> False\n",
            "<keras.layers.merge.Concatenate object at 0x7f962d10c350> False\n"
          ]
        }
      ]
    },
    {
      "cell_type": "code",
      "metadata": {
        "id": "zA_P1quleowi",
        "colab": {
          "base_uri": "https://localhost:8080/"
        },
        "outputId": "059fa4b5-cc8b-4543-b717-0ae5b4927ba7"
      },
      "source": [
        "# build a classifier model to put on top of the convolutional model\n",
        "model = Sequential()\n",
        "model.add(base_model)\n",
        "model.add(Flatten(input_shape=base_model.output_shape[1:]))\n",
        "\n",
        "model.add(Dense(256))\n",
        "model.add(LeakyReLU(alpha=0.1))\n",
        "model.add(BatchNormalization())\n",
        "model.add(Dropout(0.5))\n",
        "\n",
        "model.add(Dense(128))\n",
        "model.add(LeakyReLU(alpha=0.1))\n",
        "model.add(BatchNormalization())\n",
        "model.add(Dropout(0.5))\n",
        "model.add(Dense(1, activation='sigmoid'))\n",
        "\n",
        "model.summary()\n"
      ],
      "execution_count": null,
      "outputs": [
        {
          "output_type": "stream",
          "name": "stdout",
          "text": [
            "Model: \"sequential_12\"\n",
            "_________________________________________________________________\n",
            " Layer (type)                Output Shape              Param #   \n",
            "=================================================================\n",
            " inception_v3 (Functional)   (None, 1, 1, 2048)        21802784  \n",
            "                                                                 \n",
            " flatten_12 (Flatten)        (None, 2048)              0         \n",
            "                                                                 \n",
            " dense_33 (Dense)            (None, 256)               524544    \n",
            "                                                                 \n",
            " leaky_re_lu_30 (LeakyReLU)  (None, 256)               0         \n",
            "                                                                 \n",
            " batch_normalization_312 (Ba  (None, 256)              1024      \n",
            " tchNormalization)                                               \n",
            "                                                                 \n",
            " dropout_30 (Dropout)        (None, 256)               0         \n",
            "                                                                 \n",
            " dense_34 (Dense)            (None, 128)               32896     \n",
            "                                                                 \n",
            " leaky_re_lu_31 (LeakyReLU)  (None, 128)               0         \n",
            "                                                                 \n",
            " batch_normalization_313 (Ba  (None, 128)              512       \n",
            " tchNormalization)                                               \n",
            "                                                                 \n",
            " dropout_31 (Dropout)        (None, 128)               0         \n",
            "                                                                 \n",
            " dense_35 (Dense)            (None, 1)                 129       \n",
            "                                                                 \n",
            "=================================================================\n",
            "Total params: 22,361,889\n",
            "Trainable params: 558,337\n",
            "Non-trainable params: 21,803,552\n",
            "_________________________________________________________________\n"
          ]
        }
      ]
    },
    {
      "cell_type": "code",
      "metadata": {
        "id": "FMRDr57cV43Q"
      },
      "source": [
        "# defining a function to save the weights of best model\n",
        "#from keras.callbacks import ModelCheckpoint\n",
        "#mcp_save = ModelCheckpoint('weight.hdf5', save_best_only=True, monitor='val_loss', mode='min')"
      ],
      "execution_count": null,
      "outputs": []
    },
    {
      "cell_type": "code",
      "metadata": {
        "id": "Myktbe5TX_wb"
      },
      "source": [
        "# Compile the model\n",
        "model.compile(loss=keras.losses.binary_crossentropy, metrics=['accuracy'], optimizer='adam')"
      ],
      "execution_count": null,
      "outputs": []
    },
    {
      "cell_type": "code",
      "metadata": {
        "id": "SnpllQlMULhZ"
      },
      "source": [
        "# Create training and validation sets\n",
        "X_train, X_val, y_train, y_val = train_test_split(X_train, y_train, test_size=0.1, random_state=42, stratify=y_train)"
      ],
      "execution_count": null,
      "outputs": []
    },
    {
      "cell_type": "code",
      "metadata": {
        "id": "rfZf-Au0xp7P"
      },
      "source": [
        "from sklearn.utils import class_weight\n",
        "class_weights = class_weight.compute_class_weight('balanced'\n",
        "                                               ,np.unique(y_train)\n",
        "                                               ,y_train)\n",
        "\n",
        "computed_class_weights = dict(enumerate(class_weights))\n"
      ],
      "execution_count": null,
      "outputs": []
    },
    {
      "cell_type": "code",
      "metadata": {
        "id": "cCEllq8XU2Ln",
        "colab": {
          "base_uri": "https://localhost:8080/"
        },
        "outputId": "dc01014d-ad61-4640-a999-409952046745"
      },
      "source": [
        "computed_class_weights"
      ],
      "execution_count": null,
      "outputs": [
        {
          "output_type": "execute_result",
          "data": {
            "text/plain": [
              "{0: 3.25, 1: 0.5909090909090909}"
            ]
          },
          "metadata": {},
          "execution_count": 396
        }
      ]
    },
    {
      "cell_type": "code",
      "metadata": {
        "id": "EQrpFGA2YMqG",
        "colab": {
          "base_uri": "https://localhost:8080/"
        },
        "outputId": "8ef5606e-ceed-4aca-b4b2-f2b91ec22a89"
      },
      "source": [
        "# Fit the model\n",
        "\n",
        "history = model.fit(X_train, y_train,\n",
        "                    epochs = 30,\n",
        "                    batch_size = 100,\n",
        "                    validation_data=(X_val,y_val),\n",
        "                    class_weight= computed_class_weights)"
      ],
      "execution_count": null,
      "outputs": [
        {
          "output_type": "stream",
          "name": "stdout",
          "text": [
            "Epoch 1/30\n",
            "6/6 [==============================] - 6s 419ms/step - loss: 0.0362 - accuracy: 0.9908 - val_loss: 0.0343 - val_accuracy: 1.0000\n",
            "Epoch 2/30\n",
            "6/6 [==============================] - 0s 43ms/step - loss: 0.0242 - accuracy: 0.9945 - val_loss: 0.0196 - val_accuracy: 0.9836\n",
            "Epoch 3/30\n",
            "6/6 [==============================] - 0s 43ms/step - loss: 0.0333 - accuracy: 0.9908 - val_loss: 0.0050 - val_accuracy: 1.0000\n",
            "Epoch 4/30\n",
            "6/6 [==============================] - 0s 50ms/step - loss: 0.0397 - accuracy: 0.9780 - val_loss: 0.0108 - val_accuracy: 1.0000\n",
            "Epoch 5/30\n",
            "6/6 [==============================] - 0s 43ms/step - loss: 0.0266 - accuracy: 0.9853 - val_loss: 0.0141 - val_accuracy: 0.9836\n",
            "Epoch 6/30\n",
            "6/6 [==============================] - 0s 42ms/step - loss: 0.0247 - accuracy: 0.9963 - val_loss: 0.0129 - val_accuracy: 1.0000\n",
            "Epoch 7/30\n",
            "6/6 [==============================] - 0s 43ms/step - loss: 0.0126 - accuracy: 1.0000 - val_loss: 0.0417 - val_accuracy: 0.9836\n",
            "Epoch 8/30\n",
            "6/6 [==============================] - 0s 43ms/step - loss: 0.0464 - accuracy: 0.9908 - val_loss: 0.0069 - val_accuracy: 1.0000\n",
            "Epoch 9/30\n",
            "6/6 [==============================] - 0s 45ms/step - loss: 0.0179 - accuracy: 0.9908 - val_loss: 0.0280 - val_accuracy: 1.0000\n",
            "Epoch 10/30\n",
            "6/6 [==============================] - 0s 43ms/step - loss: 0.0259 - accuracy: 0.9835 - val_loss: 0.0214 - val_accuracy: 1.0000\n",
            "Epoch 11/30\n",
            "6/6 [==============================] - 0s 42ms/step - loss: 0.0148 - accuracy: 0.9963 - val_loss: 0.0086 - val_accuracy: 1.0000\n",
            "Epoch 12/30\n",
            "6/6 [==============================] - 0s 43ms/step - loss: 0.0160 - accuracy: 0.9927 - val_loss: 0.0101 - val_accuracy: 1.0000\n",
            "Epoch 13/30\n",
            "6/6 [==============================] - 0s 43ms/step - loss: 0.0246 - accuracy: 0.9927 - val_loss: 0.0058 - val_accuracy: 1.0000\n",
            "Epoch 14/30\n",
            "6/6 [==============================] - 0s 42ms/step - loss: 0.0215 - accuracy: 0.9927 - val_loss: 0.0136 - val_accuracy: 1.0000\n",
            "Epoch 15/30\n",
            "6/6 [==============================] - 0s 43ms/step - loss: 0.0165 - accuracy: 0.9927 - val_loss: 0.0129 - val_accuracy: 1.0000\n",
            "Epoch 16/30\n",
            "6/6 [==============================] - 0s 43ms/step - loss: 0.0105 - accuracy: 0.9963 - val_loss: 0.0056 - val_accuracy: 1.0000\n",
            "Epoch 17/30\n",
            "6/6 [==============================] - 0s 43ms/step - loss: 0.0100 - accuracy: 0.9963 - val_loss: 0.0061 - val_accuracy: 1.0000\n",
            "Epoch 18/30\n",
            "6/6 [==============================] - 0s 42ms/step - loss: 0.0122 - accuracy: 0.9945 - val_loss: 0.0097 - val_accuracy: 1.0000\n",
            "Epoch 19/30\n",
            "6/6 [==============================] - 0s 43ms/step - loss: 0.0060 - accuracy: 1.0000 - val_loss: 0.0076 - val_accuracy: 1.0000\n",
            "Epoch 20/30\n",
            "6/6 [==============================] - 0s 43ms/step - loss: 0.0058 - accuracy: 1.0000 - val_loss: 0.0066 - val_accuracy: 1.0000\n",
            "Epoch 21/30\n",
            "6/6 [==============================] - 0s 43ms/step - loss: 0.0052 - accuracy: 0.9982 - val_loss: 0.0065 - val_accuracy: 1.0000\n",
            "Epoch 22/30\n",
            "6/6 [==============================] - 0s 43ms/step - loss: 0.0105 - accuracy: 0.9927 - val_loss: 0.0092 - val_accuracy: 1.0000\n",
            "Epoch 23/30\n",
            "6/6 [==============================] - 0s 43ms/step - loss: 0.0054 - accuracy: 1.0000 - val_loss: 0.0107 - val_accuracy: 1.0000\n",
            "Epoch 24/30\n",
            "6/6 [==============================] - 0s 43ms/step - loss: 0.0103 - accuracy: 0.9963 - val_loss: 0.0206 - val_accuracy: 0.9836\n",
            "Epoch 25/30\n",
            "6/6 [==============================] - 0s 43ms/step - loss: 0.0049 - accuracy: 1.0000 - val_loss: 0.0510 - val_accuracy: 0.9836\n",
            "Epoch 26/30\n",
            "6/6 [==============================] - 0s 42ms/step - loss: 0.0081 - accuracy: 1.0000 - val_loss: 0.0643 - val_accuracy: 0.9836\n",
            "Epoch 27/30\n",
            "6/6 [==============================] - 0s 43ms/step - loss: 0.0150 - accuracy: 0.9982 - val_loss: 0.0577 - val_accuracy: 0.9672\n",
            "Epoch 28/30\n",
            "6/6 [==============================] - 0s 42ms/step - loss: 0.0043 - accuracy: 0.9982 - val_loss: 0.0190 - val_accuracy: 1.0000\n",
            "Epoch 29/30\n",
            "6/6 [==============================] - 0s 43ms/step - loss: 0.0034 - accuracy: 1.0000 - val_loss: 0.0111 - val_accuracy: 1.0000\n",
            "Epoch 30/30\n",
            "6/6 [==============================] - 0s 42ms/step - loss: 0.0147 - accuracy: 0.9963 - val_loss: 0.0169 - val_accuracy: 1.0000\n"
          ]
        }
      ]
    },
    {
      "cell_type": "code",
      "metadata": {
        "colab": {
          "base_uri": "https://localhost:8080/",
          "height": 545
        },
        "id": "L6eiyMnX6C9A",
        "outputId": "0439434c-31d9-491c-9898-0d1b68e4173b"
      },
      "source": [
        "# Run the function to illustrate accuracy and loss\n",
        "visualize_results(history)"
      ],
      "execution_count": null,
      "outputs": [
        {
          "output_type": "display_data",
          "data": {
            "image/png": "[encoded data removed]",
            "text/plain": [
              "<Figure size 432x288 with 1 Axes>"
            ]
          },
          "metadata": {
            "needs_background": "light"
          }
        },
        {
          "output_type": "display_data",
          "data": {
            "image/png": "[encoded data removed]",
            "text/plain": [
              "<Figure size 432x288 with 1 Axes>"
            ]
          },
          "metadata": {
            "needs_background": "light"
          }
        }
      ]
    },
    {
      "cell_type": "code",
      "metadata": {
        "id": "tdJopRs_XX_-",
        "colab": {
          "base_uri": "https://localhost:8080/"
        },
        "outputId": "89263f65-4810-4f8f-e4e2-c7656e480aac"
      },
      "source": [
        "y_pred = model.predict(X_test)\n",
        "target_names = ['No tumor', 'Tumor']\n",
        "print(classification_report(y_test, y_pred.round(), target_names=target_names, digits=4))"
      ],
      "execution_count": null,
      "outputs": [
        {
          "output_type": "stream",
          "name": "stdout",
          "text": [
            "              precision    recall  f1-score   support\n",
            "\n",
            "    No tumor     0.8406    0.6374    0.7250        91\n",
            "       Tumor     0.9379    0.9784    0.9577       509\n",
            "\n",
            "    accuracy                         0.9267       600\n",
            "   macro avg     0.8892    0.8079    0.8413       600\n",
            "weighted avg     0.9231    0.9267    0.9224       600\n",
            "\n"
          ]
        }
      ]
    },
    {
      "cell_type": "code",
      "metadata": {
        "colab": {
          "base_uri": "https://localhost:8080/"
        },
        "id": "w8Hey8oTuuwo",
        "outputId": "808dd3c8-150f-4bc2-b0ff-0d8b1575783e"
      },
      "source": [
        "# Not Normalized\n",
        "cm = confusion_matrix(y_test, y_pred.round())\n",
        "print(cm)"
      ],
      "execution_count": null,
      "outputs": [
        {
          "output_type": "stream",
          "name": "stdout",
          "text": [
            "[[ 58  33]\n",
            " [ 11 498]]\n"
          ]
        }
      ]
    },
    {
      "cell_type": "code",
      "metadata": {
        "colab": {
          "base_uri": "https://localhost:8080/"
        },
        "id": "MtgVJRKgtiv7",
        "outputId": "cd40d4d1-13b2-4753-ffd1-d935f0dba30f"
      },
      "source": [
        "# Normalized\n",
        "cm = confusion_matrix(y_test, y_pred.round(), normalize='true')\n",
        "print(cm)"
      ],
      "execution_count": null,
      "outputs": [
        {
          "output_type": "stream",
          "name": "stdout",
          "text": [
            "[[0.63736264 0.36263736]\n",
            " [0.021611   0.978389  ]]\n"
          ]
        }
      ]
    },
    {
      "cell_type": "code",
      "metadata": {
        "colab": {
          "base_uri": "https://localhost:8080/",
          "height": 279
        },
        "id": "WSjW0CMSt3uy",
        "outputId": "a6e5817d-9535-4e1f-db9d-f172bfc78c84"
      },
      "source": [
        "disp = ConfusionMatrixDisplay(confusion_matrix=cm, display_labels=['Not tumor', 'Tumor'])\n",
        "disp = disp.plot(cmap=plt.cm.Blues)\n",
        "plt.show()"
      ],
      "execution_count": null,
      "outputs": [
        {
          "output_type": "display_data",
          "data": {
            "image/png": "[encoded data removed]",
            "text/plain": [
              "<Figure size 432x288 with 2 Axes>"
            ]
          },
          "metadata": {
            "needs_background": "light"
          }
        }
      ]
    },
    {
      "cell_type": "markdown",
      "metadata": {
        "id": "Sa9j_WhCr-Eq"
      },
      "source": [
        "##### Fine-tuning with data augmentation"
      ]
    },
    {
      "cell_type": "code",
      "metadata": {
        "id": "2brZ67KeP-u_"
      },
      "source": [
        ""
      ],
      "execution_count": null,
      "outputs": []
    },
    {
      "cell_type": "code",
      "metadata": {
        "id": "P3PA6ty9QRte"
      },
      "source": [
        ""
      ],
      "execution_count": null,
      "outputs": []
    },
    {
      "cell_type": "code",
      "metadata": {
        "id": "vWtzcnSlXHUI",
        "colab": {
          "base_uri": "https://localhost:8080/",
          "height": 49,
          "referenced_widgets": [
            "6edca9c4726d4080a41d536c9b0cfa16",
            "35239bf3a9fe4ea49a7e4ef811c4b86a",
            "595960ec54a44235953284c62a52660e",
            "df3cc726c1ea400c99f3bad5f1dd9cd9",
            "f082a93c305d4e0ab01b238a7602f073",
            "401ad886da2f404c94f85e6aa70709b7",
            "dc2c50e864114e4e8f097f824ac9fc0d",
            "05aeb93179dc423ca2682aac9c3eae93",
            "d43bdba9d78244c6bfb02342f4b247fc",
            "b442477fd9c3465a835043bc062216cd",
            "b6d8f6e015c64525b078eb610bcf7123"
          ]
        },
        "outputId": "da06fea8-2f80-413d-9b0f-0fe45b3dd5e8"
      },
      "source": [
        "# Train images\n",
        "x_train = []\n",
        "for i in tqdm(train_x):\n",
        "    image_path = '/content/drive/MyDrive/data/Brain/dataset/dataset/image/'+i\n",
        "    img = np.array(image.load_img(image_path, target_size=(100,100), color_mode = \"rgb\"), dtype=\"float\")/ 255.0\n",
        "    x_train.append(img)"
      ],
      "execution_count": null,
      "outputs": [
        {
          "output_type": "display_data",
          "data": {
            "application/vnd.jupyter.widget-view+json": {
              "model_id": "6edca9c4726d4080a41d536c9b0cfa16",
              "version_minor": 0,
              "version_major": 2
            },
            "text/plain": [
              "  0%|          | 0/2400 [00:00<?, ?it/s]"
            ]
          },
          "metadata": {}
        }
      ]
    },
    {
      "cell_type": "code",
      "metadata": {
        "id": "JF_clIHJeq4t"
      },
      "source": [
        "# Train df\n",
        "df_train = pd.DataFrame(columns=['file_name','tumor'])\n",
        "df_train['file_name'] = train_x\n",
        "df_train['tumor'] = train_y\n",
        "\n",
        "# Test df\n",
        "df_test= pd.DataFrame(columns=['file_name','tumor'])\n",
        "df_test['file_name'] = val_x\n",
        "df_test['tumor'] = val_y\n",
        "\n",
        "df_train.reset_index(drop=True, inplace=True)\n",
        "df_test.reset_index(drop=True, inplace=True)"
      ],
      "execution_count": null,
      "outputs": []
    },
    {
      "cell_type": "code",
      "metadata": {
        "id": "m9pIbZYjQuh4",
        "colab": {
          "base_uri": "https://localhost:8080/",
          "height": 49,
          "referenced_widgets": [
            "2a5395e820f443469c6724f72c4e84ef",
            "a2d63316508c4923beb759fbbe9883d8",
            "444b2a95e6524e56850455d09c19abb8",
            "25d0416bd3c846c9a932650780bc219a",
            "683ce8d49f664579aea1d00037a8df5d",
            "8f64efdd11c045588f67c5f301325bdf",
            "5351f14be4b04b359bec58071cca42fa",
            "f06c494e19204074b671a406779e0a59",
            "3bb96c96ecd74598a0111712b00dfdb7",
            "8b44def2e39c473b9cc94ff01049b384",
            "8ad56cbbce524195b93ade098540a566"
          ]
        },
        "outputId": "833157ec-aba1-41ff-f8b4-9fb1c2dbeac8"
      },
      "source": [
        "# Images\n",
        "train_images = df_train.loc[:,'file_name']\n",
        "train_labels = df_train.loc[:,'tumor']\n",
        "\n",
        "test_images = df_test.loc[:,'file_name']\n",
        "test_labels = df_test.loc[:,'tumor']\n",
        "\n",
        "# Train images\n",
        "x_train = []\n",
        "for i in tqdm(train_images):\n",
        "    image_path = '/content/drive/MyDrive/data/Brain/dataset/dataset/image/'+i\n",
        "    img = np.array(image.load_img(image_path, target_size=(100,100), color_mode = \"rgb\"), dtype=\"float\")/ 255.0\n",
        "    x_train.append(img)\n",
        "\n",
        "# Train labels\n",
        "#y_train=keras.utils.np_utils.to_categorical(train_labels)"
      ],
      "execution_count": null,
      "outputs": [
        {
          "output_type": "display_data",
          "data": {
            "application/vnd.jupyter.widget-view+json": {
              "model_id": "2a5395e820f443469c6724f72c4e84ef",
              "version_minor": 0,
              "version_major": 2
            },
            "text/plain": [
              "  0%|          | 0/2400 [00:00<?, ?it/s]"
            ]
          },
          "metadata": {}
        }
      ]
    },
    {
      "cell_type": "code",
      "metadata": {
        "id": "XibkEqTmQ7pC",
        "colab": {
          "base_uri": "https://localhost:8080/",
          "height": 49,
          "referenced_widgets": [
            "a6605f366dac4911867cf43ac74b2103",
            "d9ff1ac6125548bd99613fc82f66cc3e",
            "cfbea703ea6c47568aac08a246bd303f",
            "c57da697f6664fdeb54710ad031bfb9f",
            "803b5bf92ee042868d934393001bd2e5",
            "733191f1d8514a4fa8afeb9a9cd5e894",
            "7e409f1806544525839fd7cc195b8f42",
            "86f771294f7d471a83254bbf26c649e3",
            "baa29e05686845928abd3596a7bdc1dd",
            "a3d0f4c0a79840f5972dc3ede465d526",
            "4f57142e2b39484f936f1d32873455d4"
          ]
        },
        "outputId": "783b31ad-295a-4fc3-f90c-6565fd12e130"
      },
      "source": [
        "# Test images\n",
        "x_test = []\n",
        "for i in tqdm(test_images):\n",
        "    image_path = '/content/drive/MyDrive/data/Brain/dataset/dataset/image/'+i\n",
        "    img = np.array(image.load_img(image_path, target_size=(100,100), color_mode = \"rgb\"), dtype=\"float\")/ 255.0\n",
        "    x_test.append(img)\n",
        "\n",
        "# Test labels\n",
        "#y_test=keras.utils.np_utils.to_categorical(test_labels)\n",
        "\n"
      ],
      "execution_count": null,
      "outputs": [
        {
          "output_type": "display_data",
          "data": {
            "application/vnd.jupyter.widget-view+json": {
              "model_id": "a6605f366dac4911867cf43ac74b2103",
              "version_minor": 0,
              "version_major": 2
            },
            "text/plain": [
              "  0%|          | 0/600 [00:00<?, ?it/s]"
            ]
          },
          "metadata": {}
        }
      ]
    },
    {
      "cell_type": "code",
      "metadata": {
        "id": "i7-pPMgdEDrW"
      },
      "source": [
        "x_train = np.array(x_train)\n",
        "x_test = np.array(x_test)"
      ],
      "execution_count": null,
      "outputs": []
    },
    {
      "cell_type": "code",
      "metadata": {
        "id": "I6LS1FzPE_9x"
      },
      "source": [
        "#x_train = x_train.reshape(x_train.shape[0], x_train.shape[1], x_train.shape[2], 1)"
      ],
      "execution_count": null,
      "outputs": []
    },
    {
      "cell_type": "code",
      "metadata": {
        "id": "zz2xU6u8FOmW"
      },
      "source": [
        "#x_test = x_test.reshape(x_test.shape[0], x_test.shape[1], x_test.shape[2], 1)"
      ],
      "execution_count": null,
      "outputs": []
    },
    {
      "cell_type": "code",
      "metadata": {
        "id": "xKSGac-_cmHB",
        "colab": {
          "base_uri": "https://localhost:8080/"
        },
        "outputId": "f36d23a8-0a0f-4f11-bc8b-37c78c0df0b6"
      },
      "source": [
        "from keras.models import Model\n",
        "\n",
        "from keras.applications.vgg16 import VGG16\n",
        "#from keras.applications.inception_v3 import InceptionV3\n",
        "#from keras.applications.resnet50 import ResNet50\n",
        "\n",
        "# load model and specify a new input shape for images\n",
        "input_tensor = Input(shape=(100, 100, 3))\n",
        "\n",
        "# creating the base model of pre-trained VGG16 model\n",
        "base_model = VGG16(weights='imagenet', include_top=False, input_shape=(100, 100, 3))"
      ],
      "execution_count": null,
      "outputs": [
        {
          "output_type": "stream",
          "name": "stdout",
          "text": [
            "Downloading data from https://storage.googleapis.com/tensorflow/keras-applications/vgg16/vgg16_weights_tf_dim_ordering_tf_kernels_notop.h5\n",
            "58892288/58889256 [==============================] - 1s 0us/step\n",
            "58900480/58889256 [==============================] - 1s 0us/step\n"
          ]
        }
      ]
    },
    {
      "cell_type": "code",
      "metadata": {
        "id": "m6FS1_L3crJf",
        "colab": {
          "base_uri": "https://localhost:8080/"
        },
        "outputId": "a31f9f4f-d951-4372-8f19-dc949dcf6dc6"
      },
      "source": [
        "# Freeze all the layers\n",
        "for layer in base_model.layers[:]:\n",
        "    layer.trainable = False\n",
        "\n",
        "# Check the trainable status of the individual layers\n",
        "for layer in base_model.layers:\n",
        "    print(layer, layer.trainable)"
      ],
      "execution_count": null,
      "outputs": [
        {
          "output_type": "stream",
          "name": "stdout",
          "text": [
            "<keras.engine.input_layer.InputLayer object at 0x7fd65945d5d0> False\n",
            "<keras.layers.convolutional.Conv2D object at 0x7fd657071350> False\n",
            "<keras.layers.convolutional.Conv2D object at 0x7fd6570194d0> False\n",
            "<keras.layers.pooling.MaxPooling2D object at 0x7fd659452c10> False\n",
            "<keras.layers.convolutional.Conv2D object at 0x7fd656f02e90> False\n",
            "<keras.layers.convolutional.Conv2D object at 0x7fd65701ed10> False\n",
            "<keras.layers.pooling.MaxPooling2D object at 0x7fd656f33650> False\n",
            "<keras.layers.convolutional.Conv2D object at 0x7fd65701ecd0> False\n",
            "<keras.layers.convolutional.Conv2D object at 0x7fd6570251d0> False\n",
            "<keras.layers.convolutional.Conv2D object at 0x7fd66122c150> False\n",
            "<keras.layers.pooling.MaxPooling2D object at 0x7fd661224250> False\n",
            "<keras.layers.convolutional.Conv2D object at 0x7fd656f39dd0> False\n",
            "<keras.layers.convolutional.Conv2D object at 0x7fd656f08f90> False\n",
            "<keras.layers.convolutional.Conv2D object at 0x7fd65982bad0> False\n",
            "<keras.layers.pooling.MaxPooling2D object at 0x7fd65953cd50> False\n",
            "<keras.layers.convolutional.Conv2D object at 0x7fd6594b4290> False\n",
            "<keras.layers.convolutional.Conv2D object at 0x7fd657071ad0> False\n",
            "<keras.layers.convolutional.Conv2D object at 0x7fd65953c490> False\n",
            "<keras.layers.pooling.MaxPooling2D object at 0x7fd659510f10> False\n"
          ]
        }
      ]
    },
    {
      "cell_type": "code",
      "metadata": {
        "id": "rHUFT6ekcz_2",
        "colab": {
          "base_uri": "https://localhost:8080/"
        },
        "outputId": "6552c4dd-ac4f-4048-cbea-e0c575b0e4aa"
      },
      "source": [
        "# build a classifier model to put on top of the convolutional model\n",
        "model = Sequential()\n",
        "model.add(base_model)\n",
        "model.add(Flatten(input_shape=base_model.output_shape[1:]))\n",
        "\n",
        "model.add(Dense(256))\n",
        "model.add(LeakyReLU(alpha=0.1))\n",
        "model.add(BatchNormalization())\n",
        "model.add(Dropout(0.5))\n",
        "\n",
        "model.add(Dense(128))\n",
        "model.add(LeakyReLU(alpha=0.1))\n",
        "model.add(BatchNormalization())\n",
        "model.add(Dropout(0.5))\n",
        "model.add(Dense(1, activation='sigmoid'))\n",
        "\n",
        "model.summary()"
      ],
      "execution_count": null,
      "outputs": [
        {
          "output_type": "stream",
          "name": "stdout",
          "text": [
            "Model: \"sequential_2\"\n",
            "_________________________________________________________________\n",
            "Layer (type)                 Output Shape              Param #   \n",
            "=================================================================\n",
            "vgg16 (Functional)           (None, 3, 3, 512)         14714688  \n",
            "_________________________________________________________________\n",
            "flatten_2 (Flatten)          (None, 4608)              0         \n",
            "_________________________________________________________________\n",
            "dense_4 (Dense)              (None, 256)               1179904   \n",
            "_________________________________________________________________\n",
            "leaky_re_lu_8 (LeakyReLU)    (None, 256)               0         \n",
            "_________________________________________________________________\n",
            "batch_normalization_8 (Batch (None, 256)               1024      \n",
            "_________________________________________________________________\n",
            "dropout_8 (Dropout)          (None, 256)               0         \n",
            "_________________________________________________________________\n",
            "dense_5 (Dense)              (None, 128)               32896     \n",
            "_________________________________________________________________\n",
            "leaky_re_lu_9 (LeakyReLU)    (None, 128)               0         \n",
            "_________________________________________________________________\n",
            "batch_normalization_9 (Batch (None, 128)               512       \n",
            "_________________________________________________________________\n",
            "dropout_9 (Dropout)          (None, 128)               0         \n",
            "_________________________________________________________________\n",
            "dense_6 (Dense)              (None, 1)                 129       \n",
            "=================================================================\n",
            "Total params: 15,929,153\n",
            "Trainable params: 1,213,697\n",
            "Non-trainable params: 14,715,456\n",
            "_________________________________________________________________\n"
          ]
        }
      ]
    },
    {
      "cell_type": "code",
      "metadata": {
        "id": "d27goplEc86p"
      },
      "source": [
        "from sklearn.utils import class_weight\n",
        "class_weights = class_weight.compute_class_weight('balanced'\n",
        "                                               ,np.unique(train_y)\n",
        "                                               ,train_y)\n",
        "\n",
        "computed_class_weights = dict(enumerate(class_weights))\n"
      ],
      "execution_count": null,
      "outputs": []
    },
    {
      "cell_type": "code",
      "metadata": {
        "id": "f_b3xerCQqB6"
      },
      "source": [
        "df_train.head()"
      ],
      "execution_count": null,
      "outputs": []
    },
    {
      "cell_type": "code",
      "metadata": {
        "id": "DpUKTtvrL9EW",
        "colab": {
          "base_uri": "https://localhost:8080/",
          "height": 119
        },
        "outputId": "50034289-06dc-4713-c831-e646982d5375"
      },
      "source": [
        "from keras.preprocessing.image import ImageDataGenerator\n",
        "\n",
        "# Augmentation\n",
        "train_datagen = ImageDataGenerator(rotation_range=10,  # rotation\n",
        "                                   #width_shift_range=0.1,  # horizontal shift\n",
        "                                   # zoom\n",
        "                                   horizontal_flip=True,  # horizontal flip\n",
        "                                   vertical_flip=True,\n",
        "                                   fill_mode=\"constant\"\n",
        "                                   #brightness_range=[0.2,0.5]\n",
        "                                   )  # brightness\n",
        "\n",
        "# ImageDataGenerator flow_from_dataframe\n",
        "\n",
        "#df_train = pd.read_csv('/content/drive/MyDrive/data/Brain/dataset/dataset/label.csv')\n",
        "df_train['tumor'] = df_train['tumor'].astype('str')\n",
        "\n",
        "train_generator = train_datagen.flow_from_dataframe(dataframe=df_train, \n",
        "                                              directory='/content/drive/MyDrive/data/Brain/dataset/dataset/image',\n",
        "                                              x_col=\"file_name\", \n",
        "                                              y_col=\"tumor\",                          \n",
        "                                              class_mode=\"binary\", \n",
        "                                              target_size=(100, 100), \n",
        "                                              batch_size=1,\n",
        "                                              rescale=1.0/255,\n",
        "                                              seed=2020)\n",
        "# plotting images\n",
        "fig, ax = plt.subplots(nrows=1, ncols=10, figsize=(15,15))\n",
        "\n",
        "for i in range(10):\n",
        "\n",
        "  # convert to unsigned integers for plotting\n",
        "  img = next(train_generator)[0].astype('uint8')\n",
        "\n",
        "  # changing size from (1, 100, 100, 3) to (100, 100, 3) for plotting the image\n",
        "  img = np.squeeze(img)\n",
        "\n",
        "  # plot raw pixel data\n",
        "  ax[i].imshow(img)\n",
        "  ax[i].axis('off')"
      ],
      "execution_count": null,
      "outputs": [
        {
          "output_type": "stream",
          "name": "stdout",
          "text": [
            "Found 2400 validated image filenames belonging to 2 classes.\n"
          ]
        },
        {
          "output_type": "display_data",
          "data": {
            "image/png": "[encoded data removed]",
            "text/plain": [
              "<Figure size 1080x1080 with 10 Axes>"
            ]
          },
          "metadata": {
            "needs_background": "light"
          }
        }
      ]
    },
    {
      "cell_type": "code",
      "metadata": {
        "id": "2UrNDqOXhnzc"
      },
      "source": [
        "valid_datagen = ImageDataGenerator(rotation_range=20,  # rotation\n",
        "                                   #width_shift_range=0.1,  # horizontal shift\n",
        "                                    # zoom\n",
        "                                   horizontal_flip=True,  # horizontal flip\n",
        "                                   vertical_flip=True,\n",
        "                                   fill_mode=\"constant\"\n",
        "                                   #brightness_range=[0.2,0.5]\n",
        "                                   )  # brightness\n",
        "\n",
        "valid_generator = valid_datagen.flow_from_dataframe(dataframe=df_test, \n",
        "                                                    directory='/content/drive/MyDrive/data/Brain/dataset/dataset/image',\n",
        "                                                    x_col=\"file_name\", \n",
        "                                                    y_col=\"tumor\", \n",
        "                                                    class_mode=\"binary\", \n",
        "                                                    target_size=(100, 100), \n",
        "                                                    batch_size=1,\n",
        "                                                    rescale=1.0/255,\n",
        "                                                    seed=2020)"
      ],
      "execution_count": null,
      "outputs": []
    },
    {
      "cell_type": "code",
      "metadata": {
        "id": "zA4yM67Odi8S"
      },
      "source": [
        "# Compile\n",
        "model.compile(loss='binary_crossentropy',\n",
        "              optimizer='adam',\n",
        "              metrics=['accuracy'])"
      ],
      "execution_count": null,
      "outputs": []
    },
    {
      "cell_type": "code",
      "metadata": {
        "id": "DXjou5ahPpdm"
      },
      "source": [
        "# Epochs\n",
        "epochs = 10\n",
        "# Batch size\n",
        "batch_size = 100\n",
        "\n",
        "history = model.fit(train_generator,\n",
        "                    batch_size=batch_size, \n",
        "                    epochs=epochs,\n",
        "                    validation_data=valid_generator,\n",
        "                    class_weight = computed_class_weights,\n",
        "                    verbose=1)"
      ],
      "execution_count": null,
      "outputs": []
    },
    {
      "cell_type": "code",
      "metadata": {
        "id": "rxQUsB4lmj4l"
      },
      "source": [
        "# Run the function to illustrate accuracy and loss\n",
        "visualize_results(history)"
      ],
      "execution_count": null,
      "outputs": []
    },
    {
      "cell_type": "code",
      "metadata": {
        "id": "rXorAYMRmnq8"
      },
      "source": [
        "y_pred = model.predict(X_test)\n",
        "print(classification_report(y_test, y_pred.round()))"
      ],
      "execution_count": null,
      "outputs": []
    },
    {
      "cell_type": "code",
      "metadata": {
        "id": "VKrBhGN0mqKj"
      },
      "source": [
        "print(confusion_matrix(y_test, y_pred.round()))"
      ],
      "execution_count": null,
      "outputs": []
    },
    {
      "cell_type": "code",
      "metadata": {
        "id": "TYpb2ofdi14p"
      },
      "source": [
        "model.save(\"tumor_classification.h5\")\n",
        "print(\"Saved model to disk\")"
      ],
      "execution_count": null,
      "outputs": []
    }
  ]
}