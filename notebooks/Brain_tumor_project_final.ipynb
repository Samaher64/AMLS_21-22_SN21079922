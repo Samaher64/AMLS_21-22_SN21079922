{
  "cells": [
    {
      "cell_type": "markdown",
      "metadata": {
        "id": "BKEDNozvm7Cx"
      },
      "source": [
        "### Import librabries"
      ]
    },
    {
      "cell_type": "code",
      "execution_count": 1,
      "metadata": {
        "colab": {
          "base_uri": "https://localhost:8080/"
        },
        "id": "o_B0S-BRATJQ",
        "outputId": "ff665a79-e9f3-4932-ceef-1a19d86dc70e"
      },
      "outputs": [
        {
          "output_type": "stream",
          "name": "stdout",
          "text": [
            "Mounted at /content/drive\n"
          ]
        }
      ],
      "source": [
        "from google.colab import drive\n",
        "drive.mount('/content/drive')"
      ]
    },
    {
      "cell_type": "code",
      "execution_count": null,
      "metadata": {
        "id": "Y5z4g49_MuSA"
      },
      "outputs": [],
      "source": [
        "import tensorflow as tf\n",
        "\n",
        "import pandas as pd\n",
        "import numpy as np\n",
        "import matplotlib.pyplot as plt\n",
        "import seaborn as sns\n",
        "\n",
        "import os\n",
        "from tqdm.notebook import tqdm\n",
        "\n",
        "from sklearn.model_selection import train_test_split, cross_val_score, KFold\n",
        "from sklearn.utils import class_weight\n",
        "from sklearn.metrics import confusion_matrix, plot_confusion_matrix, classification_report, ConfusionMatrixDisplay\n",
        "\n",
        "\n",
        "import keras\n",
        "from keras.preprocessing import image\n",
        "from keras.preprocessing.image import ImageDataGenerator\n",
        "\n",
        "from keras.layers import Dense, Conv2D, Activation,BatchNormalization, MaxPooling2D, Dropout, Flatten, Input\n",
        "from keras.models import load_model, Sequential, Model\n",
        "from keras.layers.advanced_activations import LeakyReLU\n",
        "from tensorflow.keras.optimizers import Adam, SGD\n",
        "from keras.utils import np_utils\n",
        "\n",
        "\n",
        "import cv2"
      ]
    },
    {
      "cell_type": "code",
      "execution_count": null,
      "metadata": {
        "colab": {
          "base_uri": "https://localhost:8080/"
        },
        "id": "qoGE4sPqIJ0d",
        "outputId": "dd04be71-4236-41b5-8664-6efb6b65d3e5"
      },
      "outputs": [
        {
          "name": "stdout",
          "output_type": "stream",
          "text": [
            "[name: \"/device:CPU:0\"\n",
            "device_type: \"CPU\"\n",
            "memory_limit: 268435456\n",
            "locality {\n",
            "}\n",
            "incarnation: 15961080006387862153\n",
            "xla_global_id: -1\n",
            "]\n"
          ]
        }
      ],
      "source": [
        "#for gbu\n",
        "from tensorflow.python.client import device_lib\n",
        "print(device_lib.list_local_devices())"
      ]
    },
    {
      "cell_type": "markdown",
      "metadata": {
        "id": "Cav9b4mjFv3E"
      },
      "source": [
        "### 1. Read the dataset"
      ]
    },
    {
      "cell_type": "markdown",
      "metadata": {
        "id": "e5NJDTPEE86r"
      },
      "source": [
        "#### 1.2 Read labels"
      ]
    },
    {
      "cell_type": "code",
      "execution_count": null,
      "metadata": {
        "colab": {
          "base_uri": "https://localhost:8080/"
        },
        "id": "kYur59Ix66g3",
        "outputId": "7e1a8129-02bd-4c3d-cbef-28ca0b2ab2a7"
      },
      "outputs": [
        {
          "output_type": "stream",
          "name": "stderr",
          "text": [
            "/usr/local/lib/python3.7/dist-packages/ipykernel_launcher.py:5: SettingWithCopyWarning: \n",
            "A value is trying to be set on a copy of a slice from a DataFrame\n",
            "\n",
            "See the caveats in the documentation: https://pandas.pydata.org/pandas-docs/stable/user_guide/indexing.html#returning-a-view-versus-a-copy\n",
            "  \"\"\"\n"
          ]
        }
      ],
      "source": [
        "# read labels\n",
        "df_labels = pd.read_csv('/content/drive/MyDrive/data/Brain/dataset/dataset/label.csv')\n",
        "\n",
        "df_labels['tumor'] = 1\n",
        "df_labels['tumor'][df_labels['label'] == 'no_tumor'] = 0\n",
        "\n",
        "df_labels['tumor_type'] = df_labels['tumor']\n",
        "df_labels['tumor_type'] = df_labels['label'].map({'no_tumor': 0, 'meningioma_tumor': 1, 'glioma_tumor': 2, 'pituitary_tumor': 3 })\n",
        "\n",
        "\n",
        "labels = df_labels['tumor']\n",
        "\n",
        "df_labels.to_csv('p_labels.csv')"
      ]
    },
    {
      "cell_type": "code",
      "execution_count": null,
      "metadata": {
        "colab": {
          "base_uri": "https://localhost:8080/",
          "height": 363
        },
        "id": "xddLDi3S68RN",
        "outputId": "01d6a0fb-d56e-4b5f-a3cc-f88980862cba"
      },
      "outputs": [
        {
          "data": {
            "text/html": [
              "<div>\n",
              "<style scoped>\n",
              "    .dataframe tbody tr th:only-of-type {\n",
              "        vertical-align: middle;\n",
              "    }\n",
              "\n",
              "    .dataframe tbody tr th {\n",
              "        vertical-align: top;\n",
              "    }\n",
              "\n",
              "    .dataframe thead th {\n",
              "        text-align: right;\n",
              "    }\n",
              "</style>\n",
              "<table border=\"1\" class=\"dataframe\">\n",
              "  <thead>\n",
              "    <tr style=\"text-align: right;\">\n",
              "      <th></th>\n",
              "      <th>file_name</th>\n",
              "      <th>label</th>\n",
              "      <th>tumor</th>\n",
              "      <th>tumor_type</th>\n",
              "    </tr>\n",
              "  </thead>\n",
              "  <tbody>\n",
              "    <tr>\n",
              "      <th>0</th>\n",
              "      <td>IMAGE_0000.jpg</td>\n",
              "      <td>meningioma_tumor</td>\n",
              "      <td>1</td>\n",
              "      <td>1</td>\n",
              "    </tr>\n",
              "    <tr>\n",
              "      <th>1</th>\n",
              "      <td>IMAGE_0001.jpg</td>\n",
              "      <td>no_tumor</td>\n",
              "      <td>0</td>\n",
              "      <td>0</td>\n",
              "    </tr>\n",
              "    <tr>\n",
              "      <th>2</th>\n",
              "      <td>IMAGE_0002.jpg</td>\n",
              "      <td>meningioma_tumor</td>\n",
              "      <td>1</td>\n",
              "      <td>1</td>\n",
              "    </tr>\n",
              "    <tr>\n",
              "      <th>3</th>\n",
              "      <td>IMAGE_0003.jpg</td>\n",
              "      <td>glioma_tumor</td>\n",
              "      <td>1</td>\n",
              "      <td>2</td>\n",
              "    </tr>\n",
              "    <tr>\n",
              "      <th>4</th>\n",
              "      <td>IMAGE_0004.jpg</td>\n",
              "      <td>meningioma_tumor</td>\n",
              "      <td>1</td>\n",
              "      <td>1</td>\n",
              "    </tr>\n",
              "    <tr>\n",
              "      <th>5</th>\n",
              "      <td>IMAGE_0005.jpg</td>\n",
              "      <td>meningioma_tumor</td>\n",
              "      <td>1</td>\n",
              "      <td>1</td>\n",
              "    </tr>\n",
              "    <tr>\n",
              "      <th>6</th>\n",
              "      <td>IMAGE_0006.jpg</td>\n",
              "      <td>no_tumor</td>\n",
              "      <td>0</td>\n",
              "      <td>0</td>\n",
              "    </tr>\n",
              "    <tr>\n",
              "      <th>7</th>\n",
              "      <td>IMAGE_0007.jpg</td>\n",
              "      <td>glioma_tumor</td>\n",
              "      <td>1</td>\n",
              "      <td>2</td>\n",
              "    </tr>\n",
              "    <tr>\n",
              "      <th>8</th>\n",
              "      <td>IMAGE_0008.jpg</td>\n",
              "      <td>glioma_tumor</td>\n",
              "      <td>1</td>\n",
              "      <td>2</td>\n",
              "    </tr>\n",
              "    <tr>\n",
              "      <th>9</th>\n",
              "      <td>IMAGE_0009.jpg</td>\n",
              "      <td>pituitary_tumor</td>\n",
              "      <td>1</td>\n",
              "      <td>3</td>\n",
              "    </tr>\n",
              "  </tbody>\n",
              "</table>\n",
              "</div>"
            ],
            "text/plain": [
              "        file_name             label  tumor  tumor_type\n",
              "0  IMAGE_0000.jpg  meningioma_tumor      1           1\n",
              "1  IMAGE_0001.jpg          no_tumor      0           0\n",
              "2  IMAGE_0002.jpg  meningioma_tumor      1           1\n",
              "3  IMAGE_0003.jpg      glioma_tumor      1           2\n",
              "4  IMAGE_0004.jpg  meningioma_tumor      1           1\n",
              "5  IMAGE_0005.jpg  meningioma_tumor      1           1\n",
              "6  IMAGE_0006.jpg          no_tumor      0           0\n",
              "7  IMAGE_0007.jpg      glioma_tumor      1           2\n",
              "8  IMAGE_0008.jpg      glioma_tumor      1           2\n",
              "9  IMAGE_0009.jpg   pituitary_tumor      1           3"
            ]
          },
          "execution_count": 4,
          "metadata": {},
          "output_type": "execute_result"
        }
      ],
      "source": [
        "df_labels.head(10)"
      ]
    },
    {
      "cell_type": "code",
      "execution_count": null,
      "metadata": {
        "colab": {
          "base_uri": "https://localhost:8080/"
        },
        "id": "7p8a-bdUDp0b",
        "outputId": "d4c7733a-094c-48df-c48e-3c542a4638ed"
      },
      "outputs": [
        {
          "data": {
            "text/plain": [
              "file_name     3000\n",
              "label         3000\n",
              "tumor         3000\n",
              "tumor_type    3000\n",
              "dtype: int64"
            ]
          },
          "execution_count": 346,
          "metadata": {},
          "output_type": "execute_result"
        }
      ],
      "source": [
        "df_labels.count()"
      ]
    },
    {
      "cell_type": "code",
      "execution_count": null,
      "metadata": {
        "colab": {
          "base_uri": "https://localhost:8080/"
        },
        "id": "mdp9KDPZ1SlG",
        "outputId": "c9229f45-17fd-4748-b364-8a45826971e8"
      },
      "outputs": [
        {
          "data": {
            "image/png": "[encoded data removed]",
            "text/plain": [
              "<Figure size 432x288 with 1 Axes>"
            ]
          },
          "metadata": {},
          "output_type": "display_data"
        }
      ],
      "source": [
        "plt.figure()\n",
        "\n",
        "sns.color_palette(\"bright\")  \n",
        "sns.countplot(x='tumor',  data=df_labels)\n",
        "plt.xticks([0,1], ['No tumor', 'tumor'])\n",
        "plt.xlabel(\"\")\n",
        "plt.show()"
      ]
    },
    {
      "cell_type": "code",
      "execution_count": null,
      "metadata": {
        "colab": {
          "base_uri": "https://localhost:8080/"
        },
        "id": "39Y5g4tV2Miq",
        "outputId": "badad934-6389-4753-c362-bf55fcd06df5"
      },
      "outputs": [
        {
          "data": {
            "image/png": "[encoded data removed]",
            "text/plain": [
              "<Figure size 432x288 with 1 Axes>"
            ]
          },
          "metadata": {},
          "output_type": "display_data"
        }
      ],
      "source": [
        "plt.figure()\n",
        "sns.countplot(x='tumor_type',  data=df_labels)\n",
        "plt.xticks([0,1,2,3], ['No tumor', 'meningioma','glioma', 'pituitary'])\n",
        "plt.xlabel(\"\")\n",
        "plt.title(\"Tumor types\")\n",
        "plt.show()"
      ]
    },
    {
      "cell_type": "markdown",
      "metadata": {
        "id": "Rbypm8llLqsl"
      },
      "source": [
        "#### 2.2 Read images"
      ]
    },
    {
      "cell_type": "code",
      "execution_count": null,
      "metadata": {
        "colab": {
          "base_uri": "https://localhost:8080/",
          "height": 206
        },
        "id": "a0LYudyxTPV3",
        "outputId": "c0ef22ea-ed1f-49d5-c7a3-4967cb8ff22d"
      },
      "outputs": [
        {
          "data": {
            "text/html": [
              "<div>\n",
              "<style scoped>\n",
              "    .dataframe tbody tr th:only-of-type {\n",
              "        vertical-align: middle;\n",
              "    }\n",
              "\n",
              "    .dataframe tbody tr th {\n",
              "        vertical-align: top;\n",
              "    }\n",
              "\n",
              "    .dataframe thead th {\n",
              "        text-align: right;\n",
              "    }\n",
              "</style>\n",
              "<table border=\"1\" class=\"dataframe\">\n",
              "  <thead>\n",
              "    <tr style=\"text-align: right;\">\n",
              "      <th></th>\n",
              "      <th>file_name</th>\n",
              "      <th>label</th>\n",
              "      <th>tumor</th>\n",
              "      <th>tumor_type</th>\n",
              "    </tr>\n",
              "  </thead>\n",
              "  <tbody>\n",
              "    <tr>\n",
              "      <th>0</th>\n",
              "      <td>IMAGE_0000.jpg</td>\n",
              "      <td>meningioma_tumor</td>\n",
              "      <td>1</td>\n",
              "      <td>1</td>\n",
              "    </tr>\n",
              "    <tr>\n",
              "      <th>1</th>\n",
              "      <td>IMAGE_0001.jpg</td>\n",
              "      <td>no_tumor</td>\n",
              "      <td>0</td>\n",
              "      <td>0</td>\n",
              "    </tr>\n",
              "    <tr>\n",
              "      <th>2</th>\n",
              "      <td>IMAGE_0002.jpg</td>\n",
              "      <td>meningioma_tumor</td>\n",
              "      <td>1</td>\n",
              "      <td>1</td>\n",
              "    </tr>\n",
              "    <tr>\n",
              "      <th>3</th>\n",
              "      <td>IMAGE_0003.jpg</td>\n",
              "      <td>glioma_tumor</td>\n",
              "      <td>1</td>\n",
              "      <td>2</td>\n",
              "    </tr>\n",
              "    <tr>\n",
              "      <th>4</th>\n",
              "      <td>IMAGE_0004.jpg</td>\n",
              "      <td>meningioma_tumor</td>\n",
              "      <td>1</td>\n",
              "      <td>1</td>\n",
              "    </tr>\n",
              "  </tbody>\n",
              "</table>\n",
              "</div>"
            ],
            "text/plain": [
              "        file_name             label  tumor  tumor_type\n",
              "0  IMAGE_0000.jpg  meningioma_tumor      1           1\n",
              "1  IMAGE_0001.jpg          no_tumor      0           0\n",
              "2  IMAGE_0002.jpg  meningioma_tumor      1           1\n",
              "3  IMAGE_0003.jpg      glioma_tumor      1           2\n",
              "4  IMAGE_0004.jpg  meningioma_tumor      1           1"
            ]
          },
          "execution_count": 5,
          "metadata": {},
          "output_type": "execute_result"
        }
      ],
      "source": [
        "df_labels.head()"
      ]
    },
    {
      "cell_type": "code",
      "execution_count": null,
      "metadata": {
        "id": "z20MkbQFzb3r"
      },
      "outputs": [],
      "source": [
        "Img_id = df_labels['file_name']"
      ]
    },
    {
      "cell_type": "code",
      "execution_count": null,
      "metadata": {
        "colab": {
          "base_uri": "https://localhost:8080/",
          "height": 49,
          "referenced_widgets": [
            "4b96645cd4b34b6782d5aa4477b18102",
            "3c256b7eb2d14c6096a64246840d31bc",
            "3189d92b958348c187aaa31f0aa9b414",
            "e0d4a40806be44548f6a3f6b64dcdc9d",
            "256eab9281154190a60b55260b6720cf",
            "0b5a0ae9ce9d4fc8ab47d2ea6345952e",
            "3b102a52c12e4832a87535813b6862a9",
            "48ab35b1790442b2929f8dcb07e252a0",
            "7111879ea24c4b7e820afddafd7d6ad3",
            "8ef42854655e480781fbf27ef398152a",
            "0f46145bb74543e88f9944c60d108094"
          ]
        },
        "id": "17ilp6X3y3PJ",
        "outputId": "5819b4dd-8c03-420c-abe2-a3afdff7ecfb"
      },
      "outputs": [
        {
          "data": {
            "application/vnd.jupyter.widget-view+json": {
              "model_id": "4b96645cd4b34b6782d5aa4477b18102",
              "version_major": 2,
              "version_minor": 0
            },
            "text/plain": [
              "  0%|          | 0/3000 [00:00<?, ?it/s]"
            ]
          },
          "metadata": {},
          "output_type": "display_data"
        }
      ],
      "source": [
        "# \"grayscale\" for baseline models  \"rgb\" for cnn\n",
        "imgs =[np.array(image.load_img('/content/drive/MyDrive/data/Brain/crop/{}'.format(i),target_size=(100,100), color_mode = \"rgb\"))/255 for i in tqdm(Img_id[:Img_id.size])]"
      ]
    },
    {
      "cell_type": "code",
      "execution_count": null,
      "metadata": {
        "id": "oVgaqIcG7Rru"
      },
      "outputs": [],
      "source": [
        "imgs_arr = np.array(imgs)"
      ]
    },
    {
      "cell_type": "code",
      "execution_count": null,
      "metadata": {
        "colab": {
          "base_uri": "https://localhost:8080/"
        },
        "id": "z4vdnnF65oy0",
        "outputId": "bbc0b98f-5f82-4bf3-9280-c4395c44622a"
      },
      "outputs": [
        {
          "data": {
            "text/plain": [
              "(3000, 100, 100, 3)"
            ]
          },
          "execution_count": 10,
          "metadata": {},
          "output_type": "execute_result"
        }
      ],
      "source": [
        "imgs_arr.shape"
      ]
    },
    {
      "cell_type": "code",
      "execution_count": null,
      "metadata": {
        "colab": {
          "base_uri": "https://localhost:8080/",
          "height": 214
        },
        "id": "671EFqvwJ2mn",
        "outputId": "f388b185-e821-450b-957b-841bf450cef4"
      },
      "outputs": [
        {
          "data": {
            "image/png": "[encoded data removed]",
            "text/plain": [
              "<Figure size 1080x720 with 6 Axes>"
            ]
          },
          "metadata": {},
          "output_type": "display_data"
        }
      ],
      "source": [
        "# show samples\n",
        "plt.figure(figsize=(15, 10))\n",
        "for i in range(6):\n",
        "    plt.subplot(1, 6, i+1)\n",
        "    plt.imshow(imgs_arr[i],cmap='gray')\n",
        "    plt.title(df_labels.label[i])\n",
        "    plt.axis('off')\n",
        "    \n",
        "plt.tight_layout()\n",
        "plt.show()"
      ]
    },
    {
      "cell_type": "code",
      "execution_count": null,
      "metadata": {
        "id": "draW6ebs9JSD"
      },
      "outputs": [],
      "source": [
        "# for grayscale only\n",
        "#imgs_arr = imgs_arr.reshape(imgs_arr.shape[0], imgs_arr.shape[1], imgs_arr.shape[2], 1)"
      ]
    },
    {
      "cell_type": "markdown",
      "metadata": {
        "id": "79_l3WrSrVTk"
      },
      "source": [
        "New code for test dataset"
      ]
    },
    {
      "cell_type": "code",
      "execution_count": null,
      "metadata": {
        "colab": {
          "base_uri": "https://localhost:8080/"
        },
        "id": "979dbz6grg7s",
        "outputId": "2657f9a0-fe36-4783-a551-d4a46737986c"
      },
      "outputs": [
        {
          "output_type": "stream",
          "name": "stderr",
          "text": [
            "/usr/local/lib/python3.7/dist-packages/ipykernel_launcher.py:5: SettingWithCopyWarning: \n",
            "A value is trying to be set on a copy of a slice from a DataFrame\n",
            "\n",
            "See the caveats in the documentation: https://pandas.pydata.org/pandas-docs/stable/user_guide/indexing.html#returning-a-view-versus-a-copy\n",
            "  \"\"\"\n"
          ]
        }
      ],
      "source": [
        "df_labels_test = pd.read_csv('/content/drive/MyDrive/data/Brain/test_dataset/test/label.csv')\n",
        "\n",
        "\n",
        "df_labels_test['tumor'] = 1\n",
        "df_labels_test['tumor'][df_labels_test['label'] == 'no_tumor'] = 0\n",
        "\n",
        "df_labels_test['tumor_type'] = df_labels_test['tumor']\n",
        "df_labels_test['tumor_type'] = df_labels_test['label'].map({'no_tumor': 0, 'meningioma_tumor': 1, 'glioma_tumor': 2, 'pituitary_tumor': 3 })\n",
        "\n",
        "labels_test = df_labels_test['tumor']\n",
        "\n",
        "\n",
        "Img_id_test = df_labels_test['file_name']\n"
      ]
    },
    {
      "cell_type": "code",
      "execution_count": null,
      "metadata": {
        "colab": {
          "base_uri": "https://localhost:8080/",
          "height": 49,
          "referenced_widgets": [
            "4380695e2f4e4b368e7316f652c6202c",
            "24bae66521104353ad87704c0a7ca713",
            "6a5fbb09028a47c6a9ba6934540bd26e",
            "794537cadb2d4101944aca647f167793",
            "924fa07a91644c1f95dd3e2b859dc602",
            "2c96409264744c99be417693b75d6c18",
            "bc857cae1cd24be7953fd86366868ff0",
            "42856b9d44cf44419f162507b4026a06",
            "03bb1783ca0147c1b1fa241f1fb6e9ed",
            "315557857b894ab7bb6a54a76e0ee5aa",
            "f4541599f58a4f74ade98a5a07f0b797"
          ]
        },
        "id": "4eFmx9Gaou6W",
        "outputId": "25ba0249-1ac7-4517-8603-598264ed103a"
      },
      "outputs": [
        {
          "data": {
            "application/vnd.jupyter.widget-view+json": {
              "model_id": "4380695e2f4e4b368e7316f652c6202c",
              "version_major": 2,
              "version_minor": 0
            },
            "text/plain": [
              "  0%|          | 0/200 [00:00<?, ?it/s]"
            ]
          },
          "metadata": {},
          "output_type": "display_data"
        }
      ],
      "source": [
        "###### New code for test data\n",
        "\n",
        "test_imgs =[np.array(image.load_img('/content/drive/MyDrive/data/Brain/test_dataset/test/crop/{}'.format(i),target_size=(100,100), color_mode = \"rgb\"))/255 for i in tqdm(Img_id_test[:Img_id_test.size])]"
      ]
    },
    {
      "cell_type": "code",
      "execution_count": null,
      "metadata": {
        "id": "Ul-nqvuBtfDr"
      },
      "outputs": [],
      "source": [
        "imgs_arr_test = np.array(test_imgs)"
      ]
    },
    {
      "cell_type": "markdown",
      "metadata": {
        "id": "i8dgvS0Bp3EQ"
      },
      "source": [
        "##### Crop images"
      ]
    },
    {
      "cell_type": "code",
      "execution_count": null,
      "metadata": {
        "colab": {
          "base_uri": "https://localhost:8080/"
        },
        "id": "Q0jSpJbEnTBe",
        "outputId": "75bffd7f-da05-43c5-ed7d-497afcf25ddd"
      },
      "outputs": [
        {
          "name": "stdout",
          "output_type": "stream",
          "text": [
            "Requirement already satisfied: imutils in /usr/local/lib/python3.7/dist-packages (0.5.4)\n"
          ]
        }
      ],
      "source": [
        "!pip install imutils\n",
        "\n",
        "import imutils"
      ]
    },
    {
      "cell_type": "code",
      "execution_count": null,
      "metadata": {
        "id": "fbYOaM2Zl2QE"
      },
      "outputs": [],
      "source": [
        "def crop_brain_contour(image, plot=False):\n",
        "    \n",
        "    # Convert the image to grayscale, and blur it slightly\n",
        "    gray = cv2.cvtColor(image, cv2.COLOR_BGR2GRAY)\n",
        "    gray = cv2.GaussianBlur(gray, (5, 5), 0)\n",
        "    \n",
        "    thresh = cv2.threshold(gray, 45, 255, cv2.THRESH_BINARY)[1]\n",
        "    thresh = cv2.erode(thresh, None, iterations=2)\n",
        "    thresh = cv2.dilate(thresh, None, iterations=2)\n",
        "\n",
        "    # Find contours in thresholded image, then grab the largest one\n",
        "    cnts = cv2.findContours(thresh.copy(), cv2.RETR_EXTERNAL, cv2.CHAIN_APPROX_SIMPLE)\n",
        "    cnts = imutils.grab_contours(cnts)\n",
        "    c = max(cnts, key=cv2.contourArea)\n",
        "    # extreme points\n",
        "    extLeft = tuple(c[c[:, :, 0].argmin()][0])\n",
        "    extRight = tuple(c[c[:, :, 0].argmax()][0])\n",
        "    extTop = tuple(c[c[:, :, 1].argmin()][0])\n",
        "    extBot = tuple(c[c[:, :, 1].argmax()][0])\n",
        "    \n",
        "    # crop new image out of the original image using the four extreme points (left, right, top, bottom)\n",
        "    new_image = image[extTop[1]:extBot[1], extLeft[0]:extRight[0]]            \n",
        "\n",
        "    if plot:\n",
        "        plt.figure()\n",
        "        plt.subplot(1, 2, 1)\n",
        "        plt.imshow(image)\n",
        "        plt.tick_params(axis='both', which='both', top=False, bottom=False, left=False, right=False,labelbottom=False, labeltop=False, labelleft=False, labelright=False)\n",
        "        plt.title('Original Image')\n",
        "        plt.subplot(1, 2, 2)\n",
        "        plt.imshow(new_image)\n",
        "        plt.tick_params(axis='both', which='both',top=False, bottom=False, left=False, right=False,labelbottom=False, labeltop=False, labelleft=False, labelright=False)\n",
        "        plt.title('Cropped Image')\n",
        "        plt.show()\n",
        "    \n",
        "    return new_image"
      ]
    },
    {
      "cell_type": "code",
      "execution_count": null,
      "metadata": {
        "id": "MIU9vzFImxPA"
      },
      "outputs": [],
      "source": [
        "os.listdir('/content/drive/MyDrive/data/Brain/test_dataset/test/image')\n",
        "          '/content/drive/MyDrive/data/Brain/test_dataset/test/crop'"
      ]
    },
    {
      "cell_type": "code",
      "execution_count": null,
      "metadata": {
        "id": "HmT0nrYfmXfr"
      },
      "outputs": [],
      "source": [
        "for file in tqdm(os.listdir('/content/drive/MyDrive/data/Brain/test_dataset/test/image')):\n",
        "    #print(file)\n",
        "    ex_img = cv2.imread('/content/drive/MyDrive/data/Brain/test_dataset/test/image/' + file)\n",
        "    ex_crop_img = crop_brain_contour(ex_img, False)\n",
        "    filename= '/content/drive/MyDrive/data/Brain/test_dataset/test/crop/'+ file\n",
        "    print(filename)\n",
        "    cv2.imwrite(filename,ex_crop_img)"
      ]
    },
    {
      "cell_type": "markdown",
      "metadata": {
        "id": "8bmuMENjnWTf"
      },
      "source": [
        "### 2. Baseline models"
      ]
    },
    {
      "cell_type": "code",
      "execution_count": null,
      "metadata": {
        "id": "a-rbqxeA3qBC"
      },
      "outputs": [],
      "source": [
        "#X_train_reshaped = X_train.reshape((X_train.shape[0], X_train.shape[1]*X_train.shape[2]*X_train.shape[3]))\n",
        "#X_test_reshaped = X_test.reshape((X_test.shape[0], X_test.shape[1]*X_test.shape[2]*X_test.shape[3]))"
      ]
    },
    {
      "cell_type": "markdown",
      "metadata": {
        "id": "mtPIaE_LtO7F"
      },
      "source": [
        "New code for test dataset"
      ]
    },
    {
      "cell_type": "code",
      "execution_count": null,
      "metadata": {
        "id": "UdLzhcs5tRiw"
      },
      "outputs": [],
      "source": [
        "X_train_reshaped = imgs_arr.reshape((imgs_arr.shape[0], imgs_arr.shape[1]*imgs_arr.shape[2]*imgs_arr.shape[3]))\n",
        "X_test_reshaped = imgs_arr_test.reshape((imgs_arr_test.shape[0], imgs_arr_test.shape[1]*imgs_arr_test.shape[2]*imgs_arr_test.shape[3]))"
      ]
    },
    {
      "cell_type": "markdown",
      "metadata": {
        "id": "qe1ajjL1ndLP"
      },
      "source": [
        "#### 2.1 KNN"
      ]
    },
    {
      "cell_type": "code",
      "execution_count": null,
      "metadata": {
        "id": "n9qN8Zd43hML"
      },
      "outputs": [],
      "source": [
        "from sklearn.neighbors import KNeighborsClassifier\n",
        "\n",
        "# Create a k-NN classifier with 5 neighbors: knn\n",
        "knn = KNeighborsClassifier(n_neighbors=5)\n",
        "\n",
        "# Fit the classifier to the training data\n",
        "with tf.device('/gpu:0'):\n",
        "  knn.fit(X_train_reshaped, labels)"
      ]
    },
    {
      "cell_type": "code",
      "execution_count": null,
      "metadata": {
        "colab": {
          "base_uri": "https://localhost:8080/"
        },
        "id": "NeCO-jJYTW71",
        "outputId": "42754c6d-9d46-426a-90ea-c478174d04f3"
      },
      "outputs": [
        {
          "name": "stdout",
          "output_type": "stream",
          "text": [
            "Training accuracy:  0.9453333333333334\n"
          ]
        }
      ],
      "source": [
        "# Print the accuracy\n",
        "print(\"Training accuracy: \", knn.score(X_train_reshaped, labels))"
      ]
    },
    {
      "cell_type": "code",
      "execution_count": null,
      "metadata": {
        "id": "Z5vWUqPZhJjm"
      },
      "outputs": [],
      "source": [
        "scores = cross_val_score(knn, X_train_reshaped, labels, cv=5)"
      ]
    },
    {
      "cell_type": "code",
      "execution_count": null,
      "metadata": {
        "colab": {
          "base_uri": "https://localhost:8080/"
        },
        "id": "Q9Wz0iYzhU-1",
        "outputId": "999adf49-85dd-4829-f547-384eaa2cd3b9"
      },
      "outputs": [
        {
          "data": {
            "text/plain": [
              "array([0.9       , 0.92833333, 0.92166667, 0.895     , 0.93      ])"
            ]
          },
          "execution_count": 39,
          "metadata": {},
          "output_type": "execute_result"
        }
      ],
      "source": [
        "scores"
      ]
    },
    {
      "cell_type": "code",
      "execution_count": null,
      "metadata": {
        "colab": {
          "base_uri": "https://localhost:8080/"
        },
        "id": "toUqfu50hRBL",
        "outputId": "d73b2b8f-242f-4606-85b6-76fcc89a3ead"
      },
      "outputs": [
        {
          "name": "stdout",
          "output_type": "stream",
          "text": [
            "0.92 Cross validation accuracy with 5 folds  with a standard deviation of 0.01\n"
          ]
        }
      ],
      "source": [
        "print(\"%0.2f is the cross validation accuracy with 5 folds, with a standard deviation of %0.2f\" % (scores.mean(), scores.std()))"
      ]
    },
    {
      "cell_type": "code",
      "execution_count": null,
      "metadata": {
        "colab": {
          "base_uri": "https://localhost:8080/"
        },
        "id": "3rkXTYfsUMAa",
        "outputId": "aa3ff457-202e-44e2-b3f5-e06787a0bfd2"
      },
      "outputs": [
        {
          "name": "stdout",
          "output_type": "stream",
          "text": [
            "Test accuracy:  0.905\n"
          ]
        }
      ],
      "source": [
        "print(\"Test accuracy: \", knn.score(X_test_reshaped, labels))"
      ]
    },
    {
      "cell_type": "code",
      "execution_count": null,
      "metadata": {
        "colab": {
          "base_uri": "https://localhost:8080/"
        },
        "id": "hGHIZxB2XH5N",
        "outputId": "ccb45f1b-6fb8-48de-b6e0-57ecc507f368"
      },
      "outputs": [
        {
          "name": "stdout",
          "output_type": "stream",
          "text": [
            "              precision    recall  f1-score   support\n",
            "\n",
            "    No tumor     0.7368    0.7568    0.7467        37\n",
            "       Tumor     0.9444    0.9387    0.9415       163\n",
            "\n",
            "    accuracy                         0.9050       200\n",
            "   macro avg     0.8406    0.8477    0.8441       200\n",
            "weighted avg     0.9060    0.9050    0.9055       200\n",
            "\n"
          ]
        }
      ],
      "source": [
        "y_pred = knn.predict(X_test_reshaped)\n",
        "target_names = ['No tumor', 'Tumor']\n",
        "print(classification_report(labels, y_pred, target_names=target_names, digits=4))"
      ]
    },
    {
      "cell_type": "code",
      "execution_count": null,
      "metadata": {
        "colab": {
          "base_uri": "https://localhost:8080/",
          "height": 334
        },
        "id": "hj9d6KFtOtGh",
        "outputId": "0e031a27-4086-418e-b7c5-6c80141ccec7"
      },
      "outputs": [
        {
          "name": "stderr",
          "output_type": "stream",
          "text": [
            "/usr/local/lib/python3.7/dist-packages/sklearn/utils/deprecation.py:87: FutureWarning: Function plot_confusion_matrix is deprecated; Function `plot_confusion_matrix` is deprecated in 1.0 and will be removed in 1.2. Use one of the class methods: ConfusionMatrixDisplay.from_predictions or ConfusionMatrixDisplay.from_estimator.\n",
            "  warnings.warn(msg, category=FutureWarning)\n"
          ]
        },
        {
          "data": {
            "image/png": "[encoded data removed]",
            "text/plain": [
              "<Figure size 432x288 with 2 Axes>"
            ]
          },
          "metadata": {},
          "output_type": "display_data"
        }
      ],
      "source": [
        "plot_confusion_matrix(knn, X_test_reshaped, labels, normalize = \"true\", cmap=plt.cm.Blues, display_labels=['Not tumor', 'Tumor'])  \n",
        "plt.show()"
      ]
    },
    {
      "cell_type": "code",
      "execution_count": null,
      "metadata": {
        "id": "UXJF7qul4beD"
      },
      "outputs": [],
      "source": [
        "# Setup arrays to store train and test accuracies\n",
        "neighbors = np.arange(1, 9)\n",
        "train_accuracy = np.empty(len(neighbors))\n",
        "test_accuracy = np.empty(len(neighbors))\n",
        "\n",
        "# Loop over different values of k\n",
        "for i, k in enumerate(neighbors):\n",
        "    # Setup a k-NN Classifier with k neighbors: knn\n",
        "    knn = KNeighborsClassifier(n_neighbors = k)\n",
        "\n",
        "    # Fit the classifier to the training data\n",
        "    with tf.device('/gpu:0'):\n",
        "      knn.fit(X_train_reshaped, labels)\n",
        "    \n",
        "    #Compute accuracy on the training set\n",
        "    train_accuracy[i] = knn.score(X_train_reshaped, labels)\n",
        "\n",
        "    #Compute accuracy on the testing set\n",
        "    test_accuracy[i] = knn.score(X_test_reshaped, df_labels_test.tumor)\n",
        "\n",
        "# Generate plot\n",
        "plt.title('k-NN: Varying Number of Neighbors')\n",
        "plt.plot(neighbors, test_accuracy, label = 'Testing Accuracy')\n",
        "plt.plot(neighbors, train_accuracy, label = 'Training Accuracy')\n",
        "plt.legend()\n",
        "plt.xlabel('Number of Neighbors')\n",
        "plt.ylabel('Accuracy')\n",
        "plt.show()"
      ]
    },
    {
      "cell_type": "markdown",
      "metadata": {
        "id": "Xi1fAPDAGNcx"
      },
      "source": [
        "####2.2 SVM"
      ]
    },
    {
      "cell_type": "code",
      "execution_count": null,
      "metadata": {
        "id": "L-IZaESS0WOh"
      },
      "outputs": [],
      "source": [
        "# SVM\n",
        "from sklearn.svm import SVC\n",
        "\n",
        "# Instantiate the SVC classifier: clf\n",
        "clf = SVC()\n",
        "\n",
        "# Fit the pipeline to the train set\n",
        "with tf.device('/gpu:0'):\n",
        "  clf.fit(X_train_reshaped, labels)"
      ]
    },
    {
      "cell_type": "code",
      "execution_count": null,
      "metadata": {
        "colab": {
          "base_uri": "https://localhost:8080/"
        },
        "id": "aum9d7liSyeP",
        "outputId": "683c5a09-39ec-4aa9-a662-c1ac50a8886a"
      },
      "outputs": [
        {
          "name": "stdout",
          "output_type": "stream",
          "text": [
            "Training accuracy:  0.9863333333333333\n"
          ]
        }
      ],
      "source": [
        "# Print the accuracy\n",
        "print(\"Training accuracy: \", clf.score(X_train_reshaped, labels))"
      ]
    },
    {
      "cell_type": "code",
      "execution_count": null,
      "metadata": {
        "id": "1TXAJQFdjGDC"
      },
      "outputs": [],
      "source": [
        "scores = cross_val_score(clf, X_train_reshaped, labels, cv=5)"
      ]
    },
    {
      "cell_type": "code",
      "execution_count": null,
      "metadata": {
        "colab": {
          "base_uri": "https://localhost:8080/"
        },
        "id": "rmooLmehjN-J",
        "outputId": "d7b3a526-b28e-47b1-8e84-5ca4c934ae75"
      },
      "outputs": [
        {
          "data": {
            "text/plain": [
              "array([0.95166667, 0.95166667, 0.94333333, 0.93      , 0.96333333])"
            ]
          },
          "execution_count": 48,
          "metadata": {},
          "output_type": "execute_result"
        }
      ],
      "source": [
        "scores"
      ]
    },
    {
      "cell_type": "code",
      "execution_count": null,
      "metadata": {
        "colab": {
          "base_uri": "https://localhost:8080/"
        },
        "id": "zELns2MKlIpL",
        "outputId": "e84d7f07-278d-4ecb-bf90-15d40e6b8d1d"
      },
      "outputs": [
        {
          "name": "stdout",
          "output_type": "stream",
          "text": [
            "0.95 is the cross validation accuracy with 5 folds, with a standard deviation of 0.01\n"
          ]
        }
      ],
      "source": [
        "print(\"%0.2f is the cross validation accuracy with 5 folds, with a standard deviation of %0.2f\" % (scores.mean(), scores.std()))"
      ]
    },
    {
      "cell_type": "code",
      "execution_count": null,
      "metadata": {
        "colab": {
          "base_uri": "https://localhost:8080/"
        },
        "id": "UVMf6bDRS1gh",
        "outputId": "5af40a4d-895c-4840-9068-02515e319672"
      },
      "outputs": [
        {
          "name": "stdout",
          "output_type": "stream",
          "text": [
            "Test accuracy:  0.94\n"
          ]
        }
      ],
      "source": [
        "print(\"Test accuracy: \", clf.score(X_test_reshaped, df_labels_test.tumor))"
      ]
    },
    {
      "cell_type": "code",
      "execution_count": null,
      "metadata": {
        "colab": {
          "base_uri": "https://localhost:8080/"
        },
        "id": "qegwtiCQ-s5D",
        "outputId": "5072c273-789c-4fd9-b3eb-7068eb920000"
      },
      "outputs": [
        {
          "name": "stdout",
          "output_type": "stream",
          "text": [
            "              precision    recall  f1-score   support\n",
            "\n",
            "    No tumor     0.9310    0.7297    0.8182        37\n",
            "       Tumor     0.9415    0.9877    0.9641       163\n",
            "\n",
            "    accuracy                         0.9400       200\n",
            "   macro avg     0.9363    0.8587    0.8911       200\n",
            "weighted avg     0.9396    0.9400    0.9371       200\n",
            "\n"
          ]
        }
      ],
      "source": [
        "# Predict the labels of the test set\n",
        "y_pred = clf.predict(X_test_reshaped)\n",
        "\n",
        "# Compute metrics\n",
        "target_names = ['No tumor', 'Tumor']\n",
        "print(classification_report(df_labels_test.tumor, y_pred, target_names=target_names, digits=4))"
      ]
    },
    {
      "cell_type": "code",
      "execution_count": null,
      "metadata": {
        "colab": {
          "base_uri": "https://localhost:8080/",
          "height": 334
        },
        "id": "Y3MxWz98Xkcf",
        "outputId": "966acee1-f8d9-41cd-f43c-6ef0c2cd12bb"
      },
      "outputs": [
        {
          "name": "stderr",
          "output_type": "stream",
          "text": [
            "/usr/local/lib/python3.7/dist-packages/sklearn/utils/deprecation.py:87: FutureWarning: Function plot_confusion_matrix is deprecated; Function `plot_confusion_matrix` is deprecated in 1.0 and will be removed in 1.2. Use one of the class methods: ConfusionMatrixDisplay.from_predictions or ConfusionMatrixDisplay.from_estimator.\n",
            "  warnings.warn(msg, category=FutureWarning)\n"
          ]
        },
        {
          "data": {
            "image/png": "[encoded data removed]",
            "text/plain": [
              "<Figure size 432x288 with 2 Axes>"
            ]
          },
          "metadata": {},
          "output_type": "display_data"
        }
      ],
      "source": [
        "# normalized\n",
        "plot_confusion_matrix(clf, X_test_reshaped, df_labels_test.tumor, normalize = \"true\", cmap=plt.cm.Blues, display_labels=['Not tumor', 'Tumor'])  \n",
        "plt.show()"
      ]
    },
    {
      "cell_type": "code",
      "execution_count": null,
      "metadata": {
        "colab": {
          "base_uri": "https://localhost:8080/",
          "height": 337
        },
        "id": "H7Wan9cbYHt4",
        "outputId": "f050af51-1054-45cb-deda-55db01e2c9fe"
      },
      "outputs": [
        {
          "name": "stderr",
          "output_type": "stream",
          "text": [
            "/usr/local/lib/python3.7/dist-packages/sklearn/utils/deprecation.py:87: FutureWarning: Function plot_confusion_matrix is deprecated; Function `plot_confusion_matrix` is deprecated in 1.0 and will be removed in 1.2. Use one of the class methods: ConfusionMatrixDisplay.from_predictions or ConfusionMatrixDisplay.from_estimator.\n",
            "  warnings.warn(msg, category=FutureWarning)\n"
          ]
        },
        {
          "data": {
            "image/png": "[encoded data removed]",
            "text/plain": [
              "<Figure size 432x288 with 2 Axes>"
            ]
          },
          "metadata": {},
          "output_type": "display_data"
        }
      ],
      "source": [
        "plot_confusion_matrix(clf, X_test_reshaped, df_labels_test.tumor, cmap=plt.cm.Blues, values_format=\".0f\", display_labels=['Not tumor', 'Tumor'])  \n",
        "plt.show()"
      ]
    },
    {
      "cell_type": "markdown",
      "metadata": {
        "id": "D4Zt2Lqvr7-_"
      },
      "source": [
        "### 3. Binary model"
      ]
    },
    {
      "cell_type": "markdown",
      "metadata": {
        "id": "g-RmBtzCWia0"
      },
      "source": [
        "#### 3.1 CNN (from scratch)"
      ]
    },
    {
      "cell_type": "code",
      "execution_count": null,
      "metadata": {
        "colab": {
          "base_uri": "https://localhost:8080/"
        },
        "id": "wRYZRzrTnsY1",
        "outputId": "17573cfb-3778-4dcb-fd2d-c4cbd60bc981"
      },
      "outputs": [
        {
          "name": "stdout",
          "output_type": "stream",
          "text": [
            "------------------------------------------------------------------------\n",
            "Training for fold 1 ...\n",
            "Epoch 1/20\n",
            "24/24 [==============================] - 6s 227ms/step - loss: 0.5301 - accuracy: 0.7679\n",
            "Epoch 2/20\n",
            "24/24 [==============================] - 5s 225ms/step - loss: 0.3171 - accuracy: 0.8467\n",
            "Epoch 3/20\n",
            "24/24 [==============================] - 5s 226ms/step - loss: 0.2492 - accuracy: 0.8908\n",
            "Epoch 4/20\n",
            "24/24 [==============================] - 5s 227ms/step - loss: 0.2006 - accuracy: 0.9233\n",
            "Epoch 5/20\n",
            "24/24 [==============================] - 5s 227ms/step - loss: 0.1774 - accuracy: 0.9367\n",
            "Epoch 6/20\n",
            "24/24 [==============================] - 5s 225ms/step - loss: 0.1354 - accuracy: 0.9517\n",
            "Epoch 7/20\n",
            "24/24 [==============================] - 5s 227ms/step - loss: 0.1086 - accuracy: 0.9583\n",
            "Epoch 8/20\n",
            "24/24 [==============================] - 5s 227ms/step - loss: 0.0756 - accuracy: 0.9758\n",
            "Epoch 9/20\n",
            "24/24 [==============================] - 5s 227ms/step - loss: 0.0774 - accuracy: 0.9721\n",
            "Epoch 10/20\n",
            "24/24 [==============================] - 5s 227ms/step - loss: 0.0480 - accuracy: 0.9862\n",
            "Epoch 11/20\n",
            "24/24 [==============================] - 5s 227ms/step - loss: 0.0395 - accuracy: 0.9896\n",
            "Epoch 12/20\n",
            "24/24 [==============================] - 5s 228ms/step - loss: 0.0321 - accuracy: 0.9925\n",
            "Epoch 13/20\n",
            "24/24 [==============================] - 5s 227ms/step - loss: 0.0239 - accuracy: 0.9946\n",
            "Epoch 14/20\n",
            "24/24 [==============================] - 5s 227ms/step - loss: 0.0203 - accuracy: 0.9971\n",
            "Epoch 15/20\n",
            "24/24 [==============================] - 5s 228ms/step - loss: 0.0129 - accuracy: 0.9987\n",
            "Epoch 16/20\n",
            "24/24 [==============================] - 5s 228ms/step - loss: 0.0172 - accuracy: 0.9954\n",
            "Epoch 17/20\n",
            "24/24 [==============================] - 5s 227ms/step - loss: 0.0127 - accuracy: 0.9987\n",
            "Epoch 18/20\n",
            "24/24 [==============================] - 5s 228ms/step - loss: 0.0094 - accuracy: 0.9983\n",
            "Epoch 19/20\n",
            "24/24 [==============================] - 5s 227ms/step - loss: 0.0190 - accuracy: 0.9946\n",
            "Epoch 20/20\n",
            "24/24 [==============================] - 5s 226ms/step - loss: 0.0240 - accuracy: 0.9933\n",
            "Score for fold 1: loss of 0.23652292788028717; accuracy of 92.66666769981384%\n",
            "------------------------------------------------------------------------\n",
            "Training for fold 2 ...\n",
            "Epoch 1/20\n",
            "24/24 [==============================] - 7s 227ms/step - loss: 0.6063 - accuracy: 0.7742\n",
            "Epoch 2/20\n",
            "24/24 [==============================] - 5s 225ms/step - loss: 0.3684 - accuracy: 0.8404\n",
            "Epoch 3/20\n",
            "24/24 [==============================] - 5s 225ms/step - loss: 0.2988 - accuracy: 0.8742\n",
            "Epoch 4/20\n",
            "24/24 [==============================] - 5s 227ms/step - loss: 0.2242 - accuracy: 0.9121\n",
            "Epoch 5/20\n",
            "24/24 [==============================] - 5s 225ms/step - loss: 0.1857 - accuracy: 0.9279\n",
            "Epoch 6/20\n",
            "24/24 [==============================] - 5s 226ms/step - loss: 0.1634 - accuracy: 0.9404\n",
            "Epoch 7/20\n",
            "24/24 [==============================] - 5s 227ms/step - loss: 0.1334 - accuracy: 0.9508\n",
            "Epoch 8/20\n",
            "24/24 [==============================] - 5s 226ms/step - loss: 0.1387 - accuracy: 0.9500\n",
            "Epoch 9/20\n",
            "24/24 [==============================] - 5s 226ms/step - loss: 0.0811 - accuracy: 0.9737\n",
            "Epoch 10/20\n",
            "24/24 [==============================] - 5s 226ms/step - loss: 0.0494 - accuracy: 0.9875\n",
            "Epoch 11/20\n",
            "24/24 [==============================] - 5s 227ms/step - loss: 0.0446 - accuracy: 0.9867\n",
            "Epoch 12/20\n",
            "24/24 [==============================] - 5s 227ms/step - loss: 0.0299 - accuracy: 0.9929\n",
            "Epoch 13/20\n",
            "24/24 [==============================] - 5s 227ms/step - loss: 0.0219 - accuracy: 0.9954\n",
            "Epoch 14/20\n",
            "24/24 [==============================] - 5s 226ms/step - loss: 0.0233 - accuracy: 0.9933\n",
            "Epoch 15/20\n",
            "24/24 [==============================] - 5s 226ms/step - loss: 0.0319 - accuracy: 0.9908\n",
            "Epoch 16/20\n",
            "24/24 [==============================] - 5s 226ms/step - loss: 0.0293 - accuracy: 0.9912\n",
            "Epoch 17/20\n",
            "24/24 [==============================] - 5s 226ms/step - loss: 0.0225 - accuracy: 0.9950\n",
            "Epoch 18/20\n",
            "24/24 [==============================] - 5s 227ms/step - loss: 0.0327 - accuracy: 0.9917\n",
            "Epoch 19/20\n",
            "24/24 [==============================] - 5s 226ms/step - loss: 0.0234 - accuracy: 0.9946\n",
            "Epoch 20/20\n",
            "24/24 [==============================] - 5s 226ms/step - loss: 0.0153 - accuracy: 0.9962\n",
            "Score for fold 2: loss of 0.14784708619117737; accuracy of 95.83333134651184%\n",
            "------------------------------------------------------------------------\n",
            "Training for fold 3 ...\n",
            "Epoch 1/20\n",
            "24/24 [==============================] - 7s 226ms/step - loss: 0.7635 - accuracy: 0.7688\n",
            "Epoch 2/20\n",
            "24/24 [==============================] - 5s 228ms/step - loss: 0.3765 - accuracy: 0.8233\n",
            "Epoch 3/20\n",
            "24/24 [==============================] - 5s 227ms/step - loss: 0.2925 - accuracy: 0.8717\n",
            "Epoch 4/20\n",
            "24/24 [==============================] - 5s 227ms/step - loss: 0.2544 - accuracy: 0.8996\n",
            "Epoch 5/20\n",
            "24/24 [==============================] - 5s 226ms/step - loss: 0.2046 - accuracy: 0.9229\n",
            "Epoch 6/20\n",
            "24/24 [==============================] - 5s 227ms/step - loss: 0.1566 - accuracy: 0.9463\n",
            "Epoch 7/20\n",
            "24/24 [==============================] - 5s 226ms/step - loss: 0.1184 - accuracy: 0.9600\n",
            "Epoch 8/20\n",
            "24/24 [==============================] - 5s 227ms/step - loss: 0.0881 - accuracy: 0.9717\n",
            "Epoch 9/20\n",
            "24/24 [==============================] - 5s 227ms/step - loss: 0.0848 - accuracy: 0.9725\n",
            "Epoch 10/20\n",
            "24/24 [==============================] - 5s 228ms/step - loss: 0.0710 - accuracy: 0.9767\n",
            "Epoch 11/20\n",
            "24/24 [==============================] - 5s 227ms/step - loss: 0.0592 - accuracy: 0.9833\n",
            "Epoch 12/20\n",
            "24/24 [==============================] - 5s 227ms/step - loss: 0.0541 - accuracy: 0.9846\n",
            "Epoch 13/20\n",
            "24/24 [==============================] - 5s 227ms/step - loss: 0.0574 - accuracy: 0.9842\n",
            "Epoch 14/20\n",
            "24/24 [==============================] - 5s 227ms/step - loss: 0.0515 - accuracy: 0.9837\n",
            "Epoch 15/20\n",
            "24/24 [==============================] - 5s 227ms/step - loss: 0.0446 - accuracy: 0.9862\n",
            "Epoch 16/20\n",
            "24/24 [==============================] - 5s 227ms/step - loss: 0.0205 - accuracy: 0.9958\n",
            "Epoch 17/20\n",
            "24/24 [==============================] - 5s 227ms/step - loss: 0.0173 - accuracy: 0.9962\n",
            "Epoch 18/20\n",
            "24/24 [==============================] - 5s 226ms/step - loss: 0.0146 - accuracy: 0.9962\n",
            "Epoch 19/20\n",
            "24/24 [==============================] - 5s 227ms/step - loss: 0.0089 - accuracy: 0.9987\n",
            "Epoch 20/20\n",
            "24/24 [==============================] - 5s 227ms/step - loss: 0.0073 - accuracy: 0.9983\n",
            "Score for fold 3: loss of 0.22314147651195526; accuracy of 94.49999928474426%\n",
            "------------------------------------------------------------------------\n",
            "Training for fold 4 ...\n",
            "Epoch 1/20\n",
            "24/24 [==============================] - 6s 226ms/step - loss: 0.5862 - accuracy: 0.7567\n",
            "Epoch 2/20\n",
            "24/24 [==============================] - 5s 226ms/step - loss: 0.3365 - accuracy: 0.8392\n",
            "Epoch 3/20\n",
            "24/24 [==============================] - 5s 226ms/step - loss: 0.2625 - accuracy: 0.8892\n",
            "Epoch 4/20\n",
            "24/24 [==============================] - 5s 227ms/step - loss: 0.2045 - accuracy: 0.9196\n",
            "Epoch 5/20\n",
            "24/24 [==============================] - 5s 226ms/step - loss: 0.1626 - accuracy: 0.9367\n",
            "Epoch 6/20\n",
            "24/24 [==============================] - 5s 227ms/step - loss: 0.1407 - accuracy: 0.9450\n",
            "Epoch 7/20\n",
            "24/24 [==============================] - 5s 227ms/step - loss: 0.1001 - accuracy: 0.9638\n",
            "Epoch 8/20\n",
            "24/24 [==============================] - 5s 226ms/step - loss: 0.0900 - accuracy: 0.9688\n",
            "Epoch 9/20\n",
            "24/24 [==============================] - 5s 227ms/step - loss: 0.0755 - accuracy: 0.9746\n",
            "Epoch 10/20\n",
            "24/24 [==============================] - 5s 227ms/step - loss: 0.0497 - accuracy: 0.9829\n",
            "Epoch 11/20\n",
            "24/24 [==============================] - 5s 227ms/step - loss: 0.0477 - accuracy: 0.9875\n",
            "Epoch 12/20\n",
            "24/24 [==============================] - 5s 227ms/step - loss: 0.0390 - accuracy: 0.9875\n",
            "Epoch 13/20\n",
            "24/24 [==============================] - 5s 226ms/step - loss: 0.0270 - accuracy: 0.9954\n",
            "Epoch 14/20\n",
            "24/24 [==============================] - 5s 228ms/step - loss: 0.0231 - accuracy: 0.9946\n",
            "Epoch 15/20\n",
            "24/24 [==============================] - 5s 227ms/step - loss: 0.0444 - accuracy: 0.9892\n",
            "Epoch 16/20\n",
            "24/24 [==============================] - 5s 226ms/step - loss: 0.0248 - accuracy: 0.9933\n",
            "Epoch 17/20\n",
            "24/24 [==============================] - 5s 226ms/step - loss: 0.0109 - accuracy: 0.9996\n",
            "Epoch 18/20\n",
            "24/24 [==============================] - 5s 226ms/step - loss: 0.0106 - accuracy: 0.9987\n",
            "Epoch 19/20\n",
            "24/24 [==============================] - 5s 227ms/step - loss: 0.0068 - accuracy: 0.9987\n",
            "Epoch 20/20\n",
            "24/24 [==============================] - 5s 226ms/step - loss: 0.0059 - accuracy: 1.0000\n",
            "Score for fold 4: loss of 0.11195247620344162; accuracy of 97.00000286102295%\n",
            "------------------------------------------------------------------------\n",
            "Training for fold 5 ...\n",
            "Epoch 1/20\n",
            "24/24 [==============================] - 6s 225ms/step - loss: 0.5838 - accuracy: 0.7529\n",
            "Epoch 2/20\n",
            "24/24 [==============================] - 5s 226ms/step - loss: 0.3328 - accuracy: 0.8546\n",
            "Epoch 3/20\n",
            "24/24 [==============================] - 5s 224ms/step - loss: 0.2819 - accuracy: 0.8742\n",
            "Epoch 4/20\n",
            "24/24 [==============================] - 5s 225ms/step - loss: 0.2345 - accuracy: 0.8942\n",
            "Epoch 5/20\n",
            "24/24 [==============================] - 5s 226ms/step - loss: 0.1854 - accuracy: 0.9279\n",
            "Epoch 6/20\n",
            "24/24 [==============================] - 5s 225ms/step - loss: 0.1469 - accuracy: 0.9400\n",
            "Epoch 7/20\n",
            "24/24 [==============================] - 5s 226ms/step - loss: 0.1176 - accuracy: 0.9579\n",
            "Epoch 8/20\n",
            "24/24 [==============================] - 5s 226ms/step - loss: 0.1099 - accuracy: 0.9596\n",
            "Epoch 9/20\n",
            "24/24 [==============================] - 5s 226ms/step - loss: 0.0777 - accuracy: 0.9746\n",
            "Epoch 10/20\n",
            "24/24 [==============================] - 5s 227ms/step - loss: 0.0585 - accuracy: 0.9817\n",
            "Epoch 11/20\n",
            "24/24 [==============================] - 5s 227ms/step - loss: 0.0575 - accuracy: 0.9792\n",
            "Epoch 12/20\n",
            "24/24 [==============================] - 5s 228ms/step - loss: 0.0403 - accuracy: 0.9883\n",
            "Epoch 13/20\n",
            "24/24 [==============================] - 5s 228ms/step - loss: 0.0404 - accuracy: 0.9862\n",
            "Epoch 14/20\n",
            "24/24 [==============================] - 5s 227ms/step - loss: 0.0399 - accuracy: 0.9858\n",
            "Epoch 15/20\n",
            "24/24 [==============================] - 5s 228ms/step - loss: 0.0395 - accuracy: 0.9887\n",
            "Epoch 16/20\n",
            "24/24 [==============================] - 5s 229ms/step - loss: 0.0249 - accuracy: 0.9929\n",
            "Epoch 17/20\n",
            "24/24 [==============================] - 5s 228ms/step - loss: 0.0150 - accuracy: 0.9979\n",
            "Epoch 18/20\n",
            "24/24 [==============================] - 5s 227ms/step - loss: 0.0128 - accuracy: 0.9975\n",
            "Epoch 19/20\n",
            "24/24 [==============================] - 5s 228ms/step - loss: 0.0095 - accuracy: 0.9983\n",
            "Epoch 20/20\n",
            "24/24 [==============================] - 5s 227ms/step - loss: 0.0042 - accuracy: 1.0000\n",
            "Score for fold 5: loss of 0.20678283274173737; accuracy of 94.66666579246521%\n"
          ]
        }
      ],
      "source": [
        "kfold = KFold(n_splits=5, shuffle=True)\n",
        "fold_no = 1\n",
        "\n",
        "acc_per_fold = []\n",
        "loss_per_fold = []\n",
        "\n",
        " \n",
        "for train, val in kfold.split(imgs_arr, labels):\n",
        "\n",
        "  ## CNN \n",
        "\n",
        "  model = Sequential()\n",
        "  model.add(Conv2D(64, (5,5), input_shape = (imgs_arr[0].shape[0], imgs_arr[0].shape[1], 3), padding = 'same'))\n",
        "  model.add(LeakyReLU(alpha=0.1))\n",
        "  model.add(BatchNormalization())\n",
        "  model.add(MaxPooling2D(pool_size =  (2,2)))\n",
        "  model.add(Dropout(0.2))\n",
        "\n",
        "  model.add(Conv2D(128, (5,5), padding = 'same'))\n",
        "  model.add(LeakyReLU())\n",
        "  model.add(BatchNormalization())\n",
        "  model.add(MaxPooling2D(pool_size =  (2,2)))\n",
        "  model.add(Dropout(0.2))\n",
        "\n",
        "  model.add(Conv2D(256, (3,3), padding = 'same'))\n",
        "  model.add(LeakyReLU(alpha=0.1))\n",
        "  model.add(BatchNormalization())\n",
        "  model.add(MaxPooling2D(pool_size =  (2,2)))\n",
        "  model.add(Dropout(0.2))\n",
        "\n",
        "\n",
        "  model.add(Flatten())\n",
        "\n",
        "  model.add(Dense(128))\n",
        "  model.add(LeakyReLU(alpha=0.1))\n",
        "  model.add(BatchNormalization())\n",
        "  model.add(Dropout(0.2))\n",
        "\n",
        "  model.add(Dense(1))\n",
        "  model.add(Activation('sigmoid'))\n",
        "\n",
        "  # Compile the model\n",
        "  model.compile(loss=keras.losses.binary_crossentropy, metrics=['accuracy'], optimizer='adam')\n",
        "\n",
        "\n",
        "  \n",
        "  print('------------------------------------------------------------------------')\n",
        "  print(f'Training for fold {fold_no} ...')\n",
        "\n",
        "\n",
        "  class_weights = class_weight.compute_class_weight(class_weight= 'balanced'\n",
        "                                                 ,classes = np.unique(labels)\n",
        "                                                 ,y= labels)\n",
        "  \n",
        "  computed_class_weights = dict(zip(np.unique(labels), class_weights))\n",
        "\n",
        "\n",
        "  history = model.fit(imgs_arr[train], labels[train],\n",
        "                      epochs = 20,\n",
        "                      batch_size = 100,\n",
        "                      #validation_data=(X_val,y_val),\n",
        "                      class_weight = computed_class_weights,\n",
        "                      verbose=1)\n",
        "\n",
        "\n",
        "  scores = model.evaluate(imgs_arr[val], labels[val], verbose=0)\n",
        "  print(f'Score for fold {fold_no}: {model.metrics_names[0]} of {scores[0]}; {model.metrics_names[1]} of {scores[1]*100}%')\n",
        "  acc_per_fold.append(scores[1] * 100)\n",
        "  loss_per_fold.append(scores[0])\n",
        "\n",
        "  fold_no = fold_no + 1\n"
      ]
    },
    {
      "cell_type": "code",
      "execution_count": null,
      "metadata": {
        "colab": {
          "base_uri": "https://localhost:8080/"
        },
        "id": "cvlI7i5-thS-",
        "outputId": "aa87a1a8-2ef6-4d91-d560-717f13bdd5f0"
      },
      "outputs": [
        {
          "name": "stdout",
          "output_type": "stream",
          "text": [
            "94.93 is the cross validation accuracy with 5 folds, with a standard deviation of 1.45\n"
          ]
        }
      ],
      "source": [
        "print(\"%0.2f is the cross validation accuracy with 5 folds, with a standard deviation of %0.2f\" % (np.mean(acc_per_fold), np.std(acc_per_fold)))"
      ]
    },
    {
      "cell_type": "code",
      "execution_count": null,
      "metadata": {
        "id": "C1Rm-7jRuRim"
      },
      "outputs": [],
      "source": [
        "# Utility function for plotting of the model results\n",
        "def visualize_results(history):\n",
        "    # Plot the accuracy and loss curves\n",
        "    acc = history.history['accuracy']\n",
        "    #val_acc = history.history['val_accuracy']\n",
        "    loss = history.history['loss']\n",
        "    #val_loss = history.history['val_loss']\n",
        "\n",
        "    epochs = range(len(acc))\n",
        "\n",
        "    plt.plot(epochs, acc, 'b', label='Training acc')\n",
        "    #plt.plot(epochs, val_acc, 'r', label='Validation acc')\n",
        "    plt.xlabel(\"\")\n",
        "    plt.title('Training and validation accuracy')\n",
        "    plt.legend()\n",
        "\n",
        "    plt.figure()\n",
        "\n",
        "    plt.plot(epochs, loss, 'b', label='Training loss')\n",
        "    #plt.plot(epochs, val_loss, 'r', label='Validation loss')\n",
        "    plt.title('Training and validation loss')\n",
        "    plt.legend()\n",
        "\n",
        "    plt.show()\n"
      ]
    },
    {
      "cell_type": "code",
      "execution_count": null,
      "metadata": {
        "colab": {
          "base_uri": "https://localhost:8080/",
          "height": 545
        },
        "id": "kX5ApgKnRlvh",
        "outputId": "44c3add5-6555-4d58-9b32-2a0da7ec512c"
      },
      "outputs": [
        {
          "data": {
            "image/png": "[encoded data removed]",
            "text/plain": [
              "<Figure size 432x288 with 1 Axes>"
            ]
          },
          "metadata": {},
          "output_type": "display_data"
        },
        {
          "data": {
            "image/png": "[encoded data removed]",
            "text/plain": [
              "<Figure size 432x288 with 1 Axes>"
            ]
          },
          "metadata": {},
          "output_type": "display_data"
        }
      ],
      "source": [
        "# Run the function to illustrate accuracy and loss\n",
        "visualize_results(history)"
      ]
    },
    {
      "cell_type": "code",
      "execution_count": null,
      "metadata": {
        "colab": {
          "base_uri": "https://localhost:8080/"
        },
        "id": "eyM1bEdbUQ3N",
        "outputId": "0ee923d3-e6c6-44f7-b996-564d0074add4"
      },
      "outputs": [
        {
          "name": "stdout",
          "output_type": "stream",
          "text": [
            "              precision    recall  f1-score   support\n",
            "\n",
            "    No tumor     0.8293    0.9189    0.8718        37\n",
            "       Tumor     0.9811    0.9571    0.9689       163\n",
            "\n",
            "    accuracy                         0.9500       200\n",
            "   macro avg     0.9052    0.9380    0.9204       200\n",
            "weighted avg     0.9530    0.9500    0.9510       200\n",
            "\n"
          ]
        }
      ],
      "source": [
        "from sklearn.metrics import classification_report\n",
        "\n",
        "y_pred = model.predict(imgs_arr_test)\n",
        "print(classification_report(labels_test, y_pred.round(), target_names=['No tumor', 'Tumor'], digits=4))"
      ]
    },
    {
      "cell_type": "code",
      "execution_count": null,
      "metadata": {
        "colab": {
          "base_uri": "https://localhost:8080/"
        },
        "id": "gEuhVguoRwbj",
        "outputId": "2d2639c3-cc8e-4cd2-f6d5-c647206ea71f"
      },
      "outputs": [
        {
          "name": "stdout",
          "output_type": "stream",
          "text": [
            "[[ 34   3]\n",
            " [  7 156]]\n"
          ]
        }
      ],
      "source": [
        "# Not Normalized\n",
        "cm = confusion_matrix(labels_test, y_pred.round())\n",
        "print(cm)"
      ]
    },
    {
      "cell_type": "code",
      "execution_count": null,
      "metadata": {
        "colab": {
          "base_uri": "https://localhost:8080/"
        },
        "id": "G8sP7VrywX-V",
        "outputId": "807d084c-d696-4412-834e-7cc303190e8a"
      },
      "outputs": [
        {
          "name": "stdout",
          "output_type": "stream",
          "text": [
            "[[0.91891892 0.08108108]\n",
            " [0.04294479 0.95705521]]\n"
          ]
        }
      ],
      "source": [
        "# Normalized\n",
        "cm = confusion_matrix(labels_test, y_pred.round(), normalize='true')\n",
        "print(cm)"
      ]
    },
    {
      "cell_type": "code",
      "execution_count": null,
      "metadata": {
        "colab": {
          "base_uri": "https://localhost:8080/",
          "height": 279
        },
        "id": "Mx0RkU56wauY",
        "outputId": "fbd135b0-8127-4ea6-ada1-0c117dd3bab1"
      },
      "outputs": [
        {
          "data": {
            "image/png": "[encoded data removed]",
            "text/plain": [
              "<Figure size 432x288 with 2 Axes>"
            ]
          },
          "metadata": {},
          "output_type": "display_data"
        }
      ],
      "source": [
        "disp = ConfusionMatrixDisplay(confusion_matrix=cm, display_labels=['Not tumor', 'Tumor'])\n",
        "disp = disp.plot(cmap=plt.cm.Blues)\n",
        "plt.show()"
      ]
    },
    {
      "cell_type": "markdown",
      "metadata": {
        "id": "KcuOTydbVWx6"
      },
      "source": [
        "#### 3.2 Fine-tuning"
      ]
    },
    {
      "cell_type": "code",
      "execution_count": null,
      "metadata": {
        "colab": {
          "base_uri": "https://localhost:8080/"
        },
        "id": "KXcRi0nZz83w",
        "outputId": "28f60948-49f8-4614-cc34-a80c4cc846e7"
      },
      "outputs": [
        {
          "name": "stdout",
          "output_type": "stream",
          "text": [
            "------------------------------------------------------------------------\n",
            "Training for fold 1 ...\n",
            "Epoch 1/30\n",
            "24/24 [==============================] - 6s 199ms/step - loss: 0.5378 - accuracy: 0.7042\n",
            "Epoch 2/30\n",
            "24/24 [==============================] - 5s 194ms/step - loss: 0.3592 - accuracy: 0.7979\n",
            "Epoch 3/30\n",
            "24/24 [==============================] - 5s 195ms/step - loss: 0.2693 - accuracy: 0.8496\n",
            "Epoch 4/30\n",
            "24/24 [==============================] - 5s 196ms/step - loss: 0.2320 - accuracy: 0.8967\n",
            "Epoch 5/30\n",
            "24/24 [==============================] - 5s 195ms/step - loss: 0.1743 - accuracy: 0.9171\n",
            "Epoch 6/30\n",
            "24/24 [==============================] - 5s 194ms/step - loss: 0.1482 - accuracy: 0.9321\n",
            "Epoch 7/30\n",
            "24/24 [==============================] - 5s 195ms/step - loss: 0.1313 - accuracy: 0.9463\n",
            "Epoch 8/30\n",
            "24/24 [==============================] - 5s 194ms/step - loss: 0.0946 - accuracy: 0.9613\n",
            "Epoch 9/30\n",
            "24/24 [==============================] - 5s 195ms/step - loss: 0.0940 - accuracy: 0.9583\n",
            "Epoch 10/30\n",
            "24/24 [==============================] - 5s 195ms/step - loss: 0.0960 - accuracy: 0.9638\n",
            "Epoch 11/30\n",
            "24/24 [==============================] - 5s 195ms/step - loss: 0.0808 - accuracy: 0.9621\n",
            "Epoch 12/30\n",
            "24/24 [==============================] - 5s 195ms/step - loss: 0.0620 - accuracy: 0.9783\n",
            "Epoch 13/30\n",
            "24/24 [==============================] - 5s 195ms/step - loss: 0.0543 - accuracy: 0.9796\n",
            "Epoch 14/30\n",
            "24/24 [==============================] - 5s 194ms/step - loss: 0.0495 - accuracy: 0.9792\n",
            "Epoch 15/30\n",
            "24/24 [==============================] - 5s 194ms/step - loss: 0.0540 - accuracy: 0.9783\n",
            "Epoch 16/30\n",
            "24/24 [==============================] - 5s 194ms/step - loss: 0.0492 - accuracy: 0.9800\n",
            "Epoch 17/30\n",
            "24/24 [==============================] - 5s 194ms/step - loss: 0.0410 - accuracy: 0.9825\n",
            "Epoch 18/30\n",
            "24/24 [==============================] - 5s 194ms/step - loss: 0.0362 - accuracy: 0.9867\n",
            "Epoch 19/30\n",
            "24/24 [==============================] - 5s 194ms/step - loss: 0.0301 - accuracy: 0.9875\n",
            "Epoch 20/30\n",
            "24/24 [==============================] - 5s 194ms/step - loss: 0.0259 - accuracy: 0.9917\n",
            "Epoch 21/30\n",
            "24/24 [==============================] - 5s 194ms/step - loss: 0.0199 - accuracy: 0.9925\n",
            "Epoch 22/30\n",
            "24/24 [==============================] - 5s 194ms/step - loss: 0.0186 - accuracy: 0.9942\n",
            "Epoch 23/30\n",
            "24/24 [==============================] - 5s 194ms/step - loss: 0.0190 - accuracy: 0.9942\n",
            "Epoch 24/30\n",
            "24/24 [==============================] - 5s 194ms/step - loss: 0.0262 - accuracy: 0.9917\n",
            "Epoch 25/30\n",
            "24/24 [==============================] - 5s 194ms/step - loss: 0.0209 - accuracy: 0.9933\n",
            "Epoch 26/30\n",
            "24/24 [==============================] - 5s 193ms/step - loss: 0.0196 - accuracy: 0.9933\n",
            "Epoch 27/30\n",
            "24/24 [==============================] - 5s 195ms/step - loss: 0.0296 - accuracy: 0.9900\n",
            "Epoch 28/30\n",
            "24/24 [==============================] - 5s 194ms/step - loss: 0.0130 - accuracy: 0.9942\n",
            "Epoch 29/30\n",
            "24/24 [==============================] - 5s 194ms/step - loss: 0.0201 - accuracy: 0.9929\n",
            "Epoch 30/30\n",
            "24/24 [==============================] - 5s 194ms/step - loss: 0.0094 - accuracy: 0.9962\n",
            "Score for fold 1: loss of 0.11693520843982697; accuracy of 97.66666889190674%\n",
            "------------------------------------------------------------------------\n",
            "Training for fold 2 ...\n",
            "Epoch 1/30\n",
            "24/24 [==============================] - 6s 195ms/step - loss: 0.5578 - accuracy: 0.7163\n",
            "Epoch 2/30\n",
            "24/24 [==============================] - 5s 195ms/step - loss: 0.3599 - accuracy: 0.7933\n",
            "Epoch 3/30\n",
            "24/24 [==============================] - 5s 194ms/step - loss: 0.2995 - accuracy: 0.8442\n",
            "Epoch 4/30\n",
            "24/24 [==============================] - 5s 195ms/step - loss: 0.2360 - accuracy: 0.8883\n",
            "Epoch 5/30\n",
            "24/24 [==============================] - 5s 195ms/step - loss: 0.1980 - accuracy: 0.9100\n",
            "Epoch 6/30\n",
            "24/24 [==============================] - 5s 194ms/step - loss: 0.1539 - accuracy: 0.9229\n",
            "Epoch 7/30\n",
            "24/24 [==============================] - 5s 194ms/step - loss: 0.1086 - accuracy: 0.9567\n",
            "Epoch 8/30\n",
            "24/24 [==============================] - 5s 194ms/step - loss: 0.0987 - accuracy: 0.9604\n",
            "Epoch 9/30\n",
            "24/24 [==============================] - 5s 194ms/step - loss: 0.0940 - accuracy: 0.9629\n",
            "Epoch 10/30\n",
            "24/24 [==============================] - 5s 193ms/step - loss: 0.0789 - accuracy: 0.9717\n",
            "Epoch 11/30\n",
            "24/24 [==============================] - 5s 194ms/step - loss: 0.0661 - accuracy: 0.9733\n",
            "Epoch 12/30\n",
            "24/24 [==============================] - 5s 195ms/step - loss: 0.0503 - accuracy: 0.9825\n",
            "Epoch 13/30\n",
            "24/24 [==============================] - 5s 194ms/step - loss: 0.0503 - accuracy: 0.9825\n",
            "Epoch 14/30\n",
            "24/24 [==============================] - 5s 193ms/step - loss: 0.0420 - accuracy: 0.9858\n",
            "Epoch 15/30\n",
            "24/24 [==============================] - 5s 194ms/step - loss: 0.0619 - accuracy: 0.9779\n",
            "Epoch 16/30\n",
            "24/24 [==============================] - 5s 194ms/step - loss: 0.0402 - accuracy: 0.9858\n",
            "Epoch 17/30\n",
            "24/24 [==============================] - 5s 194ms/step - loss: 0.0419 - accuracy: 0.9842\n",
            "Epoch 18/30\n",
            "24/24 [==============================] - 5s 194ms/step - loss: 0.0311 - accuracy: 0.9887\n",
            "Epoch 19/30\n",
            "24/24 [==============================] - 5s 194ms/step - loss: 0.0271 - accuracy: 0.9912\n",
            "Epoch 20/30\n",
            "24/24 [==============================] - 5s 193ms/step - loss: 0.0394 - accuracy: 0.9850\n",
            "Epoch 21/30\n",
            "24/24 [==============================] - 5s 194ms/step - loss: 0.0225 - accuracy: 0.9904\n",
            "Epoch 22/30\n",
            "24/24 [==============================] - 5s 195ms/step - loss: 0.0277 - accuracy: 0.9908\n",
            "Epoch 23/30\n",
            "24/24 [==============================] - 5s 194ms/step - loss: 0.0200 - accuracy: 0.9904\n",
            "Epoch 24/30\n",
            "24/24 [==============================] - 5s 193ms/step - loss: 0.0147 - accuracy: 0.9942\n",
            "Epoch 25/30\n",
            "24/24 [==============================] - 5s 194ms/step - loss: 0.0151 - accuracy: 0.9946\n",
            "Epoch 26/30\n",
            "24/24 [==============================] - 5s 193ms/step - loss: 0.0209 - accuracy: 0.9921\n",
            "Epoch 27/30\n",
            "24/24 [==============================] - 5s 194ms/step - loss: 0.0231 - accuracy: 0.9925\n",
            "Epoch 28/30\n",
            "24/24 [==============================] - 5s 193ms/step - loss: 0.0318 - accuracy: 0.9858\n",
            "Epoch 29/30\n",
            "24/24 [==============================] - 5s 193ms/step - loss: 0.0251 - accuracy: 0.9900\n",
            "Epoch 30/30\n",
            "24/24 [==============================] - 5s 195ms/step - loss: 0.0185 - accuracy: 0.9929\n",
            "Score for fold 2: loss of 0.13559767603874207; accuracy of 97.66666889190674%\n",
            "------------------------------------------------------------------------\n",
            "Training for fold 3 ...\n",
            "Epoch 1/30\n",
            "24/24 [==============================] - 6s 195ms/step - loss: 0.5192 - accuracy: 0.7275\n",
            "Epoch 2/30\n",
            "24/24 [==============================] - 5s 194ms/step - loss: 0.3365 - accuracy: 0.8254\n",
            "Epoch 3/30\n",
            "24/24 [==============================] - 5s 194ms/step - loss: 0.2618 - accuracy: 0.8696\n",
            "Epoch 4/30\n",
            "24/24 [==============================] - 5s 194ms/step - loss: 0.2067 - accuracy: 0.9008\n",
            "Epoch 5/30\n",
            "24/24 [==============================] - 5s 194ms/step - loss: 0.1687 - accuracy: 0.9250\n",
            "Epoch 6/30\n",
            "24/24 [==============================] - 5s 194ms/step - loss: 0.1435 - accuracy: 0.9396\n",
            "Epoch 7/30\n",
            "24/24 [==============================] - 5s 193ms/step - loss: 0.1174 - accuracy: 0.9442\n",
            "Epoch 8/30\n",
            "24/24 [==============================] - 5s 194ms/step - loss: 0.1132 - accuracy: 0.9488\n",
            "Epoch 9/30\n",
            "24/24 [==============================] - 5s 193ms/step - loss: 0.0941 - accuracy: 0.9621\n",
            "Epoch 10/30\n",
            "24/24 [==============================] - 5s 193ms/step - loss: 0.0716 - accuracy: 0.9692\n",
            "Epoch 11/30\n",
            "24/24 [==============================] - 5s 194ms/step - loss: 0.0516 - accuracy: 0.9808\n",
            "Epoch 12/30\n",
            "24/24 [==============================] - 5s 193ms/step - loss: 0.0472 - accuracy: 0.9792\n",
            "Epoch 13/30\n",
            "24/24 [==============================] - 5s 193ms/step - loss: 0.0627 - accuracy: 0.9767\n",
            "Epoch 14/30\n",
            "24/24 [==============================] - 5s 194ms/step - loss: 0.0554 - accuracy: 0.9792\n",
            "Epoch 15/30\n",
            "24/24 [==============================] - 5s 193ms/step - loss: 0.0473 - accuracy: 0.9837\n",
            "Epoch 16/30\n",
            "24/24 [==============================] - 5s 194ms/step - loss: 0.0439 - accuracy: 0.9833\n",
            "Epoch 17/30\n",
            "24/24 [==============================] - 5s 193ms/step - loss: 0.0454 - accuracy: 0.9808\n",
            "Epoch 18/30\n",
            "24/24 [==============================] - 5s 194ms/step - loss: 0.0248 - accuracy: 0.9908\n",
            "Epoch 19/30\n",
            "24/24 [==============================] - 5s 194ms/step - loss: 0.0329 - accuracy: 0.9896\n",
            "Epoch 20/30\n",
            "24/24 [==============================] - 5s 193ms/step - loss: 0.0249 - accuracy: 0.9917\n",
            "Epoch 21/30\n",
            "24/24 [==============================] - 5s 194ms/step - loss: 0.0326 - accuracy: 0.9867\n",
            "Epoch 22/30\n",
            "24/24 [==============================] - 5s 194ms/step - loss: 0.0243 - accuracy: 0.9912\n",
            "Epoch 23/30\n",
            "24/24 [==============================] - 5s 194ms/step - loss: 0.0213 - accuracy: 0.9921\n",
            "Epoch 24/30\n",
            "24/24 [==============================] - 5s 193ms/step - loss: 0.0250 - accuracy: 0.9921\n",
            "Epoch 25/30\n",
            "24/24 [==============================] - 5s 194ms/step - loss: 0.0216 - accuracy: 0.9942\n",
            "Epoch 26/30\n",
            "24/24 [==============================] - 5s 194ms/step - loss: 0.0245 - accuracy: 0.9921\n",
            "Epoch 27/30\n",
            "24/24 [==============================] - 5s 193ms/step - loss: 0.0206 - accuracy: 0.9921\n",
            "Epoch 28/30\n",
            "24/24 [==============================] - 5s 194ms/step - loss: 0.0205 - accuracy: 0.9929\n",
            "Epoch 29/30\n",
            "24/24 [==============================] - 5s 194ms/step - loss: 0.0303 - accuracy: 0.9875\n",
            "Epoch 30/30\n",
            "24/24 [==============================] - 5s 194ms/step - loss: 0.0313 - accuracy: 0.9883\n",
            "Score for fold 3: loss of 0.16559816896915436; accuracy of 96.33333086967468%\n",
            "------------------------------------------------------------------------\n",
            "Training for fold 4 ...\n",
            "Epoch 1/30\n",
            "24/24 [==============================] - 6s 195ms/step - loss: 0.5314 - accuracy: 0.6996\n",
            "Epoch 2/30\n",
            "24/24 [==============================] - 5s 194ms/step - loss: 0.3194 - accuracy: 0.8142\n",
            "Epoch 3/30\n",
            "24/24 [==============================] - 5s 194ms/step - loss: 0.2647 - accuracy: 0.8604\n",
            "Epoch 4/30\n",
            "24/24 [==============================] - 5s 194ms/step - loss: 0.2080 - accuracy: 0.8963\n",
            "Epoch 5/30\n",
            "24/24 [==============================] - 5s 194ms/step - loss: 0.1574 - accuracy: 0.9267\n",
            "Epoch 6/30\n",
            "24/24 [==============================] - 5s 194ms/step - loss: 0.1327 - accuracy: 0.9379\n",
            "Epoch 7/30\n",
            "24/24 [==============================] - 5s 194ms/step - loss: 0.1122 - accuracy: 0.9454\n",
            "Epoch 8/30\n",
            "24/24 [==============================] - 5s 193ms/step - loss: 0.0876 - accuracy: 0.9671\n",
            "Epoch 9/30\n",
            "24/24 [==============================] - 5s 194ms/step - loss: 0.0936 - accuracy: 0.9671\n",
            "Epoch 10/30\n",
            "24/24 [==============================] - 5s 193ms/step - loss: 0.0776 - accuracy: 0.9721\n",
            "Epoch 11/30\n",
            "24/24 [==============================] - 5s 193ms/step - loss: 0.0766 - accuracy: 0.9704\n",
            "Epoch 12/30\n",
            "24/24 [==============================] - 5s 193ms/step - loss: 0.0619 - accuracy: 0.9767\n",
            "Epoch 13/30\n",
            "24/24 [==============================] - 5s 194ms/step - loss: 0.0560 - accuracy: 0.9796\n",
            "Epoch 14/30\n",
            "24/24 [==============================] - 5s 193ms/step - loss: 0.0370 - accuracy: 0.9867\n",
            "Epoch 15/30\n",
            "24/24 [==============================] - 5s 194ms/step - loss: 0.0403 - accuracy: 0.9854\n",
            "Epoch 16/30\n",
            "24/24 [==============================] - 5s 194ms/step - loss: 0.0368 - accuracy: 0.9858\n",
            "Epoch 17/30\n",
            "24/24 [==============================] - 5s 194ms/step - loss: 0.0331 - accuracy: 0.9862\n",
            "Epoch 18/30\n",
            "24/24 [==============================] - 5s 193ms/step - loss: 0.0338 - accuracy: 0.9867\n",
            "Epoch 19/30\n",
            "24/24 [==============================] - 5s 193ms/step - loss: 0.0294 - accuracy: 0.9875\n",
            "Epoch 20/30\n",
            "24/24 [==============================] - 5s 194ms/step - loss: 0.0366 - accuracy: 0.9892\n",
            "Epoch 21/30\n",
            "24/24 [==============================] - 5s 193ms/step - loss: 0.0296 - accuracy: 0.9883\n",
            "Epoch 22/30\n",
            "24/24 [==============================] - 5s 193ms/step - loss: 0.0247 - accuracy: 0.9887\n",
            "Epoch 23/30\n",
            "24/24 [==============================] - 5s 194ms/step - loss: 0.0148 - accuracy: 0.9950\n",
            "Epoch 24/30\n",
            "24/24 [==============================] - 5s 194ms/step - loss: 0.0206 - accuracy: 0.9937\n",
            "Epoch 25/30\n",
            "24/24 [==============================] - 5s 195ms/step - loss: 0.0278 - accuracy: 0.9887\n",
            "Epoch 26/30\n",
            "24/24 [==============================] - 5s 194ms/step - loss: 0.0350 - accuracy: 0.9842\n",
            "Epoch 27/30\n",
            "24/24 [==============================] - 5s 193ms/step - loss: 0.0268 - accuracy: 0.9917\n",
            "Epoch 28/30\n",
            "24/24 [==============================] - 5s 194ms/step - loss: 0.0229 - accuracy: 0.9908\n",
            "Epoch 29/30\n",
            "24/24 [==============================] - 5s 194ms/step - loss: 0.0159 - accuracy: 0.9954\n",
            "Epoch 30/30\n",
            "24/24 [==============================] - 5s 194ms/step - loss: 0.0382 - accuracy: 0.9837\n",
            "Score for fold 4: loss of 0.27698400616645813; accuracy of 95.16666531562805%\n",
            "------------------------------------------------------------------------\n",
            "Training for fold 5 ...\n",
            "Epoch 1/30\n",
            "24/24 [==============================] - 6s 194ms/step - loss: 0.5445 - accuracy: 0.6883\n",
            "Epoch 2/30\n",
            "24/24 [==============================] - 5s 194ms/step - loss: 0.3950 - accuracy: 0.7758\n",
            "Epoch 3/30\n",
            "24/24 [==============================] - 5s 193ms/step - loss: 0.3033 - accuracy: 0.8321\n",
            "Epoch 4/30\n",
            "24/24 [==============================] - 5s 195ms/step - loss: 0.2299 - accuracy: 0.8804\n",
            "Epoch 5/30\n",
            "24/24 [==============================] - 5s 194ms/step - loss: 0.1994 - accuracy: 0.9096\n",
            "Epoch 6/30\n",
            "24/24 [==============================] - 5s 194ms/step - loss: 0.1546 - accuracy: 0.9317\n",
            "Epoch 7/30\n",
            "24/24 [==============================] - 5s 194ms/step - loss: 0.1487 - accuracy: 0.9396\n",
            "Epoch 8/30\n",
            "24/24 [==============================] - 5s 193ms/step - loss: 0.1142 - accuracy: 0.9513\n",
            "Epoch 9/30\n",
            "24/24 [==============================] - 5s 193ms/step - loss: 0.1203 - accuracy: 0.9471\n",
            "Epoch 10/30\n",
            "24/24 [==============================] - 5s 194ms/step - loss: 0.0905 - accuracy: 0.9633\n",
            "Epoch 11/30\n",
            "24/24 [==============================] - 5s 194ms/step - loss: 0.0795 - accuracy: 0.9717\n",
            "Epoch 12/30\n",
            "24/24 [==============================] - 5s 194ms/step - loss: 0.0655 - accuracy: 0.9767\n",
            "Epoch 13/30\n",
            "24/24 [==============================] - 5s 194ms/step - loss: 0.0698 - accuracy: 0.9733\n",
            "Epoch 14/30\n",
            "24/24 [==============================] - 5s 194ms/step - loss: 0.0477 - accuracy: 0.9833\n",
            "Epoch 15/30\n",
            "24/24 [==============================] - 5s 194ms/step - loss: 0.0422 - accuracy: 0.9875\n",
            "Epoch 16/30\n",
            "24/24 [==============================] - 5s 194ms/step - loss: 0.0388 - accuracy: 0.9858\n",
            "Epoch 17/30\n",
            "24/24 [==============================] - 5s 194ms/step - loss: 0.0343 - accuracy: 0.9858\n",
            "Epoch 18/30\n",
            "24/24 [==============================] - 5s 194ms/step - loss: 0.0393 - accuracy: 0.9846\n",
            "Epoch 19/30\n",
            "24/24 [==============================] - 5s 194ms/step - loss: 0.0301 - accuracy: 0.9896\n",
            "Epoch 20/30\n",
            "24/24 [==============================] - 5s 193ms/step - loss: 0.0490 - accuracy: 0.9775\n",
            "Epoch 21/30\n",
            "24/24 [==============================] - 5s 193ms/step - loss: 0.0498 - accuracy: 0.9779\n",
            "Epoch 22/30\n",
            "24/24 [==============================] - 5s 194ms/step - loss: 0.0280 - accuracy: 0.9908\n",
            "Epoch 23/30\n",
            "24/24 [==============================] - 5s 194ms/step - loss: 0.0243 - accuracy: 0.9900\n",
            "Epoch 24/30\n",
            "24/24 [==============================] - 5s 193ms/step - loss: 0.0158 - accuracy: 0.9958\n",
            "Epoch 25/30\n",
            "24/24 [==============================] - 5s 194ms/step - loss: 0.0270 - accuracy: 0.9929\n",
            "Epoch 26/30\n",
            "24/24 [==============================] - 5s 194ms/step - loss: 0.0157 - accuracy: 0.9929\n",
            "Epoch 27/30\n",
            "24/24 [==============================] - 5s 194ms/step - loss: 0.0170 - accuracy: 0.9929\n",
            "Epoch 28/30\n",
            "24/24 [==============================] - 5s 194ms/step - loss: 0.0159 - accuracy: 0.9946\n",
            "Epoch 29/30\n",
            "24/24 [==============================] - 5s 193ms/step - loss: 0.0180 - accuracy: 0.9933\n",
            "Epoch 30/30\n",
            "24/24 [==============================] - 5s 195ms/step - loss: 0.0143 - accuracy: 0.9950\n",
            "Score for fold 5: loss of 0.10576236248016357; accuracy of 97.66666889190674%\n"
          ]
        }
      ],
      "source": [
        "from keras.applications.vgg16 import VGG16\n",
        "#from keras.applications.inception_v3 import InceptionV3\n",
        "from tensorflow.keras.applications import ResNet50\n",
        "\n",
        "\n",
        "\n",
        "kfold = KFold(n_splits=5, shuffle=True)\n",
        "fold_no = 1\n",
        "\n",
        "acc_per_fold = []\n",
        "loss_per_fold = []\n",
        "\n",
        " \n",
        "for train, val in kfold.split(imgs_arr, labels):\n",
        "  \n",
        "  # load model and specify a new input shape for images\n",
        "  input_tensor = Input(shape=(100, 100, 3))\n",
        "\n",
        "  # creating the base model of pre-trained VGG16 model\n",
        "  base_model = VGG16(weights='imagenet', include_top=False, input_shape=(100, 100, 3))\n",
        "\n",
        "\n",
        "  # Freeze all the layers\n",
        "  for layer in base_model.layers[:]:\n",
        "      layer.trainable = False\n",
        "\n",
        "\n",
        "  # build a classifier model to put on top of the convolutional model\n",
        "  model = Sequential()\n",
        "  model.add(base_model)\n",
        "  model.add(Flatten(input_shape=base_model.output_shape[1:]))\n",
        "\n",
        "  model.add(Dense(256))\n",
        "  model.add(LeakyReLU(alpha=0.1))\n",
        "  model.add(BatchNormalization())\n",
        "  model.add(Dropout(0.5))\n",
        "\n",
        "  model.add(Dense(128))\n",
        "  model.add(LeakyReLU(alpha=0.1))\n",
        "  model.add(BatchNormalization())\n",
        "  model.add(Dropout(0.5))\n",
        "  model.add(Dense(1, activation='sigmoid'))\n",
        "\n",
        "\n",
        "  model.compile(loss=keras.losses.binary_crossentropy, metrics=['accuracy'], optimizer='adam')\n",
        "\n",
        "  print('------------------------------------------------------------------------')\n",
        "  print(f'Training for fold {fold_no} ...')\n",
        "\n",
        "  class_weights = class_weight.compute_class_weight(class_weight= 'balanced'\n",
        "                                                 ,classes = np.unique(labels)\n",
        "                                                 ,y= labels)\n",
        "\n",
        "  computed_class_weights = dict(zip(np.unique(labels), class_weights))\n",
        "\n",
        "\n",
        "  history = model.fit(imgs_arr[train], labels[train],\n",
        "                      epochs = 30,\n",
        "                      batch_size = 100,\n",
        "                      #validation_data=(X_val,y_val),\n",
        "                      class_weight = computed_class_weights,\n",
        "                      verbose=1)  \n",
        "  \n",
        "\n",
        "  scores = model.evaluate(imgs_arr[val], labels[val], verbose=0)\n",
        "  print(f'Score for fold {fold_no}: {model.metrics_names[0]} of {scores[0]}; {model.metrics_names[1]} of {scores[1]*100}%')\n",
        "  acc_per_fold.append(scores[1] * 100)\n",
        "  loss_per_fold.append(scores[0])\n",
        "\n",
        "  fold_no = fold_no + 1\n"
      ]
    },
    {
      "cell_type": "code",
      "execution_count": null,
      "metadata": {
        "colab": {
          "base_uri": "https://localhost:8080/"
        },
        "id": "6aaReMT93JRS",
        "outputId": "90cde034-d22c-4deb-8af4-82d2ea99a2a8"
      },
      "outputs": [
        {
          "name": "stdout",
          "output_type": "stream",
          "text": [
            "96.90 is the cross validation accuracy with 5 folds, with a standard deviation of 1.01\n"
          ]
        }
      ],
      "source": [
        "print(\"%0.2f is the cross validation accuracy with 5 folds, with a standard deviation of %0.2f\" % (np.mean(acc_per_fold), np.std(acc_per_fold)))"
      ]
    },
    {
      "cell_type": "code",
      "execution_count": null,
      "metadata": {
        "colab": {
          "base_uri": "https://localhost:8080/",
          "height": 545
        },
        "id": "L6eiyMnX6C9A",
        "outputId": "286115c8-277a-4a12-d617-269fa5e0859a"
      },
      "outputs": [
        {
          "data": {
            "image/png": "[encoded data removed]",
            "text/plain": [
              "<Figure size 432x288 with 1 Axes>"
            ]
          },
          "metadata": {},
          "output_type": "display_data"
        },
        {
          "data": {
            "image/png": "[encoded data removed]",
            "text/plain": [
              "<Figure size 432x288 with 1 Axes>"
            ]
          },
          "metadata": {},
          "output_type": "display_data"
        }
      ],
      "source": [
        "# Run the function to illustrate accuracy and loss\n",
        "visualize_results(history)"
      ]
    },
    {
      "cell_type": "code",
      "execution_count": null,
      "metadata": {
        "colab": {
          "base_uri": "https://localhost:8080/"
        },
        "id": "tdJopRs_XX_-",
        "outputId": "e36bfe01-747b-4c10-dbc0-c51f8aac45e4"
      },
      "outputs": [
        {
          "name": "stdout",
          "output_type": "stream",
          "text": [
            "              precision    recall  f1-score   support\n",
            "\n",
            "    No tumor     0.9000    0.9730    0.9351        37\n",
            "       Tumor     0.9938    0.9755    0.9845       163\n",
            "\n",
            "    accuracy                         0.9750       200\n",
            "   macro avg     0.9469    0.9742    0.9598       200\n",
            "weighted avg     0.9764    0.9750    0.9754       200\n",
            "\n"
          ]
        }
      ],
      "source": [
        "y_pred = model.predict(imgs_arr_test)\n",
        "print(classification_report(labels_test, y_pred.round(), target_names=['No tumor', 'Tumor'], digits=4))"
      ]
    },
    {
      "cell_type": "code",
      "execution_count": null,
      "metadata": {
        "colab": {
          "base_uri": "https://localhost:8080/"
        },
        "id": "w8Hey8oTuuwo",
        "outputId": "3a55d137-28c9-4b25-cd45-edeb8237b789"
      },
      "outputs": [
        {
          "name": "stdout",
          "output_type": "stream",
          "text": [
            "[[ 36   1]\n",
            " [  4 159]]\n"
          ]
        }
      ],
      "source": [
        "# Not Normalized\n",
        "cm = confusion_matrix(labels_test, y_pred.round())\n",
        "print(cm)"
      ]
    },
    {
      "cell_type": "code",
      "execution_count": null,
      "metadata": {
        "colab": {
          "base_uri": "https://localhost:8080/"
        },
        "id": "MtgVJRKgtiv7",
        "outputId": "2d350496-9929-4117-e465-a7d61fe067e6"
      },
      "outputs": [
        {
          "name": "stdout",
          "output_type": "stream",
          "text": [
            "[[0.97297297 0.02702703]\n",
            " [0.02453988 0.97546012]]\n"
          ]
        }
      ],
      "source": [
        "# Normalized\n",
        "cm = confusion_matrix(labels_test, y_pred.round(), normalize='true')\n",
        "print(cm)"
      ]
    },
    {
      "cell_type": "code",
      "execution_count": null,
      "metadata": {
        "colab": {
          "base_uri": "https://localhost:8080/",
          "height": 279
        },
        "id": "WSjW0CMSt3uy",
        "outputId": "ad5c2128-5db0-4934-9278-d3e283feff50"
      },
      "outputs": [
        {
          "data": {
            "image/png": "[encoded data removed]",
            "text/plain": [
              "<Figure size 432x288 with 2 Axes>"
            ]
          },
          "metadata": {},
          "output_type": "display_data"
        }
      ],
      "source": [
        "disp = ConfusionMatrixDisplay(confusion_matrix=cm, display_labels=['Not tumor', 'Tumor'])\n",
        "disp = disp.plot(cmap=plt.cm.Blues)\n",
        "plt.show()"
      ]
    },
    {
      "cell_type": "markdown",
      "metadata": {
        "id": "Sa9j_WhCr-Eq"
      },
      "source": [
        "#### 3.3 Fine-tuning with data augmentation"
      ]
    },
    {
      "cell_type": "code",
      "execution_count": null,
      "metadata": {
        "colab": {
          "base_uri": "https://localhost:8080/"
        },
        "id": "2brZ67KeP-u_",
        "outputId": "ed845c39-c065-48fb-bd36-5341be7de91c"
      },
      "outputs": [
        {
          "name": "stdout",
          "output_type": "stream",
          "text": [
            "Downloading data from https://storage.googleapis.com/tensorflow/keras-applications/vgg16/vgg16_weights_tf_dim_ordering_tf_kernels_notop.h5\n",
            "58892288/58889256 [==============================] - 2s 0us/step\n",
            "58900480/58889256 [==============================] - 2s 0us/step\n",
            "Found 2400 validated image filenames belonging to 2 classes.\n",
            "Found 600 validated image filenames belonging to 2 classes.\n",
            "------------------------------------------------------------------------\n",
            "Training for fold 1 ...\n",
            "Epoch 1/20\n",
            "24/24 [==============================] - 28s 502ms/step - loss: 0.5259 - accuracy: 0.6938\n",
            "Epoch 2/20\n",
            "24/24 [==============================] - 14s 560ms/step - loss: 0.2920 - accuracy: 0.8338\n",
            "Epoch 3/20\n",
            "24/24 [==============================] - 14s 558ms/step - loss: 0.1969 - accuracy: 0.9083\n",
            "Epoch 4/20\n",
            "24/24 [==============================] - 13s 550ms/step - loss: 0.1568 - accuracy: 0.9383\n",
            "Epoch 5/20\n",
            "24/24 [==============================] - 14s 569ms/step - loss: 0.1132 - accuracy: 0.9575\n",
            "Epoch 6/20\n",
            "24/24 [==============================] - 13s 544ms/step - loss: 0.0785 - accuracy: 0.9675\n",
            "Epoch 7/20\n",
            "24/24 [==============================] - 13s 540ms/step - loss: 0.0577 - accuracy: 0.9821\n",
            "Epoch 8/20\n",
            "24/24 [==============================] - 13s 536ms/step - loss: 0.0442 - accuracy: 0.9858\n",
            "Epoch 9/20\n",
            "24/24 [==============================] - 13s 530ms/step - loss: 0.0424 - accuracy: 0.9879\n",
            "Epoch 10/20\n",
            "24/24 [==============================] - 13s 542ms/step - loss: 0.0322 - accuracy: 0.9925\n",
            "Epoch 11/20\n",
            "24/24 [==============================] - 14s 572ms/step - loss: 0.0271 - accuracy: 0.9904\n",
            "Epoch 12/20\n",
            "24/24 [==============================] - 13s 554ms/step - loss: 0.0232 - accuracy: 0.9950\n",
            "Epoch 13/20\n",
            "24/24 [==============================] - 13s 535ms/step - loss: 0.0178 - accuracy: 0.9937\n",
            "Epoch 14/20\n",
            "24/24 [==============================] - 13s 551ms/step - loss: 0.0127 - accuracy: 0.9983\n",
            "Epoch 15/20\n",
            "24/24 [==============================] - 13s 544ms/step - loss: 0.0113 - accuracy: 0.9983\n",
            "Epoch 16/20\n",
            "24/24 [==============================] - 13s 545ms/step - loss: 0.0080 - accuracy: 0.9992\n",
            "Epoch 17/20\n",
            "24/24 [==============================] - 13s 553ms/step - loss: 0.0074 - accuracy: 0.9992\n",
            "Epoch 18/20\n",
            "24/24 [==============================] - 14s 564ms/step - loss: 0.0085 - accuracy: 0.9996\n",
            "Epoch 19/20\n",
            "24/24 [==============================] - 13s 540ms/step - loss: 0.0095 - accuracy: 0.9987\n",
            "Epoch 20/20\n",
            "24/24 [==============================] - 13s 540ms/step - loss: 0.0082 - accuracy: 0.9979\n",
            "Score for fold 1: loss of 0.05294976383447647; accuracy of 98.50000143051147%\n",
            "Found 2400 validated image filenames belonging to 2 classes.\n",
            "Found 600 validated image filenames belonging to 2 classes.\n",
            "------------------------------------------------------------------------\n",
            "Training for fold 2 ...\n",
            "Epoch 1/20\n",
            "24/24 [==============================] - 14s 539ms/step - loss: 0.5143 - accuracy: 0.7075\n",
            "Epoch 2/20\n",
            "24/24 [==============================] - 13s 535ms/step - loss: 0.2927 - accuracy: 0.8462\n",
            "Epoch 3/20\n",
            "24/24 [==============================] - 13s 534ms/step - loss: 0.2041 - accuracy: 0.9075\n",
            "Epoch 4/20\n",
            "24/24 [==============================] - 13s 541ms/step - loss: 0.1337 - accuracy: 0.9475\n",
            "Epoch 5/20\n",
            "24/24 [==============================] - 13s 535ms/step - loss: 0.0959 - accuracy: 0.9625\n",
            "Epoch 6/20\n",
            "24/24 [==============================] - 13s 533ms/step - loss: 0.0783 - accuracy: 0.9758\n",
            "Epoch 7/20\n",
            "24/24 [==============================] - 13s 541ms/step - loss: 0.0671 - accuracy: 0.9833\n",
            "Epoch 8/20\n",
            "24/24 [==============================] - 13s 542ms/step - loss: 0.0405 - accuracy: 0.9912\n",
            "Epoch 9/20\n",
            "24/24 [==============================] - 13s 552ms/step - loss: 0.0315 - accuracy: 0.9950\n",
            "Epoch 10/20\n",
            "24/24 [==============================] - 13s 537ms/step - loss: 0.0247 - accuracy: 0.9967\n",
            "Epoch 11/20\n",
            "24/24 [==============================] - 13s 537ms/step - loss: 0.0198 - accuracy: 0.9967\n",
            "Epoch 12/20\n",
            "24/24 [==============================] - 13s 530ms/step - loss: 0.0191 - accuracy: 0.9958\n",
            "Epoch 13/20\n",
            "24/24 [==============================] - 13s 533ms/step - loss: 0.0140 - accuracy: 0.9979\n",
            "Epoch 14/20\n",
            "24/24 [==============================] - 13s 536ms/step - loss: 0.0136 - accuracy: 0.9987\n",
            "Epoch 15/20\n",
            "24/24 [==============================] - 13s 537ms/step - loss: 0.0107 - accuracy: 0.9987\n",
            "Epoch 16/20\n",
            "24/24 [==============================] - 13s 532ms/step - loss: 0.0095 - accuracy: 0.9992\n",
            "Epoch 17/20\n",
            "24/24 [==============================] - 13s 532ms/step - loss: 0.0119 - accuracy: 0.9975\n",
            "Epoch 18/20\n",
            "24/24 [==============================] - 13s 536ms/step - loss: 0.0171 - accuracy: 0.9946\n",
            "Epoch 19/20\n",
            "24/24 [==============================] - 13s 536ms/step - loss: 0.0091 - accuracy: 0.9983\n",
            "Epoch 20/20\n",
            "24/24 [==============================] - 13s 536ms/step - loss: 0.0111 - accuracy: 0.9992\n",
            "Score for fold 2: loss of 0.09444466978311539; accuracy of 98.16666841506958%\n",
            "Found 2400 validated image filenames belonging to 2 classes.\n",
            "Found 600 validated image filenames belonging to 2 classes.\n",
            "------------------------------------------------------------------------\n",
            "Training for fold 3 ...\n",
            "Epoch 1/20\n",
            "24/24 [==============================] - 14s 536ms/step - loss: 0.5013 - accuracy: 0.7279\n",
            "Epoch 2/20\n",
            "24/24 [==============================] - 13s 539ms/step - loss: 0.2491 - accuracy: 0.8675\n",
            "Epoch 3/20\n",
            "24/24 [==============================] - 13s 535ms/step - loss: 0.1790 - accuracy: 0.9258\n",
            "Epoch 4/20\n",
            "24/24 [==============================] - 13s 533ms/step - loss: 0.1193 - accuracy: 0.9517\n",
            "Epoch 5/20\n",
            "24/24 [==============================] - 13s 534ms/step - loss: 0.0902 - accuracy: 0.9650\n",
            "Epoch 6/20\n",
            "24/24 [==============================] - 13s 534ms/step - loss: 0.0685 - accuracy: 0.9837\n",
            "Epoch 7/20\n",
            "24/24 [==============================] - 13s 524ms/step - loss: 0.0556 - accuracy: 0.9808\n",
            "Epoch 8/20\n",
            "24/24 [==============================] - 13s 536ms/step - loss: 0.0373 - accuracy: 0.9896\n",
            "Epoch 9/20\n",
            "24/24 [==============================] - 13s 527ms/step - loss: 0.0324 - accuracy: 0.9937\n",
            "Epoch 10/20\n",
            "24/24 [==============================] - 13s 538ms/step - loss: 0.0235 - accuracy: 0.9937\n",
            "Epoch 11/20\n",
            "24/24 [==============================] - 13s 527ms/step - loss: 0.0270 - accuracy: 0.9937\n",
            "Epoch 12/20\n",
            "24/24 [==============================] - 13s 526ms/step - loss: 0.0149 - accuracy: 0.9954\n",
            "Epoch 13/20\n",
            "24/24 [==============================] - 13s 528ms/step - loss: 0.0189 - accuracy: 0.9942\n",
            "Epoch 14/20\n",
            "24/24 [==============================] - 13s 530ms/step - loss: 0.0114 - accuracy: 0.9975\n",
            "Epoch 15/20\n",
            "24/24 [==============================] - 13s 522ms/step - loss: 0.0163 - accuracy: 0.9942\n",
            "Epoch 16/20\n",
            "24/24 [==============================] - 13s 519ms/step - loss: 0.0131 - accuracy: 0.9971\n",
            "Epoch 17/20\n",
            "24/24 [==============================] - 13s 521ms/step - loss: 0.0120 - accuracy: 0.9975\n",
            "Epoch 18/20\n",
            "24/24 [==============================] - 13s 517ms/step - loss: 0.0118 - accuracy: 0.9967\n",
            "Epoch 19/20\n",
            "24/24 [==============================] - 13s 526ms/step - loss: 0.0080 - accuracy: 0.9987\n",
            "Epoch 20/20\n",
            "24/24 [==============================] - 13s 518ms/step - loss: 0.0058 - accuracy: 0.9987\n",
            "Score for fold 3: loss of 0.16153807938098907; accuracy of 97.1666693687439%\n",
            "Found 2400 validated image filenames belonging to 2 classes.\n",
            "Found 600 validated image filenames belonging to 2 classes.\n",
            "------------------------------------------------------------------------\n",
            "Training for fold 4 ...\n",
            "Epoch 1/20\n",
            "24/24 [==============================] - 14s 521ms/step - loss: 0.4825 - accuracy: 0.7346\n",
            "Epoch 2/20\n",
            "24/24 [==============================] - 13s 525ms/step - loss: 0.2546 - accuracy: 0.8637\n",
            "Epoch 3/20\n",
            "24/24 [==============================] - 13s 557ms/step - loss: 0.1883 - accuracy: 0.9162\n",
            "Epoch 4/20\n",
            "24/24 [==============================] - 13s 546ms/step - loss: 0.1146 - accuracy: 0.9596\n",
            "Epoch 5/20\n",
            "24/24 [==============================] - 14s 562ms/step - loss: 0.0783 - accuracy: 0.9758\n",
            "Epoch 6/20\n",
            "24/24 [==============================] - 13s 557ms/step - loss: 0.0598 - accuracy: 0.9829\n",
            "Epoch 7/20\n",
            "24/24 [==============================] - 13s 546ms/step - loss: 0.0565 - accuracy: 0.9825\n",
            "Epoch 8/20\n",
            "24/24 [==============================] - 13s 527ms/step - loss: 0.0361 - accuracy: 0.9933\n",
            "Epoch 9/20\n",
            "24/24 [==============================] - 13s 520ms/step - loss: 0.0258 - accuracy: 0.9942\n",
            "Epoch 10/20\n",
            "24/24 [==============================] - 13s 532ms/step - loss: 0.0188 - accuracy: 0.9954\n",
            "Epoch 11/20\n",
            "24/24 [==============================] - 13s 532ms/step - loss: 0.0142 - accuracy: 0.9979\n",
            "Epoch 12/20\n",
            "24/24 [==============================] - 13s 527ms/step - loss: 0.0192 - accuracy: 0.9950\n",
            "Epoch 13/20\n",
            "24/24 [==============================] - 13s 549ms/step - loss: 0.0190 - accuracy: 0.9946\n",
            "Epoch 14/20\n",
            "24/24 [==============================] - 13s 540ms/step - loss: 0.0128 - accuracy: 0.9975\n",
            "Epoch 15/20\n",
            "24/24 [==============================] - 13s 540ms/step - loss: 0.0177 - accuracy: 0.9954\n",
            "Epoch 16/20\n",
            "24/24 [==============================] - 13s 527ms/step - loss: 0.0125 - accuracy: 0.9967\n",
            "Epoch 17/20\n",
            "24/24 [==============================] - 13s 534ms/step - loss: 0.0096 - accuracy: 0.9983\n",
            "Epoch 18/20\n",
            "24/24 [==============================] - 13s 536ms/step - loss: 0.0083 - accuracy: 0.9983\n",
            "Epoch 19/20\n",
            "24/24 [==============================] - 13s 526ms/step - loss: 0.0077 - accuracy: 0.9983\n",
            "Epoch 20/20\n",
            "24/24 [==============================] - 13s 519ms/step - loss: 0.0070 - accuracy: 0.9983\n",
            "Score for fold 4: loss of 0.18396319448947906; accuracy of 95.99999785423279%\n",
            "Found 2400 validated image filenames belonging to 2 classes.\n",
            "Found 600 validated image filenames belonging to 2 classes.\n",
            "------------------------------------------------------------------------\n",
            "Training for fold 5 ...\n",
            "Epoch 1/20\n",
            "24/24 [==============================] - 14s 528ms/step - loss: 0.4918 - accuracy: 0.7275\n",
            "Epoch 2/20\n",
            "24/24 [==============================] - 13s 549ms/step - loss: 0.2773 - accuracy: 0.8521\n",
            "Epoch 3/20\n",
            "24/24 [==============================] - 13s 519ms/step - loss: 0.1786 - accuracy: 0.9250\n",
            "Epoch 4/20\n",
            "24/24 [==============================] - 13s 529ms/step - loss: 0.1254 - accuracy: 0.9550\n",
            "Epoch 5/20\n",
            "24/24 [==============================] - 13s 527ms/step - loss: 0.0952 - accuracy: 0.9725\n",
            "Epoch 6/20\n",
            "24/24 [==============================] - 13s 537ms/step - loss: 0.0628 - accuracy: 0.9829\n",
            "Epoch 7/20\n",
            "24/24 [==============================] - 13s 529ms/step - loss: 0.0562 - accuracy: 0.9833\n",
            "Epoch 8/20\n",
            "24/24 [==============================] - 13s 531ms/step - loss: 0.0367 - accuracy: 0.9896\n",
            "Epoch 9/20\n",
            "24/24 [==============================] - 13s 527ms/step - loss: 0.0307 - accuracy: 0.9912\n",
            "Epoch 10/20\n",
            "24/24 [==============================] - 13s 529ms/step - loss: 0.0267 - accuracy: 0.9933\n",
            "Epoch 11/20\n",
            "24/24 [==============================] - 13s 538ms/step - loss: 0.0197 - accuracy: 0.9942\n",
            "Epoch 12/20\n",
            "24/24 [==============================] - 13s 531ms/step - loss: 0.0168 - accuracy: 0.9962\n",
            "Epoch 13/20\n",
            "24/24 [==============================] - 13s 531ms/step - loss: 0.0132 - accuracy: 0.9992\n",
            "Epoch 14/20\n",
            "24/24 [==============================] - 13s 520ms/step - loss: 0.0130 - accuracy: 0.9971\n",
            "Epoch 15/20\n",
            "24/24 [==============================] - 13s 522ms/step - loss: 0.0122 - accuracy: 0.9979\n",
            "Epoch 16/20\n",
            "24/24 [==============================] - 13s 521ms/step - loss: 0.0105 - accuracy: 0.9979\n",
            "Epoch 17/20\n",
            "24/24 [==============================] - 13s 530ms/step - loss: 0.0100 - accuracy: 0.9983\n",
            "Epoch 18/20\n",
            "24/24 [==============================] - 13s 519ms/step - loss: 0.0087 - accuracy: 0.9992\n",
            "Epoch 19/20\n",
            "24/24 [==============================] - 13s 530ms/step - loss: 0.0050 - accuracy: 0.9996\n",
            "Epoch 20/20\n",
            "24/24 [==============================] - 13s 531ms/step - loss: 0.0064 - accuracy: 0.9992\n",
            "Score for fold 5: loss of 0.1811801940202713; accuracy of 97.1666693687439%\n"
          ]
        }
      ],
      "source": [
        "from keras.applications.vgg16 import VGG16\n",
        "#from keras.applications.inception_v3 import InceptionV3\n",
        "#from tensorflow.keras.applications import ResNet50\n",
        "\n",
        "\n",
        "kfold = KFold(n_splits=5, shuffle=True)\n",
        "fold_no = 1\n",
        "\n",
        "acc_per_fold = []\n",
        "loss_per_fold = []\n",
        "\n",
        "X = df_labels.loc[:,'file_name']\n",
        "y = df_labels.loc[:,'tumor']\n",
        "\n",
        " \n",
        "for train, val in kfold.split(X, y):\n",
        "\n",
        "  # prepare Train df\n",
        "  df_train = pd.DataFrame(columns=['file_name','tumor'])\n",
        "  df_train['file_name'] = X[train]\n",
        "  df_train['tumor'] = y[train]\n",
        "  df_train.reset_index(drop=True, inplace=True)\n",
        "\n",
        "\n",
        "  # prepare Test df\n",
        "  df_val= pd.DataFrame(columns=['file_name','tumor'])\n",
        "  df_val['file_name'] = X[val]\n",
        "  df_val['tumor'] = y[val]\n",
        "  df_val.reset_index(drop=True, inplace=True)\n",
        "\n",
        "\n",
        "  input_tensor = Input(shape=(100, 100, 3))\n",
        "  base_model = VGG16(weights='imagenet', include_top=False, input_shape=(100, 100, 3))\n",
        "\n",
        "\n",
        "    # Freeze all the layers\n",
        "  for layer in base_model.layers[:]:\n",
        "      layer.trainable = False\n",
        "\n",
        "\n",
        "  # build a classifier model to put on top of the convolutional model\n",
        "  model = Sequential()\n",
        "  model.add(base_model)\n",
        "  model.add(Flatten(input_shape=base_model.output_shape[1:]))\n",
        "\n",
        "  model.add(Dense(256))\n",
        "  model.add(LeakyReLU(alpha=0.05))\n",
        "  model.add(BatchNormalization())\n",
        "  model.add(Dropout(0.5))\n",
        "\n",
        "  model.add(Dense(128))\n",
        "  model.add(LeakyReLU(alpha=0.1))\n",
        "  model.add(BatchNormalization())\n",
        "  model.add(Dropout(0.5))\n",
        "  model.add(Dense(1, activation='sigmoid'))\n",
        "\n",
        "\n",
        "  class_weights = class_weight.compute_class_weight(class_weight= 'balanced', classes = np.unique(y[train]), y= y[train])\n",
        "  computed_class_weights = dict(zip(np.unique(y[train]), class_weights))\n",
        "\n",
        "\n",
        "  train_datagen = ImageDataGenerator(horizontal_flip=True,\n",
        "                                     brightness_range=[0.5,1]\n",
        "                                     )\n",
        "  \n",
        "  df_train['tumor'] = df_train['tumor'].astype('str')\n",
        "  \n",
        "  train_generator = train_datagen.flow_from_dataframe(dataframe=df_train, \n",
        "                                              directory='/content/drive/MyDrive/data/Brain/crop',\n",
        "                                              x_col=\"file_name\", \n",
        "                                              y_col=\"tumor\",                          \n",
        "                                              class_mode=\"binary\", \n",
        "                                              target_size=(100, 100), \n",
        "                                              batch_size=100,\n",
        "                                              rescale=1.0/255,\n",
        "                                              #subset=\"training\",\n",
        "                                              seed=2020,\n",
        "                                              shuffle=False)\n",
        "\n",
        "\n",
        "  val_datagen = ImageDataGenerator()\n",
        "  df_val['tumor'] = df_val['tumor'].astype('str')\n",
        "  \n",
        "  val_generator = val_datagen.flow_from_dataframe(dataframe=df_val, \n",
        "                                                   directory='/content/drive/MyDrive/data/Brain/crop',\n",
        "                                                   x_col=\"file_name\", \n",
        "                                                   y_col=\"tumor\", \n",
        "                                                   class_mode=\"binary\", \n",
        "                                                   target_size=(100, 100), \n",
        "                                                   batch_size=100,\n",
        "                                                   rescale=1.0/255,\n",
        "                                                   seed=2020,\n",
        "                                                   shuffle=False)\n",
        "  \n",
        "  model.compile(loss='binary_crossentropy', optimizer='adam', metrics=['accuracy'])\n",
        "\n",
        "  print('------------------------------------------------------------------------')\n",
        "  print(f'Training for fold {fold_no} ...')\n",
        "\n",
        "  history = model.fit(train_generator, batch_size=100, epochs=20, class_weight = computed_class_weights, verbose=1)\n",
        "  scores = model.evaluate(val_generator, verbose=0)\n",
        "  print(f'Score for fold {fold_no}: {model.metrics_names[0]} of {scores[0]}; {model.metrics_names[1]} of {scores[1]*100}%')\n",
        "  acc_per_fold.append(scores[1] * 100)\n",
        "  loss_per_fold.append(scores[0])\n",
        "\n",
        "  fold_no = fold_no + 1"
      ]
    },
    {
      "cell_type": "code",
      "execution_count": null,
      "metadata": {
        "colab": {
          "base_uri": "https://localhost:8080/"
        },
        "id": "stIa9LuTD6OX",
        "outputId": "847445e7-a32e-44d3-9606-68388db48850"
      },
      "outputs": [
        {
          "name": "stdout",
          "output_type": "stream",
          "text": [
            "97.40 is the cross validation accuracy with 5 folds, with a standard deviation of 0.88\n"
          ]
        }
      ],
      "source": [
        "print(\"%0.2f is the cross validation accuracy with 5 folds, with a standard deviation of %0.2f\" % (np.mean(acc_per_fold), np.std(acc_per_fold)))"
      ]
    },
    {
      "cell_type": "code",
      "execution_count": null,
      "metadata": {
        "colab": {
          "base_uri": "https://localhost:8080/"
        },
        "id": "8Vzx79neFjlP",
        "outputId": "09ae9773-4489-41cd-ca54-a5c0b12f0ae5"
      },
      "outputs": [
        {
          "name": "stdout",
          "output_type": "stream",
          "text": [
            "Found 200 validated image filenames belonging to 2 classes.\n"
          ]
        }
      ],
      "source": [
        "test_datagen = ImageDataGenerator()\n",
        "df_labels_test['tumor'] = df_labels_test['tumor'].astype('str')\n",
        "  \n",
        "test_generator = test_datagen.flow_from_dataframe(dataframe=df_labels_test, \n",
        "                                                directory='/content/drive/MyDrive/data/Brain/test_dataset/test/crop',\n",
        "                                                x_col=\"file_name\", \n",
        "                                                y_col=\"tumor\", \n",
        "                                                class_mode=\"binary\", \n",
        "                                                target_size=(100, 100), \n",
        "                                                batch_size=100,\n",
        "                                                rescale=1.0/255,\n",
        "                                                seed=2020,\n",
        "                                                shuffle=False)"
      ]
    },
    {
      "cell_type": "code",
      "execution_count": null,
      "metadata": {
        "id": "N1J3qZelF_th"
      },
      "outputs": [],
      "source": [
        "y_pred = model.predict(test_generator, verbose=0)"
      ]
    },
    {
      "cell_type": "code",
      "execution_count": null,
      "metadata": {
        "colab": {
          "base_uri": "https://localhost:8080/"
        },
        "id": "YSxFuj5Rfjkt",
        "outputId": "807bf423-f286-4500-ba28-95dd78ded920"
      },
      "outputs": [
        {
          "name": "stdout",
          "output_type": "stream",
          "text": [
            "              precision    recall  f1-score   support\n",
            "\n",
            "    No tumor     0.9474    0.9730    0.9600        37\n",
            "       Tumor     0.9938    0.9877    0.9908       163\n",
            "\n",
            "    accuracy                         0.9850       200\n",
            "   macro avg     0.9706    0.9804    0.9754       200\n",
            "weighted avg     0.9852    0.9850    0.9851       200\n",
            "\n"
          ]
        }
      ],
      "source": [
        "print(classification_report(labels_test, y_pred.round(), target_names=['No tumor', 'Tumor'], digits=4))"
      ]
    },
    {
      "cell_type": "code",
      "execution_count": null,
      "metadata": {
        "colab": {
          "base_uri": "https://localhost:8080/"
        },
        "id": "rkg0uwaoApYm",
        "outputId": "ca04bf07-0cc9-44ad-a233-d1099132c5be"
      },
      "outputs": [
        {
          "name": "stdout",
          "output_type": "stream",
          "text": [
            "[[ 36   1]\n",
            " [  2 161]]\n"
          ]
        }
      ],
      "source": [
        "# Not Normalized\n",
        "cm = confusion_matrix(labels_test, y_pred.round())\n",
        "print(cm)"
      ]
    },
    {
      "cell_type": "code",
      "execution_count": null,
      "metadata": {
        "colab": {
          "base_uri": "https://localhost:8080/"
        },
        "id": "jENNOPqrAqSG",
        "outputId": "475b8b3b-dc51-4f81-a869-ae7f64bb6070"
      },
      "outputs": [
        {
          "name": "stdout",
          "output_type": "stream",
          "text": [
            "[[0.97297297 0.02702703]\n",
            " [0.01226994 0.98773006]]\n"
          ]
        }
      ],
      "source": [
        "# Normalized\n",
        "cm = confusion_matrix(labels_test, y_pred.round(), normalize = 'true')\n",
        "print(cm)"
      ]
    },
    {
      "cell_type": "code",
      "execution_count": null,
      "metadata": {
        "colab": {
          "base_uri": "https://localhost:8080/",
          "height": 279
        },
        "id": "My4nKqovAz0h",
        "outputId": "76eef201-4e45-4291-fbd3-7ef9a88ea298"
      },
      "outputs": [
        {
          "data": {
            "image/png": "[encoded data removed]",
            "text/plain": [
              "<Figure size 432x288 with 2 Axes>"
            ]
          },
          "metadata": {},
          "output_type": "display_data"
        }
      ],
      "source": [
        "disp = ConfusionMatrixDisplay(confusion_matrix=cm, display_labels=['Not tumor', 'Tumor'])\n",
        "disp = disp.plot(cmap=plt.cm.Blues)\n",
        "plt.show()"
      ]
    },
    {
      "cell_type": "code",
      "execution_count": null,
      "metadata": {
        "id": "TYpb2ofdi14p"
      },
      "outputs": [],
      "source": [
        "model.save(\"tumor_classification.h5\")\n",
        "print(\"Saved model to disk\")"
      ]
    },
    {
      "cell_type": "markdown",
      "metadata": {
        "id": "2emkpJVcyjiF"
      },
      "source": [
        "### 4.  Multi-label"
      ]
    },
    {
      "cell_type": "code",
      "execution_count": null,
      "metadata": {
        "colab": {
          "base_uri": "https://localhost:8080/"
        },
        "id": "o3Zsszz3EJo_",
        "outputId": "709b826c-3825-45de-a20f-da459fa7490f"
      },
      "outputs": [
        {
          "output_type": "stream",
          "name": "stdout",
          "text": [
            "Found 2400 validated image filenames belonging to 4 classes.\n",
            "Found 600 validated image filenames belonging to 4 classes.\n",
            "------------------------------------------------------------------------\n",
            "Training for fold 1 ...\n",
            "Epoch 1/20\n",
            "24/24 [==============================] - 16s 608ms/step - loss: 1.1987 - accuracy: 0.5875\n",
            "Epoch 2/20\n",
            "24/24 [==============================] - 13s 542ms/step - loss: 0.6650 - accuracy: 0.7575\n",
            "Epoch 3/20\n",
            "24/24 [==============================] - 13s 553ms/step - loss: 0.5085 - accuracy: 0.8112\n",
            "Epoch 4/20\n",
            "24/24 [==============================] - 14s 561ms/step - loss: 0.3830 - accuracy: 0.8508\n",
            "Epoch 5/20\n",
            "24/24 [==============================] - 14s 563ms/step - loss: 0.3271 - accuracy: 0.8725\n",
            "Epoch 6/20\n",
            "24/24 [==============================] - 13s 552ms/step - loss: 0.2912 - accuracy: 0.8875\n",
            "Epoch 7/20\n",
            "24/24 [==============================] - 13s 551ms/step - loss: 0.2110 - accuracy: 0.9196\n",
            "Epoch 8/20\n",
            "24/24 [==============================] - 14s 558ms/step - loss: 0.1639 - accuracy: 0.9367\n",
            "Epoch 9/20\n",
            "24/24 [==============================] - 13s 554ms/step - loss: 0.1380 - accuracy: 0.9483\n",
            "Epoch 10/20\n",
            "24/24 [==============================] - 13s 550ms/step - loss: 0.1368 - accuracy: 0.9546\n",
            "Epoch 11/20\n",
            "24/24 [==============================] - 13s 547ms/step - loss: 0.1023 - accuracy: 0.9638\n",
            "Epoch 12/20\n",
            "24/24 [==============================] - 13s 554ms/step - loss: 0.0865 - accuracy: 0.9692\n",
            "Epoch 13/20\n",
            "24/24 [==============================] - 13s 551ms/step - loss: 0.0846 - accuracy: 0.9712\n",
            "Epoch 14/20\n",
            "24/24 [==============================] - 13s 548ms/step - loss: 0.0726 - accuracy: 0.9767\n",
            "Epoch 15/20\n",
            "24/24 [==============================] - 14s 562ms/step - loss: 0.0706 - accuracy: 0.9742\n",
            "Epoch 16/20\n",
            "24/24 [==============================] - 13s 546ms/step - loss: 0.0528 - accuracy: 0.9817\n",
            "Epoch 17/20\n",
            "24/24 [==============================] - 13s 557ms/step - loss: 0.0553 - accuracy: 0.9817\n",
            "Epoch 18/20\n",
            "24/24 [==============================] - 13s 555ms/step - loss: 0.0519 - accuracy: 0.9829\n",
            "Epoch 19/20\n",
            "24/24 [==============================] - 14s 560ms/step - loss: 0.0398 - accuracy: 0.9867\n",
            "Epoch 20/20\n",
            "24/24 [==============================] - 13s 553ms/step - loss: 0.0349 - accuracy: 0.9908\n",
            "Epoch 1/5\n",
            "24/24 [==============================] - 18s 660ms/step - loss: 0.0603 - accuracy: 0.9825\n",
            "Epoch 2/5\n",
            "24/24 [==============================] - 16s 663ms/step - loss: 0.0335 - accuracy: 0.9904\n",
            "Epoch 3/5\n",
            "24/24 [==============================] - 16s 661ms/step - loss: 0.0247 - accuracy: 0.9925\n",
            "Epoch 4/5\n",
            "24/24 [==============================] - 16s 658ms/step - loss: 0.0178 - accuracy: 0.9967\n",
            "Epoch 5/5\n",
            "24/24 [==============================] - 16s 663ms/step - loss: 0.0137 - accuracy: 0.9983\n",
            "6/6 [==============================] - 5s 774ms/step - loss: 0.3383 - accuracy: 0.9000\n",
            "Score for fold 1: loss of 0.3383183777332306; accuracy of 89.99999761581421%\n",
            "Found 2400 validated image filenames belonging to 4 classes.\n",
            "Found 600 validated image filenames belonging to 4 classes.\n",
            "------------------------------------------------------------------------\n",
            "Training for fold 2 ...\n",
            "Epoch 1/20\n",
            "24/24 [==============================] - 15s 552ms/step - loss: 1.2514 - accuracy: 0.5717\n",
            "Epoch 2/20\n",
            "24/24 [==============================] - 13s 555ms/step - loss: 0.6739 - accuracy: 0.7567\n",
            "Epoch 3/20\n",
            "24/24 [==============================] - 13s 551ms/step - loss: 0.5127 - accuracy: 0.8188\n",
            "Epoch 4/20\n",
            "24/24 [==============================] - 13s 553ms/step - loss: 0.4115 - accuracy: 0.8500\n",
            "Epoch 5/20\n",
            "24/24 [==============================] - 13s 553ms/step - loss: 0.3369 - accuracy: 0.8729\n",
            "Epoch 6/20\n",
            "24/24 [==============================] - 14s 557ms/step - loss: 0.2541 - accuracy: 0.8988\n",
            "Epoch 7/20\n",
            "24/24 [==============================] - 13s 551ms/step - loss: 0.2029 - accuracy: 0.9237\n",
            "Epoch 8/20\n",
            "24/24 [==============================] - 13s 556ms/step - loss: 0.1588 - accuracy: 0.9425\n",
            "Epoch 9/20\n",
            "24/24 [==============================] - 13s 549ms/step - loss: 0.1500 - accuracy: 0.9429\n",
            "Epoch 10/20\n",
            "24/24 [==============================] - 13s 551ms/step - loss: 0.1196 - accuracy: 0.9550\n",
            "Epoch 11/20\n",
            "24/24 [==============================] - 13s 548ms/step - loss: 0.1058 - accuracy: 0.9621\n",
            "Epoch 12/20\n",
            "24/24 [==============================] - 13s 547ms/step - loss: 0.1005 - accuracy: 0.9625\n",
            "Epoch 13/20\n",
            "24/24 [==============================] - 13s 543ms/step - loss: 0.0776 - accuracy: 0.9725\n",
            "Epoch 14/20\n",
            "24/24 [==============================] - 13s 545ms/step - loss: 0.0747 - accuracy: 0.9750\n",
            "Epoch 15/20\n",
            "24/24 [==============================] - 13s 540ms/step - loss: 0.0652 - accuracy: 0.9754\n",
            "Epoch 16/20\n",
            "24/24 [==============================] - 13s 551ms/step - loss: 0.0632 - accuracy: 0.9787\n",
            "Epoch 17/20\n",
            "24/24 [==============================] - 13s 557ms/step - loss: 0.0462 - accuracy: 0.9833\n",
            "Epoch 18/20\n",
            "24/24 [==============================] - 14s 555ms/step - loss: 0.0536 - accuracy: 0.9825\n",
            "Epoch 19/20\n",
            "24/24 [==============================] - 13s 549ms/step - loss: 0.0421 - accuracy: 0.9871\n",
            "Epoch 20/20\n",
            "24/24 [==============================] - 13s 547ms/step - loss: 0.0455 - accuracy: 0.9850\n",
            "Epoch 1/5\n",
            "24/24 [==============================] - 18s 660ms/step - loss: 0.0526 - accuracy: 0.9829\n",
            "Epoch 2/5\n",
            "24/24 [==============================] - 16s 654ms/step - loss: 0.0450 - accuracy: 0.9850\n",
            "Epoch 3/5\n",
            "24/24 [==============================] - 16s 659ms/step - loss: 0.0349 - accuracy: 0.9900\n",
            "Epoch 4/5\n",
            "24/24 [==============================] - 16s 645ms/step - loss: 0.0268 - accuracy: 0.9929\n",
            "Epoch 5/5\n",
            "24/24 [==============================] - 16s 656ms/step - loss: 0.0160 - accuracy: 0.9962\n",
            "6/6 [==============================] - 4s 545ms/step - loss: 0.4650 - accuracy: 0.9083\n",
            "Score for fold 2: loss of 0.4650341868400574; accuracy of 90.83333611488342%\n",
            "Found 2400 validated image filenames belonging to 4 classes.\n",
            "Found 600 validated image filenames belonging to 4 classes.\n",
            "------------------------------------------------------------------------\n",
            "Training for fold 3 ...\n",
            "Epoch 1/20\n",
            "24/24 [==============================] - 14s 538ms/step - loss: 1.2215 - accuracy: 0.5821\n",
            "Epoch 2/20\n",
            "24/24 [==============================] - 13s 538ms/step - loss: 0.6311 - accuracy: 0.7658\n",
            "Epoch 3/20\n",
            "24/24 [==============================] - 13s 547ms/step - loss: 0.4964 - accuracy: 0.8133\n",
            "Epoch 4/20\n",
            "24/24 [==============================] - 13s 536ms/step - loss: 0.3920 - accuracy: 0.8479\n",
            "Epoch 5/20\n",
            "24/24 [==============================] - 13s 540ms/step - loss: 0.3031 - accuracy: 0.8792\n",
            "Epoch 6/20\n",
            "24/24 [==============================] - 13s 548ms/step - loss: 0.2381 - accuracy: 0.9042\n",
            "Epoch 7/20\n",
            "24/24 [==============================] - 13s 542ms/step - loss: 0.1814 - accuracy: 0.9300\n",
            "Epoch 8/20\n",
            "24/24 [==============================] - 13s 544ms/step - loss: 0.1565 - accuracy: 0.9400\n",
            "Epoch 9/20\n",
            "24/24 [==============================] - 13s 550ms/step - loss: 0.1228 - accuracy: 0.9538\n",
            "Epoch 10/20\n",
            "24/24 [==============================] - 14s 559ms/step - loss: 0.0998 - accuracy: 0.9658\n",
            "Epoch 11/20\n",
            "24/24 [==============================] - 13s 551ms/step - loss: 0.0929 - accuracy: 0.9633\n",
            "Epoch 12/20\n",
            "24/24 [==============================] - 13s 546ms/step - loss: 0.0714 - accuracy: 0.9767\n",
            "Epoch 13/20\n",
            "24/24 [==============================] - 13s 548ms/step - loss: 0.0721 - accuracy: 0.9742\n",
            "Epoch 14/20\n",
            "24/24 [==============================] - 13s 548ms/step - loss: 0.0630 - accuracy: 0.9787\n",
            "Epoch 15/20\n",
            "24/24 [==============================] - 13s 545ms/step - loss: 0.0581 - accuracy: 0.9812\n",
            "Epoch 16/20\n",
            "24/24 [==============================] - 13s 549ms/step - loss: 0.0482 - accuracy: 0.9854\n",
            "Epoch 17/20\n",
            "24/24 [==============================] - 13s 550ms/step - loss: 0.0398 - accuracy: 0.9879\n",
            "Epoch 18/20\n",
            "24/24 [==============================] - 13s 547ms/step - loss: 0.0383 - accuracy: 0.9900\n",
            "Epoch 19/20\n",
            "24/24 [==============================] - 13s 547ms/step - loss: 0.0340 - accuracy: 0.9908\n",
            "Epoch 20/20\n",
            "24/24 [==============================] - 13s 548ms/step - loss: 0.0344 - accuracy: 0.9904\n",
            "Epoch 1/5\n",
            "24/24 [==============================] - 18s 661ms/step - loss: 0.0520 - accuracy: 0.9837\n",
            "Epoch 2/5\n",
            "24/24 [==============================] - 16s 659ms/step - loss: 0.0487 - accuracy: 0.9821\n",
            "Epoch 3/5\n",
            "24/24 [==============================] - 16s 661ms/step - loss: 0.0364 - accuracy: 0.9887\n",
            "Epoch 4/5\n",
            "24/24 [==============================] - 16s 661ms/step - loss: 0.0147 - accuracy: 0.9975\n",
            "Epoch 5/5\n",
            "24/24 [==============================] - 16s 660ms/step - loss: 0.0154 - accuracy: 0.9967\n",
            "6/6 [==============================] - 4s 538ms/step - loss: 0.3196 - accuracy: 0.9200\n",
            "Score for fold 3: loss of 0.3195931315422058; accuracy of 92.00000166893005%\n",
            "Found 2400 validated image filenames belonging to 4 classes.\n",
            "Found 600 validated image filenames belonging to 4 classes.\n",
            "------------------------------------------------------------------------\n",
            "Training for fold 4 ...\n",
            "Epoch 1/20\n",
            "24/24 [==============================] - 15s 564ms/step - loss: 1.2689 - accuracy: 0.5688\n",
            "Epoch 2/20\n",
            "24/24 [==============================] - 14s 586ms/step - loss: 0.6887 - accuracy: 0.7471\n",
            "Epoch 3/20\n",
            "24/24 [==============================] - 14s 568ms/step - loss: 0.5300 - accuracy: 0.8004\n",
            "Epoch 4/20\n",
            "24/24 [==============================] - 14s 566ms/step - loss: 0.3895 - accuracy: 0.8537\n",
            "Epoch 5/20\n",
            "24/24 [==============================] - 14s 563ms/step - loss: 0.3229 - accuracy: 0.8788\n",
            "Epoch 6/20\n",
            "24/24 [==============================] - 13s 550ms/step - loss: 0.2607 - accuracy: 0.9033\n",
            "Epoch 7/20\n",
            "24/24 [==============================] - 13s 549ms/step - loss: 0.2219 - accuracy: 0.9162\n",
            "Epoch 8/20\n",
            "24/24 [==============================] - 13s 555ms/step - loss: 0.1721 - accuracy: 0.9333\n",
            "Epoch 9/20\n",
            "24/24 [==============================] - 13s 554ms/step - loss: 0.1444 - accuracy: 0.9458\n",
            "Epoch 10/20\n",
            "24/24 [==============================] - 14s 559ms/step - loss: 0.1225 - accuracy: 0.9558\n",
            "Epoch 11/20\n",
            "24/24 [==============================] - 14s 569ms/step - loss: 0.1147 - accuracy: 0.9558\n",
            "Epoch 12/20\n",
            "24/24 [==============================] - 14s 562ms/step - loss: 0.0901 - accuracy: 0.9671\n",
            "Epoch 13/20\n",
            "24/24 [==============================] - 14s 564ms/step - loss: 0.0702 - accuracy: 0.9783\n",
            "Epoch 14/20\n",
            "24/24 [==============================] - 14s 567ms/step - loss: 0.0734 - accuracy: 0.9746\n",
            "Epoch 15/20\n",
            "24/24 [==============================] - 14s 556ms/step - loss: 0.0580 - accuracy: 0.9817\n",
            "Epoch 16/20\n",
            "24/24 [==============================] - 14s 559ms/step - loss: 0.0648 - accuracy: 0.9792\n",
            "Epoch 17/20\n",
            "24/24 [==============================] - 13s 550ms/step - loss: 0.0570 - accuracy: 0.9829\n",
            "Epoch 18/20\n",
            "24/24 [==============================] - 13s 548ms/step - loss: 0.0525 - accuracy: 0.9858\n",
            "Epoch 19/20\n",
            "24/24 [==============================] - 13s 556ms/step - loss: 0.0393 - accuracy: 0.9879\n",
            "Epoch 20/20\n",
            "24/24 [==============================] - 13s 553ms/step - loss: 0.0389 - accuracy: 0.9871\n",
            "Epoch 1/5\n",
            "24/24 [==============================] - 18s 669ms/step - loss: 0.0563 - accuracy: 0.9804\n",
            "Epoch 2/5\n",
            "24/24 [==============================] - 16s 660ms/step - loss: 0.0392 - accuracy: 0.9875\n",
            "Epoch 3/5\n",
            "24/24 [==============================] - 16s 664ms/step - loss: 0.0282 - accuracy: 0.9917\n",
            "Epoch 4/5\n",
            "24/24 [==============================] - 16s 658ms/step - loss: 0.0269 - accuracy: 0.9917\n",
            "Epoch 5/5\n",
            "24/24 [==============================] - 16s 664ms/step - loss: 0.0173 - accuracy: 0.9967\n",
            "6/6 [==============================] - 4s 548ms/step - loss: 0.3307 - accuracy: 0.9050\n",
            "Score for fold 4: loss of 0.3307117521762848; accuracy of 90.49999713897705%\n",
            "Found 2400 validated image filenames belonging to 4 classes.\n",
            "Found 600 validated image filenames belonging to 4 classes.\n",
            "------------------------------------------------------------------------\n",
            "Training for fold 5 ...\n",
            "Epoch 1/20\n",
            "24/24 [==============================] - 15s 549ms/step - loss: 1.2108 - accuracy: 0.5908\n",
            "Epoch 2/20\n",
            "24/24 [==============================] - 13s 550ms/step - loss: 0.6532 - accuracy: 0.7596\n",
            "Epoch 3/20\n",
            "24/24 [==============================] - 13s 551ms/step - loss: 0.4961 - accuracy: 0.8154\n",
            "Epoch 4/20\n",
            "24/24 [==============================] - 13s 547ms/step - loss: 0.3774 - accuracy: 0.8596\n",
            "Epoch 5/20\n",
            "24/24 [==============================] - 13s 547ms/step - loss: 0.3194 - accuracy: 0.8833\n",
            "Epoch 6/20\n",
            "24/24 [==============================] - 13s 551ms/step - loss: 0.2502 - accuracy: 0.9083\n",
            "Epoch 7/20\n",
            "24/24 [==============================] - 13s 548ms/step - loss: 0.2165 - accuracy: 0.9212\n",
            "Epoch 8/20\n",
            "24/24 [==============================] - 13s 555ms/step - loss: 0.1781 - accuracy: 0.9342\n",
            "Epoch 9/20\n",
            "24/24 [==============================] - 13s 553ms/step - loss: 0.1451 - accuracy: 0.9467\n",
            "Epoch 10/20\n",
            "24/24 [==============================] - 13s 549ms/step - loss: 0.1321 - accuracy: 0.9542\n",
            "Epoch 11/20\n",
            "24/24 [==============================] - 13s 551ms/step - loss: 0.1115 - accuracy: 0.9617\n",
            "Epoch 12/20\n",
            "24/24 [==============================] - 13s 551ms/step - loss: 0.0977 - accuracy: 0.9625\n",
            "Epoch 13/20\n",
            "24/24 [==============================] - 14s 566ms/step - loss: 0.0721 - accuracy: 0.9783\n",
            "Epoch 14/20\n",
            "24/24 [==============================] - 14s 560ms/step - loss: 0.0640 - accuracy: 0.9796\n",
            "Epoch 15/20\n",
            "24/24 [==============================] - 13s 553ms/step - loss: 0.0698 - accuracy: 0.9746\n",
            "Epoch 16/20\n",
            "24/24 [==============================] - 13s 552ms/step - loss: 0.0603 - accuracy: 0.9787\n",
            "Epoch 17/20\n",
            "24/24 [==============================] - 14s 558ms/step - loss: 0.0539 - accuracy: 0.9812\n",
            "Epoch 18/20\n",
            "24/24 [==============================] - 14s 564ms/step - loss: 0.0361 - accuracy: 0.9887\n",
            "Epoch 19/20\n",
            "24/24 [==============================] - 13s 551ms/step - loss: 0.0340 - accuracy: 0.9900\n",
            "Epoch 20/20\n",
            "24/24 [==============================] - 13s 548ms/step - loss: 0.0282 - accuracy: 0.9925\n",
            "Epoch 1/5\n",
            "24/24 [==============================] - 18s 648ms/step - loss: 0.0474 - accuracy: 0.9833\n",
            "Epoch 2/5\n",
            "24/24 [==============================] - 16s 651ms/step - loss: 0.0343 - accuracy: 0.9900\n",
            "Epoch 3/5\n",
            "24/24 [==============================] - 16s 650ms/step - loss: 0.0282 - accuracy: 0.9917\n",
            "Epoch 4/5\n",
            "24/24 [==============================] - 16s 644ms/step - loss: 0.0240 - accuracy: 0.9929\n",
            "Epoch 5/5\n",
            "24/24 [==============================] - 16s 643ms/step - loss: 0.0183 - accuracy: 0.9950\n",
            "6/6 [==============================] - 4s 530ms/step - loss: 0.3957 - accuracy: 0.9017\n",
            "Score for fold 5: loss of 0.39569026231765747; accuracy of 90.16666412353516%\n"
          ]
        }
      ],
      "source": [
        "from keras.applications.vgg16 import VGG16\n",
        "#from keras.applications.inception_v3 import InceptionV3\n",
        "#from tensorflow.keras.applications import ResNet50\n",
        "\n",
        "\n",
        "kfold = KFold(n_splits=5, shuffle=True)\n",
        "fold_no = 1\n",
        "\n",
        "acc_per_fold = []\n",
        "loss_per_fold = []\n",
        "\n",
        "X = df_labels.loc[:,'file_name']\n",
        "y = df_labels.loc[:,'tumor_type']\n",
        "\n",
        " \n",
        "for train, val in kfold.split(X, y):\n",
        "\n",
        "  # prepare Train df\n",
        "  df_train = pd.DataFrame(columns=['file_name','tumor_type'])\n",
        "  df_train['file_name'] = X[train]\n",
        "  df_train['tumor_type'] = y[train]\n",
        "  df_train.reset_index(drop=True, inplace=True)\n",
        "\n",
        "\n",
        "  # prepare val df\n",
        "  df_val= pd.DataFrame(columns=['file_name','tumor_type'])\n",
        "  df_val['file_name'] = X[val]\n",
        "  df_val['tumor_type'] = y[val]\n",
        "  df_val.reset_index(drop=True, inplace=True)\n",
        "\n",
        "\n",
        "  input_tensor = Input(shape=(100, 100, 3))\n",
        "  base_model = VGG16(weights='imagenet', include_top=False, input_shape=(100, 100, 3))\n",
        "\n",
        "\n",
        "    # Freeze all the layers\n",
        "  for layer in base_model.layers[:]:\n",
        "      layer.trainable = False\n",
        "\n",
        "  model = Sequential()\n",
        "  model.add(base_model)\n",
        "\n",
        "  model.add(Flatten(input_shape=base_model.output_shape[1:]))\n",
        "\n",
        "  model.add(Dense(256))\n",
        "  model.add(LeakyReLU(alpha=0.1))\n",
        "  model.add(BatchNormalization())\n",
        "  model.add(Dropout(0.5))\n",
        "\n",
        "  model.add(Dense(128))\n",
        "  model.add(LeakyReLU(alpha=0.1))\n",
        "  model.add(BatchNormalization())\n",
        "  model.add(Dropout(0.5))\n",
        "  model.add(Dense(4, activation='softmax'))\n",
        "\n",
        "\n",
        "  class_weights = class_weight.compute_class_weight(class_weight= 'balanced', classes = np.unique(y[train]), y= y[train])\n",
        "  computed_class_weights = dict(zip(np.unique(y[train]), class_weights))\n",
        "\n",
        "\n",
        "  train_datagen = ImageDataGenerator(horizontal_flip=True,\n",
        "                                     brightness_range=[0.5,1]\n",
        "                                     )\n",
        "  \n",
        "  df_train['tumor_type'] = df_train['tumor_type'].astype('str')\n",
        "  \n",
        "  train_generator = train_datagen.flow_from_dataframe(dataframe=df_train, \n",
        "                                              directory='/content/drive/MyDrive/data/Brain/crop',\n",
        "                                              x_col=\"file_name\", \n",
        "                                              y_col=\"tumor_type\",                          \n",
        "                                              class_mode=\"sparse\", \n",
        "                                              target_size=(100, 100), \n",
        "                                              batch_size=100,\n",
        "                                              rescale=1.0/255,\n",
        "                                              #subset=\"training\",\n",
        "                                              seed=2020,\n",
        "                                              shuffle=False)\n",
        "\n",
        "\n",
        "  val_datagen = ImageDataGenerator()\n",
        "  df_val['tumor_type'] = df_val['tumor_type'].astype('str')\n",
        "  \n",
        "  val_generator = val_datagen.flow_from_dataframe(dataframe=df_val, \n",
        "                                                   directory='/content/drive/MyDrive/data/Brain/crop',\n",
        "                                                   x_col=\"file_name\", \n",
        "                                                   y_col=\"tumor_type\", \n",
        "                                                   class_mode=\"sparse\", \n",
        "                                                   target_size=(100, 100), \n",
        "                                                   batch_size=100,\n",
        "                                                   rescale=1.0/255,\n",
        "                                                   seed=2020,\n",
        "                                                   shuffle=False)\n",
        "  \n",
        "  model.compile(loss=keras.losses.SparseCategoricalCrossentropy(), optimizer='adam', metrics=['accuracy'])\n",
        "\n",
        "\n",
        "  print('------------------------------------------------------------------------')\n",
        "  print(f'Training for fold {fold_no} ...')\n",
        "\n",
        "  history = model.fit(train_generator, batch_size=100, epochs=20, class_weight = computed_class_weights, verbose=1)\n",
        "\n",
        "\n",
        "  for layer in model.submodules:\n",
        "      layer.trainable = True\n",
        "\n",
        "  initial_learning_rate = 1e-5\n",
        "  \n",
        "  lr_schedule = tf.keras.optimizers.schedules.ExponentialDecay(\n",
        "     initial_learning_rate, decay_steps=100000, decay_rate=0.96, staircase=True\n",
        "  )\n",
        "\n",
        "  model.compile(optimizer=tf.keras.optimizers.Adam(learning_rate=lr_schedule),\n",
        "                loss=keras.losses.SparseCategoricalCrossentropy(),\n",
        "                metrics=['accuracy'])\n",
        "  \n",
        "  history = model.fit(train_generator, batch_size=100, epochs=5, class_weight = computed_class_weights, verbose=1)\n",
        "\n",
        "\n",
        "  scores = model.evaluate(val_generator)\n",
        "  print(f'Score for fold {fold_no}: {model.metrics_names[0]} of {scores[0]}; {model.metrics_names[1]} of {scores[1]*100}%')\n",
        "  acc_per_fold.append(scores[1] * 100)\n",
        "  loss_per_fold.append(scores[0])\n",
        "\n",
        "  fold_no = fold_no + 1"
      ]
    },
    {
      "cell_type": "code",
      "execution_count": null,
      "metadata": {
        "colab": {
          "base_uri": "https://localhost:8080/"
        },
        "id": "vRZEjcSFUXW2",
        "outputId": "becc6f32-7324-48c2-9081-bc29d9fb2fad"
      },
      "outputs": [
        {
          "output_type": "stream",
          "name": "stdout",
          "text": [
            "90.70 is the cross validation accuracy with 5 folds, with a standard deviation of 0.71\n"
          ]
        }
      ],
      "source": [
        "print(\"%0.2f is the cross validation accuracy with 5 folds, with a standard deviation of %0.2f\" % (np.mean(acc_per_fold), np.std(acc_per_fold)))"
      ]
    },
    {
      "cell_type": "code",
      "execution_count": null,
      "metadata": {
        "colab": {
          "base_uri": "https://localhost:8080/"
        },
        "id": "9lYHsIs4Ub2n",
        "outputId": "4fe77613-5d92-400b-ccab-59f7d84b2dfc"
      },
      "outputs": [
        {
          "output_type": "stream",
          "name": "stdout",
          "text": [
            "Found 200 validated image filenames belonging to 4 classes.\n"
          ]
        }
      ],
      "source": [
        "\n",
        "test_datagen = ImageDataGenerator()\n",
        "df_labels_test['tumor_type'] = df_labels_test['tumor_type'].astype('str')\n",
        "  \n",
        "test_generator = test_datagen.flow_from_dataframe(dataframe=df_labels_test, \n",
        "                                                directory='/content/drive/MyDrive/data/Brain/test_dataset/test/crop',\n",
        "                                                x_col=\"file_name\", \n",
        "                                                y_col=\"tumor_type\", \n",
        "                                                class_mode=\"sparse\", \n",
        "                                                target_size=(100, 100), \n",
        "                                                batch_size=100,\n",
        "                                                rescale=1.0/255,\n",
        "                                                seed=2020,\n",
        "                                                shuffle=False)\n"
      ]
    },
    {
      "cell_type": "code",
      "execution_count": null,
      "metadata": {
        "id": "EZE5fCr3Uueg"
      },
      "outputs": [],
      "source": [
        "y_pred = model.predict(test_generator, verbose=0)"
      ]
    },
    {
      "cell_type": "code",
      "execution_count": null,
      "metadata": {
        "colab": {
          "base_uri": "https://localhost:8080/"
        },
        "id": "BWfx3jSUU7I2",
        "outputId": "50745899-e5e6-4ed4-848a-9e3d8c430735"
      },
      "outputs": [
        {
          "output_type": "stream",
          "name": "stdout",
          "text": [
            "              precision    recall  f1-score   support\n",
            "\n",
            "    No tumor     0.9459    0.9459    0.9459        37\n",
            "  meningioma     0.9206    0.8529    0.8855        68\n",
            "      glioma     0.8372    0.8372    0.8372        43\n",
            "   pituitary     0.8772    0.9615    0.9174        52\n",
            "\n",
            "    accuracy                         0.8950       200\n",
            "   macro avg     0.8952    0.8994    0.8965       200\n",
            "weighted avg     0.8961    0.8950    0.8946       200\n",
            "\n"
          ]
        }
      ],
      "source": [
        "#y_pred = model.predict(X_test)\n",
        "pred  = np.argmax(y_pred, axis = -1)\n",
        "target_names =  ['No tumor', 'meningioma','glioma', 'pituitary']\n",
        "print(classification_report(pd.to_numeric(df_labels_test.tumor_type), pred, target_names=target_names, digits=4))"
      ]
    },
    {
      "cell_type": "code",
      "source": [
        "# Not Normalized\n",
        "cm = confusion_matrix(pd.to_numeric(df_labels_test.tumor_type), pred.round())\n",
        "print(cm)"
      ],
      "metadata": {
        "colab": {
          "base_uri": "https://localhost:8080/"
        },
        "id": "1brVh7ylRhNe",
        "outputId": "9175132f-3cd1-47aa-e0a0-67a393adc234"
      },
      "execution_count": null,
      "outputs": [
        {
          "output_type": "stream",
          "name": "stdout",
          "text": [
            "[[35  0  2  0]\n",
            " [ 0 58  3  7]\n",
            " [ 2  5 36  0]\n",
            " [ 0  0  2 50]]\n"
          ]
        }
      ]
    },
    {
      "cell_type": "code",
      "source": [
        "# Normalized\n",
        "cm = confusion_matrix(pd.to_numeric(df_labels_test.tumor_type), pred.round(), normalize = 'true')\n",
        "print(cm)"
      ],
      "metadata": {
        "colab": {
          "base_uri": "https://localhost:8080/"
        },
        "id": "fD1JVigZSCqu",
        "outputId": "056ab88d-797d-4148-a4ae-7564a82166d1"
      },
      "execution_count": null,
      "outputs": [
        {
          "output_type": "stream",
          "name": "stdout",
          "text": [
            "[[0.94594595 0.         0.05405405 0.        ]\n",
            " [0.         0.85294118 0.04411765 0.10294118]\n",
            " [0.04651163 0.11627907 0.8372093  0.        ]\n",
            " [0.         0.         0.03846154 0.96153846]]\n"
          ]
        }
      ]
    },
    {
      "cell_type": "code",
      "source": [
        "disp = ConfusionMatrixDisplay(confusion_matrix=cm, display_labels=target_names)\n",
        "disp = disp.plot(cmap=plt.cm.Blues)\n",
        "plt.show()"
      ],
      "metadata": {
        "colab": {
          "base_uri": "https://localhost:8080/",
          "height": 279
        },
        "id": "1D6k40wjSNfo",
        "outputId": "7361c9c9-a0f3-4069-894a-599140cf22e8"
      },
      "execution_count": null,
      "outputs": [
        {
          "output_type": "display_data",
          "data": {
            "image/png": "[encoded data removed]",
            "text/plain": [
              "<Figure size 432x288 with 2 Axes>"
            ]
          },
          "metadata": {
            "needs_background": "light"
          }
        }
      ]
    }
  ],
  "metadata": {
    "accelerator": "GPU",
    "colab": {
      "collapsed_sections": [
        "BKEDNozvm7Cx",
        "Cav9b4mjFv3E",
        "e5NJDTPEE86r",
        "Rbypm8llLqsl",
        "i8dgvS0Bp3EQ",
        "8bmuMENjnWTf",
        "qe1ajjL1ndLP",
        "Xi1fAPDAGNcx",
        "D4Zt2Lqvr7-_",
        "g-RmBtzCWia0",
        "KcuOTydbVWx6",
        "Sa9j_WhCr-Eq",
        "2emkpJVcyjiF"
      ],
      "machine_shape": "hm",
      "name": "Brain_tumor_project.ipynb",
      "provenance": []
    },
    "kernelspec": {
      "display_name": "Python 3",
      "name": "python3"
    },
    "language_info": {
      "name": "python"
    },
    "widgets": {
      "application/vnd.jupyter.widget-state+json": {
        "03bb1783ca0147c1b1fa241f1fb6e9ed": {
          "model_module": "@jupyter-widgets/controls",
          "model_module_version": "1.5.0",
          "model_name": "ProgressStyleModel",
          "state": {
            "_model_module": "@jupyter-widgets/controls",
            "_model_module_version": "1.5.0",
            "_model_name": "ProgressStyleModel",
            "_view_count": null,
            "_view_module": "@jupyter-widgets/base",
            "_view_module_version": "1.2.0",
            "_view_name": "StyleView",
            "bar_color": null,
            "description_width": ""
          }
        },
        "0b5a0ae9ce9d4fc8ab47d2ea6345952e": {
          "model_module": "@jupyter-widgets/base",
          "model_module_version": "1.2.0",
          "model_name": "LayoutModel",
          "state": {
            "_model_module": "@jupyter-widgets/base",
            "_model_module_version": "1.2.0",
            "_model_name": "LayoutModel",
            "_view_count": null,
            "_view_module": "@jupyter-widgets/base",
            "_view_module_version": "1.2.0",
            "_view_name": "LayoutView",
            "align_content": null,
            "align_items": null,
            "align_self": null,
            "border": null,
            "bottom": null,
            "display": null,
            "flex": null,
            "flex_flow": null,
            "grid_area": null,
            "grid_auto_columns": null,
            "grid_auto_flow": null,
            "grid_auto_rows": null,
            "grid_column": null,
            "grid_gap": null,
            "grid_row": null,
            "grid_template_areas": null,
            "grid_template_columns": null,
            "grid_template_rows": null,
            "height": null,
            "justify_content": null,
            "justify_items": null,
            "left": null,
            "margin": null,
            "max_height": null,
            "max_width": null,
            "min_height": null,
            "min_width": null,
            "object_fit": null,
            "object_position": null,
            "order": null,
            "overflow": null,
            "overflow_x": null,
            "overflow_y": null,
            "padding": null,
            "right": null,
            "top": null,
            "visibility": null,
            "width": null
          }
        },
        "0f46145bb74543e88f9944c60d108094": {
          "model_module": "@jupyter-widgets/controls",
          "model_module_version": "1.5.0",
          "model_name": "DescriptionStyleModel",
          "state": {
            "_model_module": "@jupyter-widgets/controls",
            "_model_module_version": "1.5.0",
            "_model_name": "DescriptionStyleModel",
            "_view_count": null,
            "_view_module": "@jupyter-widgets/base",
            "_view_module_version": "1.2.0",
            "_view_name": "StyleView",
            "description_width": ""
          }
        },
        "24bae66521104353ad87704c0a7ca713": {
          "model_module": "@jupyter-widgets/controls",
          "model_module_version": "1.5.0",
          "model_name": "HTMLModel",
          "state": {
            "_dom_classes": [],
            "_model_module": "@jupyter-widgets/controls",
            "_model_module_version": "1.5.0",
            "_model_name": "HTMLModel",
            "_view_count": null,
            "_view_module": "@jupyter-widgets/controls",
            "_view_module_version": "1.5.0",
            "_view_name": "HTMLView",
            "description": "",
            "description_tooltip": null,
            "layout": "IPY_MODEL_2c96409264744c99be417693b75d6c18",
            "placeholder": "​",
            "style": "IPY_MODEL_bc857cae1cd24be7953fd86366868ff0",
            "value": "100%"
          }
        },
        "256eab9281154190a60b55260b6720cf": {
          "model_module": "@jupyter-widgets/base",
          "model_module_version": "1.2.0",
          "model_name": "LayoutModel",
          "state": {
            "_model_module": "@jupyter-widgets/base",
            "_model_module_version": "1.2.0",
            "_model_name": "LayoutModel",
            "_view_count": null,
            "_view_module": "@jupyter-widgets/base",
            "_view_module_version": "1.2.0",
            "_view_name": "LayoutView",
            "align_content": null,
            "align_items": null,
            "align_self": null,
            "border": null,
            "bottom": null,
            "display": null,
            "flex": null,
            "flex_flow": null,
            "grid_area": null,
            "grid_auto_columns": null,
            "grid_auto_flow": null,
            "grid_auto_rows": null,
            "grid_column": null,
            "grid_gap": null,
            "grid_row": null,
            "grid_template_areas": null,
            "grid_template_columns": null,
            "grid_template_rows": null,
            "height": null,
            "justify_content": null,
            "justify_items": null,
            "left": null,
            "margin": null,
            "max_height": null,
            "max_width": null,
            "min_height": null,
            "min_width": null,
            "object_fit": null,
            "object_position": null,
            "order": null,
            "overflow": null,
            "overflow_x": null,
            "overflow_y": null,
            "padding": null,
            "right": null,
            "top": null,
            "visibility": null,
            "width": null
          }
        },
        "2c96409264744c99be417693b75d6c18": {
          "model_module": "@jupyter-widgets/base",
          "model_module_version": "1.2.0",
          "model_name": "LayoutModel",
          "state": {
            "_model_module": "@jupyter-widgets/base",
            "_model_module_version": "1.2.0",
            "_model_name": "LayoutModel",
            "_view_count": null,
            "_view_module": "@jupyter-widgets/base",
            "_view_module_version": "1.2.0",
            "_view_name": "LayoutView",
            "align_content": null,
            "align_items": null,
            "align_self": null,
            "border": null,
            "bottom": null,
            "display": null,
            "flex": null,
            "flex_flow": null,
            "grid_area": null,
            "grid_auto_columns": null,
            "grid_auto_flow": null,
            "grid_auto_rows": null,
            "grid_column": null,
            "grid_gap": null,
            "grid_row": null,
            "grid_template_areas": null,
            "grid_template_columns": null,
            "grid_template_rows": null,
            "height": null,
            "justify_content": null,
            "justify_items": null,
            "left": null,
            "margin": null,
            "max_height": null,
            "max_width": null,
            "min_height": null,
            "min_width": null,
            "object_fit": null,
            "object_position": null,
            "order": null,
            "overflow": null,
            "overflow_x": null,
            "overflow_y": null,
            "padding": null,
            "right": null,
            "top": null,
            "visibility": null,
            "width": null
          }
        },
        "315557857b894ab7bb6a54a76e0ee5aa": {
          "model_module": "@jupyter-widgets/base",
          "model_module_version": "1.2.0",
          "model_name": "LayoutModel",
          "state": {
            "_model_module": "@jupyter-widgets/base",
            "_model_module_version": "1.2.0",
            "_model_name": "LayoutModel",
            "_view_count": null,
            "_view_module": "@jupyter-widgets/base",
            "_view_module_version": "1.2.0",
            "_view_name": "LayoutView",
            "align_content": null,
            "align_items": null,
            "align_self": null,
            "border": null,
            "bottom": null,
            "display": null,
            "flex": null,
            "flex_flow": null,
            "grid_area": null,
            "grid_auto_columns": null,
            "grid_auto_flow": null,
            "grid_auto_rows": null,
            "grid_column": null,
            "grid_gap": null,
            "grid_row": null,
            "grid_template_areas": null,
            "grid_template_columns": null,
            "grid_template_rows": null,
            "height": null,
            "justify_content": null,
            "justify_items": null,
            "left": null,
            "margin": null,
            "max_height": null,
            "max_width": null,
            "min_height": null,
            "min_width": null,
            "object_fit": null,
            "object_position": null,
            "order": null,
            "overflow": null,
            "overflow_x": null,
            "overflow_y": null,
            "padding": null,
            "right": null,
            "top": null,
            "visibility": null,
            "width": null
          }
        },
        "3189d92b958348c187aaa31f0aa9b414": {
          "model_module": "@jupyter-widgets/controls",
          "model_module_version": "1.5.0",
          "model_name": "FloatProgressModel",
          "state": {
            "_dom_classes": [],
            "_model_module": "@jupyter-widgets/controls",
            "_model_module_version": "1.5.0",
            "_model_name": "FloatProgressModel",
            "_view_count": null,
            "_view_module": "@jupyter-widgets/controls",
            "_view_module_version": "1.5.0",
            "_view_name": "ProgressView",
            "bar_style": "success",
            "description": "",
            "description_tooltip": null,
            "layout": "IPY_MODEL_48ab35b1790442b2929f8dcb07e252a0",
            "max": 3000,
            "min": 0,
            "orientation": "horizontal",
            "style": "IPY_MODEL_7111879ea24c4b7e820afddafd7d6ad3",
            "value": 3000
          }
        },
        "3b102a52c12e4832a87535813b6862a9": {
          "model_module": "@jupyter-widgets/controls",
          "model_module_version": "1.5.0",
          "model_name": "DescriptionStyleModel",
          "state": {
            "_model_module": "@jupyter-widgets/controls",
            "_model_module_version": "1.5.0",
            "_model_name": "DescriptionStyleModel",
            "_view_count": null,
            "_view_module": "@jupyter-widgets/base",
            "_view_module_version": "1.2.0",
            "_view_name": "StyleView",
            "description_width": ""
          }
        },
        "3c256b7eb2d14c6096a64246840d31bc": {
          "model_module": "@jupyter-widgets/controls",
          "model_module_version": "1.5.0",
          "model_name": "HTMLModel",
          "state": {
            "_dom_classes": [],
            "_model_module": "@jupyter-widgets/controls",
            "_model_module_version": "1.5.0",
            "_model_name": "HTMLModel",
            "_view_count": null,
            "_view_module": "@jupyter-widgets/controls",
            "_view_module_version": "1.5.0",
            "_view_name": "HTMLView",
            "description": "",
            "description_tooltip": null,
            "layout": "IPY_MODEL_0b5a0ae9ce9d4fc8ab47d2ea6345952e",
            "placeholder": "​",
            "style": "IPY_MODEL_3b102a52c12e4832a87535813b6862a9",
            "value": "100%"
          }
        },
        "42856b9d44cf44419f162507b4026a06": {
          "model_module": "@jupyter-widgets/base",
          "model_module_version": "1.2.0",
          "model_name": "LayoutModel",
          "state": {
            "_model_module": "@jupyter-widgets/base",
            "_model_module_version": "1.2.0",
            "_model_name": "LayoutModel",
            "_view_count": null,
            "_view_module": "@jupyter-widgets/base",
            "_view_module_version": "1.2.0",
            "_view_name": "LayoutView",
            "align_content": null,
            "align_items": null,
            "align_self": null,
            "border": null,
            "bottom": null,
            "display": null,
            "flex": null,
            "flex_flow": null,
            "grid_area": null,
            "grid_auto_columns": null,
            "grid_auto_flow": null,
            "grid_auto_rows": null,
            "grid_column": null,
            "grid_gap": null,
            "grid_row": null,
            "grid_template_areas": null,
            "grid_template_columns": null,
            "grid_template_rows": null,
            "height": null,
            "justify_content": null,
            "justify_items": null,
            "left": null,
            "margin": null,
            "max_height": null,
            "max_width": null,
            "min_height": null,
            "min_width": null,
            "object_fit": null,
            "object_position": null,
            "order": null,
            "overflow": null,
            "overflow_x": null,
            "overflow_y": null,
            "padding": null,
            "right": null,
            "top": null,
            "visibility": null,
            "width": null
          }
        },
        "4380695e2f4e4b368e7316f652c6202c": {
          "model_module": "@jupyter-widgets/controls",
          "model_module_version": "1.5.0",
          "model_name": "HBoxModel",
          "state": {
            "_dom_classes": [],
            "_model_module": "@jupyter-widgets/controls",
            "_model_module_version": "1.5.0",
            "_model_name": "HBoxModel",
            "_view_count": null,
            "_view_module": "@jupyter-widgets/controls",
            "_view_module_version": "1.5.0",
            "_view_name": "HBoxView",
            "box_style": "",
            "children": [
              "IPY_MODEL_24bae66521104353ad87704c0a7ca713",
              "IPY_MODEL_6a5fbb09028a47c6a9ba6934540bd26e",
              "IPY_MODEL_794537cadb2d4101944aca647f167793"
            ],
            "layout": "IPY_MODEL_924fa07a91644c1f95dd3e2b859dc602"
          }
        },
        "48ab35b1790442b2929f8dcb07e252a0": {
          "model_module": "@jupyter-widgets/base",
          "model_module_version": "1.2.0",
          "model_name": "LayoutModel",
          "state": {
            "_model_module": "@jupyter-widgets/base",
            "_model_module_version": "1.2.0",
            "_model_name": "LayoutModel",
            "_view_count": null,
            "_view_module": "@jupyter-widgets/base",
            "_view_module_version": "1.2.0",
            "_view_name": "LayoutView",
            "align_content": null,
            "align_items": null,
            "align_self": null,
            "border": null,
            "bottom": null,
            "display": null,
            "flex": null,
            "flex_flow": null,
            "grid_area": null,
            "grid_auto_columns": null,
            "grid_auto_flow": null,
            "grid_auto_rows": null,
            "grid_column": null,
            "grid_gap": null,
            "grid_row": null,
            "grid_template_areas": null,
            "grid_template_columns": null,
            "grid_template_rows": null,
            "height": null,
            "justify_content": null,
            "justify_items": null,
            "left": null,
            "margin": null,
            "max_height": null,
            "max_width": null,
            "min_height": null,
            "min_width": null,
            "object_fit": null,
            "object_position": null,
            "order": null,
            "overflow": null,
            "overflow_x": null,
            "overflow_y": null,
            "padding": null,
            "right": null,
            "top": null,
            "visibility": null,
            "width": null
          }
        },
        "4b96645cd4b34b6782d5aa4477b18102": {
          "model_module": "@jupyter-widgets/controls",
          "model_module_version": "1.5.0",
          "model_name": "HBoxModel",
          "state": {
            "_dom_classes": [],
            "_model_module": "@jupyter-widgets/controls",
            "_model_module_version": "1.5.0",
            "_model_name": "HBoxModel",
            "_view_count": null,
            "_view_module": "@jupyter-widgets/controls",
            "_view_module_version": "1.5.0",
            "_view_name": "HBoxView",
            "box_style": "",
            "children": [
              "IPY_MODEL_3c256b7eb2d14c6096a64246840d31bc",
              "IPY_MODEL_3189d92b958348c187aaa31f0aa9b414",
              "IPY_MODEL_e0d4a40806be44548f6a3f6b64dcdc9d"
            ],
            "layout": "IPY_MODEL_256eab9281154190a60b55260b6720cf"
          }
        },
        "6a5fbb09028a47c6a9ba6934540bd26e": {
          "model_module": "@jupyter-widgets/controls",
          "model_module_version": "1.5.0",
          "model_name": "FloatProgressModel",
          "state": {
            "_dom_classes": [],
            "_model_module": "@jupyter-widgets/controls",
            "_model_module_version": "1.5.0",
            "_model_name": "FloatProgressModel",
            "_view_count": null,
            "_view_module": "@jupyter-widgets/controls",
            "_view_module_version": "1.5.0",
            "_view_name": "ProgressView",
            "bar_style": "success",
            "description": "",
            "description_tooltip": null,
            "layout": "IPY_MODEL_42856b9d44cf44419f162507b4026a06",
            "max": 200,
            "min": 0,
            "orientation": "horizontal",
            "style": "IPY_MODEL_03bb1783ca0147c1b1fa241f1fb6e9ed",
            "value": 200
          }
        },
        "7111879ea24c4b7e820afddafd7d6ad3": {
          "model_module": "@jupyter-widgets/controls",
          "model_module_version": "1.5.0",
          "model_name": "ProgressStyleModel",
          "state": {
            "_model_module": "@jupyter-widgets/controls",
            "_model_module_version": "1.5.0",
            "_model_name": "ProgressStyleModel",
            "_view_count": null,
            "_view_module": "@jupyter-widgets/base",
            "_view_module_version": "1.2.0",
            "_view_name": "StyleView",
            "bar_color": null,
            "description_width": ""
          }
        },
        "794537cadb2d4101944aca647f167793": {
          "model_module": "@jupyter-widgets/controls",
          "model_module_version": "1.5.0",
          "model_name": "HTMLModel",
          "state": {
            "_dom_classes": [],
            "_model_module": "@jupyter-widgets/controls",
            "_model_module_version": "1.5.0",
            "_model_name": "HTMLModel",
            "_view_count": null,
            "_view_module": "@jupyter-widgets/controls",
            "_view_module_version": "1.5.0",
            "_view_name": "HTMLView",
            "description": "",
            "description_tooltip": null,
            "layout": "IPY_MODEL_315557857b894ab7bb6a54a76e0ee5aa",
            "placeholder": "​",
            "style": "IPY_MODEL_f4541599f58a4f74ade98a5a07f0b797",
            "value": " 200/200 [00:38&lt;00:00,  6.18it/s]"
          }
        },
        "8ef42854655e480781fbf27ef398152a": {
          "model_module": "@jupyter-widgets/base",
          "model_module_version": "1.2.0",
          "model_name": "LayoutModel",
          "state": {
            "_model_module": "@jupyter-widgets/base",
            "_model_module_version": "1.2.0",
            "_model_name": "LayoutModel",
            "_view_count": null,
            "_view_module": "@jupyter-widgets/base",
            "_view_module_version": "1.2.0",
            "_view_name": "LayoutView",
            "align_content": null,
            "align_items": null,
            "align_self": null,
            "border": null,
            "bottom": null,
            "display": null,
            "flex": null,
            "flex_flow": null,
            "grid_area": null,
            "grid_auto_columns": null,
            "grid_auto_flow": null,
            "grid_auto_rows": null,
            "grid_column": null,
            "grid_gap": null,
            "grid_row": null,
            "grid_template_areas": null,
            "grid_template_columns": null,
            "grid_template_rows": null,
            "height": null,
            "justify_content": null,
            "justify_items": null,
            "left": null,
            "margin": null,
            "max_height": null,
            "max_width": null,
            "min_height": null,
            "min_width": null,
            "object_fit": null,
            "object_position": null,
            "order": null,
            "overflow": null,
            "overflow_x": null,
            "overflow_y": null,
            "padding": null,
            "right": null,
            "top": null,
            "visibility": null,
            "width": null
          }
        },
        "924fa07a91644c1f95dd3e2b859dc602": {
          "model_module": "@jupyter-widgets/base",
          "model_module_version": "1.2.0",
          "model_name": "LayoutModel",
          "state": {
            "_model_module": "@jupyter-widgets/base",
            "_model_module_version": "1.2.0",
            "_model_name": "LayoutModel",
            "_view_count": null,
            "_view_module": "@jupyter-widgets/base",
            "_view_module_version": "1.2.0",
            "_view_name": "LayoutView",
            "align_content": null,
            "align_items": null,
            "align_self": null,
            "border": null,
            "bottom": null,
            "display": null,
            "flex": null,
            "flex_flow": null,
            "grid_area": null,
            "grid_auto_columns": null,
            "grid_auto_flow": null,
            "grid_auto_rows": null,
            "grid_column": null,
            "grid_gap": null,
            "grid_row": null,
            "grid_template_areas": null,
            "grid_template_columns": null,
            "grid_template_rows": null,
            "height": null,
            "justify_content": null,
            "justify_items": null,
            "left": null,
            "margin": null,
            "max_height": null,
            "max_width": null,
            "min_height": null,
            "min_width": null,
            "object_fit": null,
            "object_position": null,
            "order": null,
            "overflow": null,
            "overflow_x": null,
            "overflow_y": null,
            "padding": null,
            "right": null,
            "top": null,
            "visibility": null,
            "width": null
          }
        },
        "bc857cae1cd24be7953fd86366868ff0": {
          "model_module": "@jupyter-widgets/controls",
          "model_module_version": "1.5.0",
          "model_name": "DescriptionStyleModel",
          "state": {
            "_model_module": "@jupyter-widgets/controls",
            "_model_module_version": "1.5.0",
            "_model_name": "DescriptionStyleModel",
            "_view_count": null,
            "_view_module": "@jupyter-widgets/base",
            "_view_module_version": "1.2.0",
            "_view_name": "StyleView",
            "description_width": ""
          }
        },
        "e0d4a40806be44548f6a3f6b64dcdc9d": {
          "model_module": "@jupyter-widgets/controls",
          "model_module_version": "1.5.0",
          "model_name": "HTMLModel",
          "state": {
            "_dom_classes": [],
            "_model_module": "@jupyter-widgets/controls",
            "_model_module_version": "1.5.0",
            "_model_name": "HTMLModel",
            "_view_count": null,
            "_view_module": "@jupyter-widgets/controls",
            "_view_module_version": "1.5.0",
            "_view_name": "HTMLView",
            "description": "",
            "description_tooltip": null,
            "layout": "IPY_MODEL_8ef42854655e480781fbf27ef398152a",
            "placeholder": "​",
            "style": "IPY_MODEL_0f46145bb74543e88f9944c60d108094",
            "value": " 3000/3000 [09:44&lt;00:00,  5.09it/s]"
          }
        },
        "f4541599f58a4f74ade98a5a07f0b797": {
          "model_module": "@jupyter-widgets/controls",
          "model_module_version": "1.5.0",
          "model_name": "DescriptionStyleModel",
          "state": {
            "_model_module": "@jupyter-widgets/controls",
            "_model_module_version": "1.5.0",
            "_model_name": "DescriptionStyleModel",
            "_view_count": null,
            "_view_module": "@jupyter-widgets/base",
            "_view_module_version": "1.2.0",
            "_view_name": "StyleView",
            "description_width": ""
          }
        }
      }
    }
  },
  "nbformat": 4,
  "nbformat_minor": 0
}